{
 "cells": [
  {
   "cell_type": "markdown",
   "id": "2befc439",
   "metadata": {},
   "source": [
    "<a href=\"https://colab.research.google.com/github/issondl/from-data-to-solution-2021/blob/main/1_data_preparation_2.ipynb\" target=\"_parent\"><img src=\"https://colab.research.google.com/assets/colab-badge.svg\" alt=\"Open In Colab\"/></a>"
   ]
  },
  {
   "cell_type": "markdown",
   "id": "BUgjvBbysqfv",
   "metadata": {
    "id": "BUgjvBbysqfv"
   },
   "source": [
    "# Data preparation #2"
   ]
  },
  {
   "cell_type": "markdown",
   "id": "thpI4QzOqXO4",
   "metadata": {
    "id": "thpI4QzOqXO4"
   },
   "source": [
    "## Imports"
   ]
  },
  {
   "cell_type": "code",
   "execution_count": null,
   "id": "rdp8fzWWqZSA",
   "metadata": {
    "id": "rdp8fzWWqZSA"
   },
   "outputs": [],
   "source": [
    "import os\n",
    "import pandas as pd"
   ]
  },
  {
   "cell_type": "markdown",
   "id": "qzewomAcqbZC",
   "metadata": {
    "id": "qzewomAcqbZC"
   },
   "source": [
    "## Constants"
   ]
  },
  {
   "cell_type": "code",
   "execution_count": null,
   "id": "c10c6968-9b67-4c8b-9cb9-3b58ba0886c3",
   "metadata": {
    "id": "c10c6968-9b67-4c8b-9cb9-3b58ba0886c3"
   },
   "outputs": [],
   "source": [
    "DATA_DIR = 'data/'\n",
    "CSV_FILE = os.path.join(DATA_DIR, 'nih_chest_xray_single_9c.csv')\n",
    "BB_CSV_FILE = os.path.join(DATA_DIR, 'BBox_List_2017.csv')"
   ]
  },
  {
   "cell_type": "markdown",
   "id": "v2OKZ1tQqgf8",
   "metadata": {
    "id": "v2OKZ1tQqgf8"
   },
   "source": [
    "## Download the prepared CSV"
   ]
  },
  {
   "cell_type": "code",
   "execution_count": null,
   "id": "bff0845e-4127-4d09-aa25-9d7a319a282a",
   "metadata": {
    "colab": {
     "base_uri": "https://localhost:8080/"
    },
    "id": "bff0845e-4127-4d09-aa25-9d7a319a282a",
    "outputId": "86b4594d-acf4-4f07-fd5d-e00740ad8dc2"
   },
   "outputs": [],
   "source": [
    "os.makedirs(DATA_DIR, exist_ok=True)\n",
    "\n",
    "if not os.path.exists(CSV_FILE):\n",
    "    ! gdown --id 1gJJ5ZRfRicuxIoBWLYAUnfUs4yhJ97sX -O $CSV_FILE\n",
    "else:\n",
    "    print('File exists: {}'.format(CSV_FILE))\n",
    "\n",
    "if not os.path.exists(BB_CSV_FILE):\n",
    "    ! gdown --id 12fA_VUjnt-tyo1d0M2htyQ5w3-nIAVH_ -O $BB_CSV_FILE\n",
    "else:\n",
    "    print('File exists: {}'.format(BB_CSV_FILE))"
   ]
  },
  {
   "cell_type": "markdown",
   "id": "HUbCg2tDsiwE",
   "metadata": {
    "id": "HUbCg2tDsiwE"
   },
   "source": [
    "## Explore the dataset\n",
    "\n",
    "Tasks:\n",
    "\n",
    "1. Show `df`'s and `df_bb`'s statistics"
   ]
  },
  {
   "cell_type": "code",
   "execution_count": null,
   "id": "456e9277-d13c-400c-b5c4-e14d794dc388",
   "metadata": {
    "id": "456e9277-d13c-400c-b5c4-e14d794dc388"
   },
   "outputs": [],
   "source": [
    "df = pd.read_csv(CSV_FILE)\n",
    "df_bb = pd.read_csv(BB_CSV_FILE)"
   ]
  },
  {
   "cell_type": "code",
   "execution_count": null,
   "id": "J-NjCkWqsyXF",
   "metadata": {
    "colab": {
     "base_uri": "https://localhost:8080/",
     "height": 297
    },
    "id": "J-NjCkWqsyXF",
    "outputId": "b6a8b1fb-c3b1-45d7-8b6e-e0d1af29a4c4"
   },
   "outputs": [],
   "source": [
    "## Show `df`s statistics\n"
   ]
  },
  {
   "cell_type": "code",
   "execution_count": null,
   "id": "_jaT27MRti2E",
   "metadata": {
    "colab": {
     "base_uri": "https://localhost:8080/",
     "height": 297
    },
    "id": "_jaT27MRti2E",
    "outputId": "19bcf385-2df6-4e4f-8246-9d5418e8b00f"
   },
   "outputs": [],
   "source": [
    "## Show `df_bb`s statistics\n"
   ]
  },
  {
   "cell_type": "markdown",
   "id": "pKlxE6aPrx3z",
   "metadata": {
    "id": "pKlxE6aPrx3z"
   },
   "source": [
    "## Cleanup\n",
    "\n",
    "Tasks:\n",
    "\n",
    "1. Delete unused columns ('Unnamed: 0', 'Follow-up #', 'Patient ID', 'View Position', 'OriginalImage[Width', 'Height]', 'OriginalImagePixelSpacing[x', 'y]'). Resulting `df` should have 4 columns left.\n",
    "1. Remove redundant columns from `df_bb`\n",
    "1. Rename `Bbox [x`\t`y`\t`w`\t`h]` columns to `bb_x`, `bb_y`, `bb_w`, `bb_h` in `df_bb`"
   ]
  },
  {
   "cell_type": "code",
   "execution_count": null,
   "id": "S967S-aBr1QO",
   "metadata": {
    "colab": {
     "base_uri": "https://localhost:8080/",
     "height": 204
    },
    "id": "S967S-aBr1QO",
    "outputId": "a4129bba-de68-4cf5-b256-487ff6011641"
   },
   "outputs": [],
   "source": [
    "## Delete unused columns ('Unnamed: 0', 'Follow-up #', 'Patient ID',\n",
    "## 'View Position', 'OriginalImage[Width', 'Height]', 'OriginalImagePixelSpacing[x', 'y]').\n",
    "## Resulting `df` should have 4 columns left.\n"
   ]
  },
  {
   "cell_type": "code",
   "execution_count": null,
   "id": "lI0_ydP4trx9",
   "metadata": {
    "colab": {
     "base_uri": "https://localhost:8080/",
     "height": 204
    },
    "id": "lI0_ydP4trx9",
    "outputId": "6b7a67b0-379d-4c60-8bf8-cc4fca28720f"
   },
   "outputs": [],
   "source": [
    "## Remove redundant columns from `df_bb`\n"
   ]
  },
  {
   "cell_type": "code",
   "execution_count": null,
   "id": "VuklX7tduYQc",
   "metadata": {
    "colab": {
     "base_uri": "https://localhost:8080/",
     "height": 204
    },
    "id": "VuklX7tduYQc",
    "outputId": "079de080-8da3-4f03-e48f-24edf2281e2e"
   },
   "outputs": [],
   "source": [
    "## Rename `Bbox [x`\t`y`\t`w`\t`h]` columns to `bb_x`, `bb_y`, `bb_w`, `bb_h` in `df_bb`\n"
   ]
  },
  {
   "cell_type": "markdown",
   "id": "E5rTCpO0vf0l",
   "metadata": {
    "id": "E5rTCpO0vf0l"
   },
   "source": [
    "## Merge both data frames\n",
    "\n",
    "Tasks:\n",
    "\n",
    "1. Merge both dataframes"
   ]
  },
  {
   "cell_type": "code",
   "execution_count": null,
   "id": "0IeXwajwvpKD",
   "metadata": {
    "colab": {
     "base_uri": "https://localhost:8080/",
     "height": 419
    },
    "id": "0IeXwajwvpKD",
    "outputId": "76048423-95e8-481f-d12d-597ca35c027a"
   },
   "outputs": [],
   "source": [
    "## Merge both dataframes\n"
   ]
  },
  {
   "cell_type": "code",
   "execution_count": null,
   "id": "XZ1OEii9wTCY",
   "metadata": {
    "id": "XZ1OEii9wTCY"
   },
   "outputs": [],
   "source": [
    "## Rescale bounding box coordinates\n"
   ]
  },
  {
   "cell_type": "code",
   "execution_count": null,
   "id": "LpR7SnwSwrvE",
   "metadata": {
    "colab": {
     "base_uri": "https://localhost:8080/",
     "height": 297
    },
    "id": "LpR7SnwSwrvE",
    "outputId": "d30772ec-7604-4408-fd7e-c98e079c001b"
   },
   "outputs": [],
   "source": [
    "df.describe()"
   ]
  },
  {
   "cell_type": "markdown",
   "id": "827ca20d-a9e5-4320-ace1-ebe866bfdba2",
   "metadata": {
    "id": "827ca20d-a9e5-4320-ace1-ebe866bfdba2"
   },
   "source": [
    "## Encode categories\n",
    "\n",
    "Tasks:\n",
    "\n",
    "1. Add one-hot encoded labels to `df`"
   ]
  },
  {
   "cell_type": "code",
   "execution_count": null,
   "id": "cfe2f12e-d817-485e-9445-55b9f0fddd46",
   "metadata": {
    "colab": {
     "base_uri": "https://localhost:8080/",
     "height": 328
    },
    "id": "cfe2f12e-d817-485e-9445-55b9f0fddd46",
    "outputId": "568574b2-0646-480f-c849-319de4cc696a"
   },
   "outputs": [],
   "source": [
    "## Add one-hot encoded labels to `df`\n"
   ]
  },
  {
   "cell_type": "code",
   "execution_count": null,
   "id": "35cd09a9-8088-40ff-9fe6-309ab2bc9bd3",
   "metadata": {
    "id": "35cd09a9-8088-40ff-9fe6-309ab2bc9bd3"
   },
   "outputs": [],
   "source": [
    "## combine `onehot` with `df` data frame\n"
   ]
  },
  {
   "cell_type": "code",
   "execution_count": null,
   "id": "aX8bxZ_pxYnl",
   "metadata": {
    "colab": {
     "base_uri": "https://localhost:8080/",
     "height": 241
    },
    "id": "aX8bxZ_pxYnl",
    "outputId": "0a69cc68-b43e-46da-8fd3-d9ab9552c4c1"
   },
   "outputs": [],
   "source": [
    "df.head()"
   ]
  },
  {
   "cell_type": "markdown",
   "id": "6e5614bf-a354-4243-b716-5b8535aa2129",
   "metadata": {
    "id": "6e5614bf-a354-4243-b716-5b8535aa2129"
   },
   "source": [
    "## Add column with file paths\n",
    "\n",
    "Tasks:\n",
    "\n",
    "1. Add column with file path (data/images/IMAGE_INDEX)"
   ]
  },
  {
   "cell_type": "code",
   "execution_count": null,
   "id": "fee24611-e08f-4e4a-afc6-4ceb97cc377c",
   "metadata": {
    "id": "fee24611-e08f-4e4a-afc6-4ceb97cc377c"
   },
   "outputs": [],
   "source": [
    "## Add column with file path (data/images/IMAGE_INDEX)\n"
   ]
  },
  {
   "cell_type": "code",
   "execution_count": null,
   "id": "5275f9ea-4e36-4721-88f9-c837bc79fd88",
   "metadata": {
    "colab": {
     "base_uri": "https://localhost:8080/",
     "height": 241
    },
    "id": "5275f9ea-4e36-4721-88f9-c837bc79fd88",
    "outputId": "8264882c-6738-47d5-bbd8-3162fe1a4480"
   },
   "outputs": [],
   "source": [
    "df.head()"
   ]
  },
  {
   "cell_type": "markdown",
   "id": "7cacb9ad-fa39-45ca-98c5-3152c27e7ea3",
   "metadata": {
    "id": "7cacb9ad-fa39-45ca-98c5-3152c27e7ea3"
   },
   "source": [
    "## Save results"
   ]
  },
  {
   "cell_type": "code",
   "execution_count": null,
   "id": "b3f3f6fd-dded-475c-926a-6982962ba66e",
   "metadata": {
    "id": "b3f3f6fd-dded-475c-926a-6982962ba66e"
   },
   "outputs": [],
   "source": [
    "df.to_csv(os.path.join(DATA_DIR, 'nih_chest_xray_single_9c_bb_onehot.csv'), index=False)"
   ]
  }
 ],
 "metadata": {
  "colab": {
   "name": "1_process_csv.ipynb",
   "provenance": [],
   "toc_visible": true
  },
  "kernelspec": {
   "display_name": "Python 3",
   "language": "python",
   "name": "python3"
  },
  "language_info": {
   "codemirror_mode": {
    "name": "ipython",
    "version": 3
   },
   "file_extension": ".py",
   "mimetype": "text/x-python",
   "name": "python",
   "nbconvert_exporter": "python",
   "pygments_lexer": "ipython3",
   "version": "3.7.10"
  }
 },
 "nbformat": 4,
 "nbformat_minor": 5
}

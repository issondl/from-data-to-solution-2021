{
 "cells": [
  {
   "cell_type": "markdown",
   "id": "33a917fb",
   "metadata": {},
   "source": [
    "<a href=\"https://colab.research.google.com/github/issondl/from-data-to-solution-2021/blob/main/6_multiclass_model.ipynb\" target=\"_parent\"><img src=\"https://colab.research.google.com/assets/colab-badge.svg\" alt=\"Open In Colab\"/></a>"
   ]
  },
  {
   "cell_type": "markdown",
   "id": "akR0X0xrjnls",
   "metadata": {
    "id": "akR0X0xrjnls"
   },
   "source": [
    "# Multiclass model"
   ]
  },
  {
   "cell_type": "markdown",
   "id": "Rtc27eZjk6N3",
   "metadata": {
    "id": "Rtc27eZjk6N3"
   },
   "source": [
    "## Check for acceleration"
   ]
  },
  {
   "cell_type": "code",
   "execution_count": null,
   "id": "02e7fde9-9eb1-4ee1-bb94-0e23583a5456",
   "metadata": {
    "colab": {
     "base_uri": "https://localhost:8080/"
    },
    "id": "02e7fde9-9eb1-4ee1-bb94-0e23583a5456",
    "outputId": "7866f62d-c269-4fad-b277-841ce358ff05"
   },
   "outputs": [],
   "source": [
    "!nvidia-smi"
   ]
  },
  {
   "cell_type": "markdown",
   "id": "PamIzhSQjp6W",
   "metadata": {
    "id": "PamIzhSQjp6W"
   },
   "source": [
    "## Imports"
   ]
  },
  {
   "cell_type": "code",
   "execution_count": null,
   "id": "IJZpzV-jHBGV",
   "metadata": {
    "colab": {
     "base_uri": "https://localhost:8080/"
    },
    "id": "IJZpzV-jHBGV",
    "outputId": "2b8a0be9-fe40-4226-e5ab-fb46f9745d29"
   },
   "outputs": [],
   "source": [
    "!pip install -q efficientnet"
   ]
  },
  {
   "cell_type": "code",
   "execution_count": null,
   "id": "d8a558e6-ebc1-4f4e-b5be-ad279c66383c",
   "metadata": {
    "id": "d8a558e6-ebc1-4f4e-b5be-ad279c66383c"
   },
   "outputs": [],
   "source": [
    "import numpy as np\n",
    "np.random.seed(2021)\n",
    "import tensorflow as tf\n",
    "tf.random.set_seed(2021)\n",
    "\n",
    "import os\n",
    "os.environ[\"CUDA_VISIBLE_DEVICES\"]=\"0\"\n",
    "\n",
    "import math\n",
    "import random\n",
    "random.seed(2021)\n",
    "\n",
    "import matplotlib.pyplot as plt\n",
    "import pandas as pd\n",
    "import tensorflow.keras.layers as L\n",
    "from keras.layers import Dense\n",
    "from keras.models import Model, load_model\n",
    "from keras.preprocessing import image\n",
    "from keras.preprocessing.image import ImageDataGenerator\n",
    "from sklearn.metrics import roc_auc_score, roc_curve\n",
    "from sklearn.model_selection import train_test_split\n",
    "from tensorflow.compat.v1.logging import INFO, set_verbosity\n",
    "from tqdm import tqdm\n",
    "from tensorflow.keras.regularizers import l1_l2 as L1L2\n",
    "from tensorflow.keras.regularizers import l2 as L2\n",
    "import efficientnet.tfkeras as efn\n",
    "from IPython.display import clear_output\n",
    "\n",
    "set_verbosity(INFO)"
   ]
  },
  {
   "cell_type": "markdown",
   "id": "05nbvwvlmMbf",
   "metadata": {
    "id": "05nbvwvlmMbf"
   },
   "source": [
    "## Constants"
   ]
  },
  {
   "cell_type": "code",
   "execution_count": null,
   "id": "6d188b56-405b-4e3e-b4de-2378c10fcb7f",
   "metadata": {
    "id": "6d188b56-405b-4e3e-b4de-2378c10fcb7f"
   },
   "outputs": [],
   "source": [
    "DATA_DIR = 'data/'\n",
    "os.makedirs(DATA_DIR, exist_ok=True)\n",
    "\n",
    "CSV_FILE = os.path.join(DATA_DIR, 'nih_chest_xray_single_9c_bb_onehot.csv')\n",
    "IMAGES_ARCHIVE_FILE = os.path.join(DATA_DIR, 'nih_chest_xray_single_9c_256x256.tar.gz')\n",
    "IMAGES_DIR = os.path.join(DATA_DIR, 'images')"
   ]
  },
  {
   "cell_type": "markdown",
   "id": "1005de15-ff10-40b5-9e3a-7776263b2b4f",
   "metadata": {
    "id": "1005de15-ff10-40b5-9e3a-7776263b2b4f"
   },
   "source": [
    "## Download the prepared dataset"
   ]
  },
  {
   "cell_type": "code",
   "execution_count": null,
   "id": "4b9a44e8-f014-4666-a1b4-ae8bad970d03",
   "metadata": {
    "colab": {
     "base_uri": "https://localhost:8080/"
    },
    "id": "4b9a44e8-f014-4666-a1b4-ae8bad970d03",
    "outputId": "fb3f4373-a0a0-4fa8-cf3b-5244d5d6b592"
   },
   "outputs": [],
   "source": [
    "if not os.path.exists(CSV_FILE):\n",
    "    ! gdown --id 1i7oUN9QTjOavTPGgvWKq22InrTFN6mYH -O $CSV_FILE\n",
    "else:\n",
    "    print('CSV file ({}) already exists.'.format(CSV_FILE))"
   ]
  },
  {
   "cell_type": "code",
   "execution_count": null,
   "id": "ca02cbc3-1759-4ff5-9d80-4b1449620a34",
   "metadata": {
    "colab": {
     "base_uri": "https://localhost:8080/"
    },
    "id": "ca02cbc3-1759-4ff5-9d80-4b1449620a34",
    "outputId": "b1a196f7-2a0e-43da-ecc6-8aeb00a50d36"
   },
   "outputs": [],
   "source": [
    "if not os.path.exists(IMAGES_ARCHIVE_FILE):\n",
    "    ! gdown --id 1Cg7dbE1tWSBvdTfGc0G272SA_j_XocOW -O $IMAGES_ARCHIVE_FILE\n",
    "else:\n",
    "    print('Images archive file ({}) already exists.'.format(IMAGES_ARCHIVE_FILE))"
   ]
  },
  {
   "cell_type": "code",
   "execution_count": null,
   "id": "0b7e6a44-e2fb-4131-a2b8-80d7f275397a",
   "metadata": {
    "colab": {
     "base_uri": "https://localhost:8080/"
    },
    "id": "0b7e6a44-e2fb-4131-a2b8-80d7f275397a",
    "outputId": "12c0d58b-6dbe-4da8-eea7-ffc43c938e76"
   },
   "outputs": [],
   "source": [
    "if not os.path.exists(IMAGES_DIR):\n",
    "    ! tar -xzf $IMAGES_ARCHIVE_FILE\n",
    "    print('Unpacked to {}'.format(IMAGES_DIR))\n",
    "else:\n",
    "    print('Images have already been unpacked ({}).'.format(IMAGES_DIR))"
   ]
  },
  {
   "cell_type": "markdown",
   "id": "IEIdMf0Vmhp6",
   "metadata": {
    "id": "IEIdMf0Vmhp6"
   },
   "source": [
    "## Explore the dataset\n"
   ]
  },
  {
   "cell_type": "code",
   "execution_count": null,
   "id": "54e63851-6458-4de5-aab7-619ff7dc2c64",
   "metadata": {
    "colab": {
     "base_uri": "https://localhost:8080/",
     "height": 456
    },
    "id": "54e63851-6458-4de5-aab7-619ff7dc2c64",
    "outputId": "cd55a3d4-66cd-4384-8f4d-23893f4b7e1b"
   },
   "outputs": [],
   "source": [
    "df = pd.read_csv(CSV_FILE)\n",
    "df"
   ]
  },
  {
   "cell_type": "markdown",
   "id": "b90c2a26-2a30-4add-af30-66b4154c958d",
   "metadata": {
    "id": "b90c2a26-2a30-4add-af30-66b4154c958d"
   },
   "source": [
    "### Prepare Data for Training and Testing"
   ]
  },
  {
   "cell_type": "code",
   "execution_count": null,
   "id": "SBQtcft50bvd",
   "metadata": {
    "colab": {
     "base_uri": "https://localhost:8080/",
     "height": 345
    },
    "id": "SBQtcft50bvd",
    "outputId": "e26822ec-a9bd-47f7-a78b-48a531863ae2"
   },
   "outputs": [],
   "source": [
    "LABELS = list(df.columns[8:17])\n",
    "df['Finding Labels'].value_counts().plot(kind='bar')"
   ]
  },
  {
   "cell_type": "code",
   "execution_count": null,
   "id": "L5Mc8ifw8lN4",
   "metadata": {
    "id": "L5Mc8ifw8lN4"
   },
   "outputs": [],
   "source": [
    "DISCARD = 0.7\n",
    "TEST_SIZE = 0.15\n",
    "VAL_SIZE = 0.15"
   ]
  },
  {
   "cell_type": "code",
   "execution_count": null,
   "id": "37788204-24c1-457a-92e8-3436b393aa46",
   "metadata": {
    "id": "37788204-24c1-457a-92e8-3436b393aa46"
   },
   "outputs": [],
   "source": [
    "if DISCARD:\n",
    "    df, _ = train_test_split(\n",
    "        df,\n",
    "        test_size=DISCARD,\n",
    "        random_state=2021,\n",
    "        shuffle=True,\n",
    "        stratify=df['Finding Labels']\n",
    "    )\n",
    "\n",
    "tmp_df, test_df = train_test_split(\n",
    "    df,\n",
    "    test_size=TEST_SIZE,\n",
    "    random_state=2021,\n",
    "    shuffle=True,\n",
    "    stratify=df['Finding Labels']\n",
    ")\n",
    "\n",
    "train_df, val_df = train_test_split(\n",
    "    tmp_df,\n",
    "    test_size=VAL_SIZE/(1.0-TEST_SIZE),\n",
    "    random_state=2021,\n",
    "    shuffle=True,\n",
    "    stratify=tmp_df['Finding Labels']\n",
    ")"
   ]
  },
  {
   "cell_type": "code",
   "execution_count": null,
   "id": "ArriPIFg1jyg",
   "metadata": {
    "colab": {
     "base_uri": "https://localhost:8080/"
    },
    "id": "ArriPIFg1jyg",
    "outputId": "82adf2ed-a1d5-404b-c2f4-82d62e2ba248"
   },
   "outputs": [],
   "source": [
    "print(len(df))\n",
    "print(len(train_df))\n",
    "print(len(val_df))\n",
    "print(len(test_df))\n",
    "print()\n",
    "print(len(train_df)/len(df)*100)\n",
    "print(len(val_df)/len(df)*100)\n",
    "print(len(test_df)/len(df)*100)"
   ]
  },
  {
   "cell_type": "code",
   "execution_count": null,
   "id": "VGr5b-24HTrU",
   "metadata": {
    "colab": {
     "base_uri": "https://localhost:8080/",
     "height": 515
    },
    "id": "VGr5b-24HTrU",
    "outputId": "3b702257-75b2-47ea-dfe2-5fe0a4f644cf"
   },
   "outputs": [],
   "source": [
    "print(train_df['Finding Labels'].value_counts())\n",
    "train_df['Finding Labels'].value_counts().plot(kind='bar')"
   ]
  },
  {
   "cell_type": "markdown",
   "id": "p6SUWhbq9XnA",
   "metadata": {
    "id": "p6SUWhbq9XnA"
   },
   "source": [
    "## Create data pipeline\n"
   ]
  },
  {
   "cell_type": "code",
   "execution_count": null,
   "id": "eca0b6c1-46c0-4c20-b028-6377ddd09182",
   "metadata": {
    "id": "eca0b6c1-46c0-4c20-b028-6377ddd09182"
   },
   "outputs": [],
   "source": [
    "# Create data pipeline for training\n",
    "\n",
    "def get_train_generator(df, file_path_col, labels, batch_size, image_size,\n",
    "                        color_mode='grayscale'):\n",
    "    image_generator = ImageDataGenerator(\n",
    "        samplewise_center=True,  # Set each sample mean to 0.\n",
    "        samplewise_std_normalization=True,  # Divide each input by its std\n",
    "        rotation_range=5,  # Degree range for random rotations\n",
    "        width_shift_range=0.1,  # fraction of total width\n",
    "        height_shift_range=0.05,  # fraction of total height\n",
    "        shear_range=0.1,  # Shear Intensity (Shear angle in counter-clockwise direction in degrees)\n",
    "        zoom_range=0.15,  # Range for random zoom\n",
    "        fill_mode='reflect',  # fill_mode: One of {\"constant\", \"nearest\", \"reflect\" or \"wrap\"}\n",
    "        horizontal_flip=True,  # Randomly flip inputs horizontally.\n",
    "        vertical_flip=False,  # Randomly flip inputs vertically.\n",
    "    )\n",
    "\n",
    "    generator = image_generator.flow_from_dataframe(\n",
    "        dataframe=df,  # Pandas dataframe containing the filepaths relative to directory (or absolute paths if directory is None)\n",
    "        x_col=file_path_col,  # column in dataframe that contains the filenames\n",
    "        y_col=labels,  # string or list, column/s in dataframe that has the target data.\n",
    "        class_mode='raw',  # \"raw\": numpy array of values in y_col column(s)\n",
    "        batch_size=batch_size,  # size of the batches of data\n",
    "        shuffle=True,  # whether to shuffle the data (default: True)\n",
    "        seed=2021,  # optional random seed for shuffling and transformations.\n",
    "        target_size=image_size,  # tuple of integers (height, width), default: (256, 256). The dimensions to which all images found will be resized.\n",
    "        color_mode=color_mode,  # one of \"grayscale\", \"rgb\", \"rgba\"\n",
    "    )\n",
    "    \n",
    "    return generator"
   ]
  },
  {
   "cell_type": "code",
   "execution_count": null,
   "id": "84ae19cb-d890-423c-bf77-15aec6a85b79",
   "metadata": {
    "id": "84ae19cb-d890-423c-bf77-15aec6a85b79"
   },
   "outputs": [],
   "source": [
    "## Create data pipeline for testing and validation\n",
    "def get_test_and_valid_generator(val_df, test_df, train_df, file_path_col, labels, batch_size, image_size, seed=2021,\n",
    "                                 color_mode='grayscale'):\n",
    "    raw_train_generator = ImageDataGenerator().flow_from_dataframe(\n",
    "        dataframe=train_df, \n",
    "        x_col=file_path_col,\n",
    "        y_col=labels, \n",
    "        class_mode=\"raw\", \n",
    "        batch_size=100,  # sample size, we will be loading only the first batch\n",
    "        shuffle=True,\n",
    "        seed=2021,\n",
    "        target_size=image_size,\n",
    "        color_mode=color_mode,\n",
    "    )\n",
    "    \n",
    "    # get data sample\n",
    "    batch = raw_train_generator.next()\n",
    "    data_sample = batch[0]\n",
    "\n",
    "    # use sample to fit mean and std for test set generator\n",
    "    image_generator = ImageDataGenerator(\n",
    "        featurewise_center=True,\n",
    "        featurewise_std_normalization=True\n",
    "    )\n",
    "    \n",
    "    # fit generator to sample from training data\n",
    "    image_generator.fit(data_sample)\n",
    "\n",
    "    # get test generator\n",
    "    valid_generator = image_generator.flow_from_dataframe(\n",
    "        dataframe=val_df,\n",
    "        x_col=file_path_col,\n",
    "        y_col=labels,\n",
    "        class_mode=\"raw\",\n",
    "        batch_size=batch_size,\n",
    "        shuffle=False,\n",
    "        target_size=image_size,\n",
    "        color_mode=color_mode,\n",
    "    )\n",
    "\n",
    "    test_generator = image_generator.flow_from_dataframe(\n",
    "        dataframe=test_df,\n",
    "        x_col=file_path_col,\n",
    "        y_col=labels,\n",
    "        class_mode=\"raw\",\n",
    "        batch_size=batch_size,\n",
    "        shuffle=False,\n",
    "        target_size=image_size,\n",
    "        color_mode=color_mode,\n",
    "    )\n",
    "    return valid_generator, test_generator"
   ]
  },
  {
   "cell_type": "markdown",
   "id": "YLxACjJ4HdEi",
   "metadata": {
    "id": "YLxACjJ4HdEi"
   },
   "source": [
    "## Training"
   ]
  },
  {
   "cell_type": "code",
   "execution_count": null,
   "id": "AjqSpW1rINgT",
   "metadata": {
    "id": "AjqSpW1rINgT"
   },
   "outputs": [],
   "source": [
    "EPOCHS = 30\n",
    "BATCH_SIZE = 64\n",
    "IMAGE_SIZE = [240, 240]  # https://keras.io/examples/vision/image_classification_efficientnet_fine_tuning/\n",
    "LEARNING_RATE = 1e-5"
   ]
  },
  {
   "cell_type": "code",
   "execution_count": null,
   "id": "E2Zw13d5Ukqk",
   "metadata": {
    "colab": {
     "base_uri": "https://localhost:8080/",
     "height": 328
    },
    "id": "E2Zw13d5Ukqk",
    "outputId": "949f018e-90ca-4836-f47a-eb01c6c49774"
   },
   "outputs": [],
   "source": [
    "def create_class_weight(df, mu=0.5, use_log=True):\n",
    "    total = len(df)\n",
    "    class_sums = df.sum()\n",
    "    if use_log:\n",
    "        score = np.log(mu*total/class_sums)\n",
    "    else:\n",
    "        score = total/class_sums\n",
    "    score[score < 1.0] = 1.0\n",
    "    return score\n",
    "\n",
    "\n",
    "class_weight_nolog = create_class_weight(train_df[LABELS], use_log=False)\n",
    "class_weight_25 = create_class_weight(train_df[LABELS], 0.25)\n",
    "class_weight_50 = create_class_weight(train_df[LABELS], 0.50)\n",
    "class_weight_75 = create_class_weight(train_df[LABELS], 0.75)\n",
    "class_weight_100 = create_class_weight(train_df[LABELS], 1.0)\n",
    "\n",
    "pd.DataFrame(zip(LABELS,\n",
    "                 train_df[LABELS].sum(),\n",
    "                 class_weight_nolog, class_weight_25, class_weight_50, class_weight_75, class_weight_100\n",
    "             ),\n",
    "             columns=['Class', 'Count', 'Weight', 'Weight m=0.25', 'Weight m=0.50', 'Weight m=0.75', 'Weight m=1.0'])"
   ]
  },
  {
   "cell_type": "code",
   "execution_count": null,
   "id": "pOLawY0KSr9N",
   "metadata": {
    "id": "pOLawY0KSr9N"
   },
   "outputs": [],
   "source": [
    "class_weight = class_weight_50"
   ]
  },
  {
   "cell_type": "code",
   "execution_count": null,
   "id": "jq7DEfBcIZi5",
   "metadata": {
    "colab": {
     "base_uri": "https://localhost:8080/"
    },
    "id": "jq7DEfBcIZi5",
    "outputId": "4c11336f-72bb-4db5-a6e4-90ddda6efed4"
   },
   "outputs": [],
   "source": [
    "model_transfer = tf.keras.Sequential(\n",
    "    layers=[\n",
    "        efn.EfficientNetB1(\n",
    "            input_shape=(*IMAGE_SIZE, 3),\n",
    "            weights='imagenet',\n",
    "            include_top=False,\n",
    "        ),\n",
    "        L.GlobalAveragePooling2D(),\n",
    "        L.Dense(1024, activation='relu', kernel_regularizer=L2(0.01), bias_regularizer=L2(0.01)),\n",
    "        L.Dropout(0.2),\n",
    "        L.Dense(len(LABELS), activation='softmax'),\n",
    "    ],\n",
    "    name='Model_TransferLearning',\n",
    ")"
   ]
  },
  {
   "cell_type": "code",
   "execution_count": null,
   "id": "UTKV_5IJmDQ_",
   "metadata": {
    "id": "UTKV_5IJmDQ_"
   },
   "outputs": [],
   "source": [
    "model_transfer.compile(\n",
    "    optimizer=tf.keras.optimizers.Adam(learning_rate=LEARNING_RATE),\n",
    "    loss=tf.keras.losses.BinaryCrossentropy(),\n",
    "    metrics=['accuracy'],\n",
    ")"
   ]
  },
  {
   "cell_type": "code",
   "execution_count": null,
   "id": "DudOBiMorAdg",
   "metadata": {
    "colab": {
     "base_uri": "https://localhost:8080/"
    },
    "id": "DudOBiMorAdg",
    "outputId": "3e70ccf5-0ab8-4742-9577-87cc07b62c57"
   },
   "outputs": [],
   "source": [
    "train_generator = get_train_generator(\n",
    "    df = train_df,\n",
    "    file_path_col=\"File Path\",\n",
    "    labels=LABELS,\n",
    "    batch_size=BATCH_SIZE,\n",
    "    image_size=IMAGE_SIZE,\n",
    "    color_mode='rgb',\n",
    ")\n",
    "\n",
    "val_generator, test_generator= get_test_and_valid_generator(\n",
    "    val_df=val_df,\n",
    "    test_df=test_df,\n",
    "    train_df=train_df,\n",
    "    file_path_col=\"File Path\",\n",
    "    labels=LABELS,\n",
    "    batch_size=BATCH_SIZE,\n",
    "    image_size=IMAGE_SIZE,\n",
    "    color_mode='rgb',\n",
    ")"
   ]
  },
  {
   "cell_type": "code",
   "execution_count": null,
   "id": "Njekdqin_BAp",
   "metadata": {
    "id": "Njekdqin_BAp"
   },
   "outputs": [],
   "source": [
    "# Based on: https://gist.github.com/stared/dfb4dfaf6d9a8501cd1cc8b8cb806d2e\n",
    "\n",
    "class PlotLosses(tf.keras.callbacks.Callback):\n",
    "    def on_train_begin(self, logs={}):\n",
    "        self.i = 0\n",
    "        self.x = []\n",
    "        self.losses = []\n",
    "        self.val_losses = []\n",
    "        self.accuracies = []\n",
    "        self.val_accuracies = []\n",
    "        self.fig = plt.figure()\n",
    "        self.logs = []\n",
    "\n",
    "    def on_epoch_end(self, epoch, logs={}):\n",
    "        \n",
    "        self.logs.append(logs)\n",
    "        self.x.append(self.i)\n",
    "        self.losses.append(logs.get('loss'))\n",
    "        self.val_losses.append(logs.get('val_loss'))\n",
    "        self.accuracies.append(logs.get('accuracy'))\n",
    "        self.val_accuracies.append(logs.get('val_accuracy'))\n",
    "        self.i += 1\n",
    "        \n",
    "        clear_output(wait=True)\n",
    "        fig = plt.figure()\n",
    "        line_weight = 3\n",
    "        alpha = 0.5\n",
    "        ax1 = fig.add_axes([0, 0, 1, 1])\n",
    "        ax2 = fig.add_axes()\n",
    "        ax2 = ax1.twinx()\n",
    "        lns1 = ax1.plot(self.x, self.losses, 'b-', label=\"loss\", lw=line_weight, alpha=alpha)\n",
    "        lns2 = ax1.plot(self.x, self.val_losses, 'g-', label=\"val_loss\", lw=line_weight, alpha=alpha)\n",
    "        lns3 = ax2.plot(self.x, self.accuracies, 'b--', label=\"accuracy\", lw=line_weight, alpha=alpha)\n",
    "        lns4 = ax2.plot(self.x, self.val_accuracies, 'g--', label=\"val_accuracy\", lw=line_weight, alpha=alpha)\n",
    "        lns = lns1+lns2+lns3+lns4\n",
    "        labs = [l.get_label() for l in lns]\n",
    "        ax1.legend(lns, labs, loc=0)\n",
    "        plt.title('Epoch {}/{}'.format(self.i, EPOCHS), fontsize=20)\n",
    "                \n",
    "        plt.show()\n",
    "        \n",
    "plot_losses_cb = PlotLosses()"
   ]
  },
  {
   "cell_type": "code",
   "execution_count": null,
   "id": "CEPUMeKl9Xx0",
   "metadata": {
    "id": "CEPUMeKl9Xx0"
   },
   "outputs": [],
   "source": [
    "early_stop_cb = tf.keras.callbacks.EarlyStopping(monitor='val_accuracy', mode='auto', patience=3, min_delta=0.01, verbose=1)"
   ]
  },
  {
   "cell_type": "code",
   "execution_count": null,
   "id": "OVjK7DGEn9Fo",
   "metadata": {
    "colab": {
     "base_uri": "https://localhost:8080/",
     "height": 374
    },
    "id": "OVjK7DGEn9Fo",
    "outputId": "6d1911ce-fe99-42e9-8266-7c854dc96952"
   },
   "outputs": [],
   "source": [
    "history_transfer = model_transfer.fit(\n",
    "    train_generator,\n",
    "    validation_data=val_generator,\n",
    "    steps_per_epoch=len(train_generator),\n",
    "    validation_steps=len(val_generator),\n",
    "    epochs=EPOCHS,\n",
    "    class_weight={k:v for k, v in enumerate(class_weight)},\n",
    "    callbacks=[\n",
    "               plot_losses_cb,\n",
    "               early_stop_cb,\n",
    "               ]\n",
    ")\n"
   ]
  }
 ],
 "metadata": {
  "accelerator": "GPU",
  "colab": {
   "name": "3_model.ipynb",
   "provenance": []
  },
  "kernelspec": {
   "display_name": "Python 3",
   "language": "python",
   "name": "python3"
  },
  "language_info": {
   "codemirror_mode": {
    "name": "ipython",
    "version": 3
   },
   "file_extension": ".py",
   "mimetype": "text/x-python",
   "name": "python",
   "nbconvert_exporter": "python",
   "pygments_lexer": "ipython3",
   "version": "3.7.10"
  }
 },
 "nbformat": 4,
 "nbformat_minor": 5
}

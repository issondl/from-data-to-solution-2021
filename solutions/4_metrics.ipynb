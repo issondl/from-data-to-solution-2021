{
  "nbformat": 4,
  "nbformat_minor": 0,
  "metadata": {
    "colab": {
      "name": "Metrics",
      "provenance": []
    },
    "kernelspec": {
      "name": "python3",
      "display_name": "Python 3"
    },
    "language_info": {
      "name": "python"
    }
  },
  "cells": [
    {
      "cell_type": "markdown",
      "metadata": {
        "id": "ZaNKYpnzLfXI"
      },
      "source": [
        "# Metrics"
      ]
    },
    {
      "cell_type": "markdown",
      "metadata": {
        "id": "7PnfZuBtLhUf"
      },
      "source": [
        "## Imports"
      ]
    },
    {
      "cell_type": "code",
      "metadata": {
        "id": "mgn6smKWIWaR"
      },
      "source": [
        "import numpy as np\n",
        "np.random.seed(2021)\n",
        "import random\n",
        "random.seed(2021)\n",
        "\n",
        "from IPython.display import Markdown, display\n",
        "\n",
        "def printmd(string):\n",
        "    display(Markdown(string))"
      ],
      "execution_count": 1,
      "outputs": []
    },
    {
      "cell_type": "markdown",
      "metadata": {
        "id": "HUACl7HAqi7B"
      },
      "source": [
        "## Create Toy Datasets"
      ]
    },
    {
      "cell_type": "code",
      "metadata": {
        "colab": {
          "base_uri": "https://localhost:8080/"
        },
        "id": "rwT27VSwFD1n",
        "outputId": "296689af-463c-4351-a859-6e14c5cde610"
      },
      "source": [
        "def pc(db):  # print count\n",
        "    print(\"Database contains {} negative and {} positive samples\".format(db.count(0), db.count(1)))\n",
        "\n",
        "length = 100\n",
        "\n",
        "# Balanced\n",
        "db_balanced = [0] * (length//2) + [1] * (length//2)\n",
        "pc(db_balanced)\n",
        "\n",
        "# More positives\n",
        "amount = random.uniform(0.9, 0.99)\n",
        "db_positives = [1] * int(length*amount) + [0] * int(length*(1-amount)+1)\n",
        "pc(db_positives)\n",
        "\n",
        "# More negatives\n",
        "amount = random.uniform(0.9, 0.99)\n",
        "db_negatives = [0] * int(length*amount) + [1] * int(length*(1-amount)+1)\n",
        "pc(db_negatives)"
      ],
      "execution_count": 2,
      "outputs": [
        {
          "output_type": "stream",
          "text": [
            "Database contains 50 negative and 50 positive samples\n",
            "Database contains 3 negative and 97 positive samples\n",
            "Database contains 97 negative and 3 positive samples\n"
          ],
          "name": "stdout"
        }
      ]
    },
    {
      "cell_type": "markdown",
      "metadata": {
        "id": "ib8W_WM-sprY"
      },
      "source": [
        "## Dummy model"
      ]
    },
    {
      "cell_type": "code",
      "metadata": {
        "id": "O_g-i3e8Ig5U"
      },
      "source": [
        "top_no = 95\n",
        "def dummy_model(data, threshold):\n",
        "    correct=0\n",
        "    output=[]\n",
        "    for i, d in enumerate(data):\n",
        "        if i < threshold or i > top_no :\n",
        "            output.append(d)\n",
        "            correct+=1\n",
        "        else:\n",
        "            output.append(abs(1-d))\n",
        "    return output"
      ],
      "execution_count": 3,
      "outputs": []
    },
    {
      "cell_type": "markdown",
      "metadata": {
        "id": "MtAIgwDFxxIi"
      },
      "source": [
        "### *Balanced dataset*"
      ]
    },
    {
      "cell_type": "code",
      "metadata": {
        "id": "Ayu-WlD0tDsx"
      },
      "source": [
        "balanced_threshold = 80\n",
        "out_balanced = dummy_model(db_balanced, balanced_threshold)"
      ],
      "execution_count": 4,
      "outputs": []
    },
    {
      "cell_type": "code",
      "metadata": {
        "colab": {
          "base_uri": "https://localhost:8080/",
          "height": 143
        },
        "id": "GKSXb78-tWwu",
        "outputId": "4bb50bc8-6371-4f62-aabe-dd3c26a14556"
      },
      "source": [
        "print('Labels:')\n",
        "printmd('{}**{}**{}'.format(db_balanced[:balanced_threshold], db_balanced[balanced_threshold:top_no], db_balanced[top_no+1:],))\n",
        "print('Predictions:')\n",
        "printmd('{}**{}**{}'.format(out_balanced[:balanced_threshold], out_balanced[balanced_threshold:top_no], out_balanced[top_no+1:],))"
      ],
      "execution_count": 5,
      "outputs": [
        {
          "output_type": "stream",
          "text": [
            "Labels:\n"
          ],
          "name": "stdout"
        },
        {
          "output_type": "display_data",
          "data": {
            "text/markdown": "[0, 0, 0, 0, 0, 0, 0, 0, 0, 0, 0, 0, 0, 0, 0, 0, 0, 0, 0, 0, 0, 0, 0, 0, 0, 0, 0, 0, 0, 0, 0, 0, 0, 0, 0, 0, 0, 0, 0, 0, 0, 0, 0, 0, 0, 0, 0, 0, 0, 0, 1, 1, 1, 1, 1, 1, 1, 1, 1, 1, 1, 1, 1, 1, 1, 1, 1, 1, 1, 1, 1, 1, 1, 1, 1, 1, 1, 1, 1, 1]**[1, 1, 1, 1, 1, 1, 1, 1, 1, 1, 1, 1, 1, 1, 1]**[1, 1, 1, 1]",
            "text/plain": [
              "<IPython.core.display.Markdown object>"
            ]
          },
          "metadata": {
            "tags": []
          }
        },
        {
          "output_type": "stream",
          "text": [
            "Predictions:\n"
          ],
          "name": "stdout"
        },
        {
          "output_type": "display_data",
          "data": {
            "text/markdown": "[0, 0, 0, 0, 0, 0, 0, 0, 0, 0, 0, 0, 0, 0, 0, 0, 0, 0, 0, 0, 0, 0, 0, 0, 0, 0, 0, 0, 0, 0, 0, 0, 0, 0, 0, 0, 0, 0, 0, 0, 0, 0, 0, 0, 0, 0, 0, 0, 0, 0, 1, 1, 1, 1, 1, 1, 1, 1, 1, 1, 1, 1, 1, 1, 1, 1, 1, 1, 1, 1, 1, 1, 1, 1, 1, 1, 1, 1, 1, 1]**[0, 0, 0, 0, 0, 0, 0, 0, 0, 0, 0, 0, 0, 0, 0]**[1, 1, 1, 1]",
            "text/plain": [
              "<IPython.core.display.Markdown object>"
            ]
          },
          "metadata": {
            "tags": []
          }
        }
      ]
    },
    {
      "cell_type": "markdown",
      "metadata": {
        "id": "aPQiRnnox2pi"
      },
      "source": [
        "### *More positives*"
      ]
    },
    {
      "cell_type": "code",
      "metadata": {
        "id": "DXsa1xWnx5ew"
      },
      "source": [
        "positives_threshold = 80\n",
        "out_positives = dummy_model(db_positives, positives_threshold)"
      ],
      "execution_count": 6,
      "outputs": []
    },
    {
      "cell_type": "code",
      "metadata": {
        "colab": {
          "base_uri": "https://localhost:8080/",
          "height": 143
        },
        "id": "RFHXg16Hyz_7",
        "outputId": "bbc705b1-2fa7-46f2-c47f-99e1c0832177"
      },
      "source": [
        "print('Labels:')\n",
        "printmd('{}**{}**{}'.format(db_positives[:positives_threshold], db_positives[positives_threshold:top_no], db_positives[top_no+1:]))\n",
        "print('Predictions:')\n",
        "printmd('{}**{}**{}'.format(out_positives[:positives_threshold], out_positives[positives_threshold:top_no], out_positives[top_no+1:]))"
      ],
      "execution_count": 7,
      "outputs": [
        {
          "output_type": "stream",
          "text": [
            "Labels:\n"
          ],
          "name": "stdout"
        },
        {
          "output_type": "display_data",
          "data": {
            "text/markdown": "[1, 1, 1, 1, 1, 1, 1, 1, 1, 1, 1, 1, 1, 1, 1, 1, 1, 1, 1, 1, 1, 1, 1, 1, 1, 1, 1, 1, 1, 1, 1, 1, 1, 1, 1, 1, 1, 1, 1, 1, 1, 1, 1, 1, 1, 1, 1, 1, 1, 1, 1, 1, 1, 1, 1, 1, 1, 1, 1, 1, 1, 1, 1, 1, 1, 1, 1, 1, 1, 1, 1, 1, 1, 1, 1, 1, 1, 1, 1, 1]**[1, 1, 1, 1, 1, 1, 1, 1, 1, 1, 1, 1, 1, 1, 1]**[1, 0, 0, 0]",
            "text/plain": [
              "<IPython.core.display.Markdown object>"
            ]
          },
          "metadata": {
            "tags": []
          }
        },
        {
          "output_type": "stream",
          "text": [
            "Predictions:\n"
          ],
          "name": "stdout"
        },
        {
          "output_type": "display_data",
          "data": {
            "text/markdown": "[1, 1, 1, 1, 1, 1, 1, 1, 1, 1, 1, 1, 1, 1, 1, 1, 1, 1, 1, 1, 1, 1, 1, 1, 1, 1, 1, 1, 1, 1, 1, 1, 1, 1, 1, 1, 1, 1, 1, 1, 1, 1, 1, 1, 1, 1, 1, 1, 1, 1, 1, 1, 1, 1, 1, 1, 1, 1, 1, 1, 1, 1, 1, 1, 1, 1, 1, 1, 1, 1, 1, 1, 1, 1, 1, 1, 1, 1, 1, 1]**[0, 0, 0, 0, 0, 0, 0, 0, 0, 0, 0, 0, 0, 0, 0]**[1, 0, 0, 0]",
            "text/plain": [
              "<IPython.core.display.Markdown object>"
            ]
          },
          "metadata": {
            "tags": []
          }
        }
      ]
    },
    {
      "cell_type": "markdown",
      "metadata": {
        "id": "MP_c2crP0mJA"
      },
      "source": [
        "### *More negatives*"
      ]
    },
    {
      "cell_type": "code",
      "metadata": {
        "id": "6x9OQ7pS0rF7"
      },
      "source": [
        "negatives_threshold = 80\n",
        "out_negatives = dummy_model(db_negatives, negatives_threshold)"
      ],
      "execution_count": 8,
      "outputs": []
    },
    {
      "cell_type": "code",
      "metadata": {
        "colab": {
          "base_uri": "https://localhost:8080/",
          "height": 143
        },
        "id": "4qv3vRaj0xHd",
        "outputId": "191ce7e9-ab51-487f-d9e9-98c726df398b"
      },
      "source": [
        "print('Labels:')\n",
        "printmd('{}**{}**{}'.format(db_negatives[:negatives_threshold], db_negatives[negatives_threshold:top_no], db_negatives[top_no+1:]))\n",
        "print('Predictions:')\n",
        "printmd('{}**{}**{}'.format(out_negatives[:negatives_threshold], out_negatives[negatives_threshold:top_no], db_negatives[top_no+1:]))"
      ],
      "execution_count": 9,
      "outputs": [
        {
          "output_type": "stream",
          "text": [
            "Labels:\n"
          ],
          "name": "stdout"
        },
        {
          "output_type": "display_data",
          "data": {
            "text/markdown": "[0, 0, 0, 0, 0, 0, 0, 0, 0, 0, 0, 0, 0, 0, 0, 0, 0, 0, 0, 0, 0, 0, 0, 0, 0, 0, 0, 0, 0, 0, 0, 0, 0, 0, 0, 0, 0, 0, 0, 0, 0, 0, 0, 0, 0, 0, 0, 0, 0, 0, 0, 0, 0, 0, 0, 0, 0, 0, 0, 0, 0, 0, 0, 0, 0, 0, 0, 0, 0, 0, 0, 0, 0, 0, 0, 0, 0, 0, 0, 0]**[0, 0, 0, 0, 0, 0, 0, 0, 0, 0, 0, 0, 0, 0, 0]**[0, 1, 1, 1]",
            "text/plain": [
              "<IPython.core.display.Markdown object>"
            ]
          },
          "metadata": {
            "tags": []
          }
        },
        {
          "output_type": "stream",
          "text": [
            "Predictions:\n"
          ],
          "name": "stdout"
        },
        {
          "output_type": "display_data",
          "data": {
            "text/markdown": "[0, 0, 0, 0, 0, 0, 0, 0, 0, 0, 0, 0, 0, 0, 0, 0, 0, 0, 0, 0, 0, 0, 0, 0, 0, 0, 0, 0, 0, 0, 0, 0, 0, 0, 0, 0, 0, 0, 0, 0, 0, 0, 0, 0, 0, 0, 0, 0, 0, 0, 0, 0, 0, 0, 0, 0, 0, 0, 0, 0, 0, 0, 0, 0, 0, 0, 0, 0, 0, 0, 0, 0, 0, 0, 0, 0, 0, 0, 0, 0]**[1, 1, 1, 1, 1, 1, 1, 1, 1, 1, 1, 1, 1, 1, 1]**[0, 1, 1, 1]",
            "text/plain": [
              "<IPython.core.display.Markdown object>"
            ]
          },
          "metadata": {
            "tags": []
          }
        }
      ]
    },
    {
      "cell_type": "markdown",
      "metadata": {
        "id": "KtuScxpys3Er"
      },
      "source": [
        "## Metrics"
      ]
    },
    {
      "cell_type": "markdown",
      "metadata": {
        "id": "b7s9JTGHs6ny"
      },
      "source": [
        "### **Accuracy**\n",
        "\n",
        "Tasks:\n",
        "\n",
        "* Create method implementing accuracy metric"
      ]
    },
    {
      "cell_type": "markdown",
      "metadata": {
        "id": "SuLo_oH7xieY"
      },
      "source": [
        "*Balanced dataset*\n"
      ]
    },
    {
      "cell_type": "code",
      "metadata": {
        "id": "lmsDgKbWs_EC"
      },
      "source": [
        "from sklearn.metrics import accuracy_score"
      ],
      "execution_count": 10,
      "outputs": []
    },
    {
      "cell_type": "code",
      "metadata": {
        "id": "NJRu_39BtAba"
      },
      "source": [
        "## Implement method implementing accuracy metric\n",
        "\n",
        "def acc(labels, predictions):\n",
        "    ## START\n",
        "    assert len(labels)==len(predictions)\n",
        "    acc = 0\n",
        "    for i,l in enumerate(labels):\n",
        "        if l==predictions[i]:\n",
        "            acc+=1\n",
        "    return acc/len(labels)\n",
        "    ## END"
      ],
      "execution_count": 11,
      "outputs": []
    },
    {
      "cell_type": "code",
      "metadata": {
        "id": "NoMyGKmgLb0N",
        "colab": {
          "base_uri": "https://localhost:8080/",
          "height": 69
        },
        "outputId": "5272739c-35fe-43ad-d1ff-1322cae4a7f4"
      },
      "source": [
        "printmd('Accuracy custom  {}'.format(acc(db_balanced, out_balanced)))\n",
        "printmd('Accuracy sklearn {}'.format(accuracy_score(db_balanced, out_balanced)))"
      ],
      "execution_count": 12,
      "outputs": [
        {
          "output_type": "display_data",
          "data": {
            "text/markdown": "Accuracy custom  0.84",
            "text/plain": [
              "<IPython.core.display.Markdown object>"
            ]
          },
          "metadata": {
            "tags": []
          }
        },
        {
          "output_type": "display_data",
          "data": {
            "text/markdown": "Accuracy sklearn 0.84",
            "text/plain": [
              "<IPython.core.display.Markdown object>"
            ]
          },
          "metadata": {
            "tags": []
          }
        }
      ]
    },
    {
      "cell_type": "markdown",
      "metadata": {
        "id": "Ccy10E8SxrFo"
      },
      "source": [
        "*More positives*"
      ]
    },
    {
      "cell_type": "code",
      "metadata": {
        "id": "KXJeQ3FoLhxD",
        "colab": {
          "base_uri": "https://localhost:8080/",
          "height": 69
        },
        "outputId": "0b04155c-e52c-40db-abac-fe25a6e2ab89"
      },
      "source": [
        "printmd('Accuracy custom  {}'.format(acc(db_positives, out_positives)))\n",
        "printmd('Accuracy sklearn {}'.format(accuracy_score(db_positives, out_positives)))"
      ],
      "execution_count": 13,
      "outputs": [
        {
          "output_type": "display_data",
          "data": {
            "text/markdown": "Accuracy custom  0.84",
            "text/plain": [
              "<IPython.core.display.Markdown object>"
            ]
          },
          "metadata": {
            "tags": []
          }
        },
        {
          "output_type": "display_data",
          "data": {
            "text/markdown": "Accuracy sklearn 0.84",
            "text/plain": [
              "<IPython.core.display.Markdown object>"
            ]
          },
          "metadata": {
            "tags": []
          }
        }
      ]
    },
    {
      "cell_type": "markdown",
      "metadata": {
        "id": "dNg3HSBl05u5"
      },
      "source": [
        "*More negatives*"
      ]
    },
    {
      "cell_type": "code",
      "metadata": {
        "colab": {
          "base_uri": "https://localhost:8080/",
          "height": 69
        },
        "id": "Cx2g53N5MIqo",
        "outputId": "c6618628-9a7b-4fd4-cfa6-80c6182fcf3b"
      },
      "source": [
        "printmd('Accuracy custom  {}'.format(acc(db_negatives, out_negatives)))\n",
        "printmd('Accuracy sklearn {}'.format(accuracy_score(db_negatives, out_negatives)))"
      ],
      "execution_count": 14,
      "outputs": [
        {
          "output_type": "display_data",
          "data": {
            "text/markdown": "Accuracy custom  0.84",
            "text/plain": [
              "<IPython.core.display.Markdown object>"
            ]
          },
          "metadata": {
            "tags": []
          }
        },
        {
          "output_type": "display_data",
          "data": {
            "text/markdown": "Accuracy sklearn 0.84",
            "text/plain": [
              "<IPython.core.display.Markdown object>"
            ]
          },
          "metadata": {
            "tags": []
          }
        }
      ]
    },
    {
      "cell_type": "markdown",
      "metadata": {
        "id": "KTznNaSf12Rp"
      },
      "source": [
        "*More positives - all positive predictions*"
      ]
    },
    {
      "cell_type": "code",
      "metadata": {
        "colab": {
          "base_uri": "https://localhost:8080/",
          "height": 46
        },
        "id": "dMTz85yd19-U",
        "outputId": "4099d620-db8b-40b2-9fdd-c23006dc461c"
      },
      "source": [
        "printmd('Accuracy {}'.format(accuracy_score(db_positives, np.ones(length))))"
      ],
      "execution_count": 15,
      "outputs": [
        {
          "output_type": "display_data",
          "data": {
            "text/markdown": "Accuracy 0.97",
            "text/plain": [
              "<IPython.core.display.Markdown object>"
            ]
          },
          "metadata": {
            "tags": []
          }
        }
      ]
    },
    {
      "cell_type": "markdown",
      "metadata": {
        "id": "GL58rBek2CE9"
      },
      "source": [
        "*More negatives - all negative predictions*"
      ]
    },
    {
      "cell_type": "code",
      "metadata": {
        "colab": {
          "base_uri": "https://localhost:8080/",
          "height": 46
        },
        "id": "VUuMI2rg2J_Z",
        "outputId": "9c8c1d8c-6ea7-4cfe-db79-e4bb52dffb10"
      },
      "source": [
        "printmd('Accuracy {}'.format(accuracy_score(db_negatives, np.zeros(length))))"
      ],
      "execution_count": 16,
      "outputs": [
        {
          "output_type": "display_data",
          "data": {
            "text/markdown": "Accuracy 0.97",
            "text/plain": [
              "<IPython.core.display.Markdown object>"
            ]
          },
          "metadata": {
            "tags": []
          }
        }
      ]
    },
    {
      "cell_type": "markdown",
      "metadata": {
        "id": "3dNGLO2gOYNz"
      },
      "source": [
        "### **Confusion Matrix**"
      ]
    },
    {
      "cell_type": "code",
      "metadata": {
        "id": "CrFzaWUoRhSR"
      },
      "source": [
        "from sklearn.metrics import confusion_matrix, ConfusionMatrixDisplay"
      ],
      "execution_count": 17,
      "outputs": []
    },
    {
      "cell_type": "markdown",
      "metadata": {
        "id": "4MWoqWaRRjbU"
      },
      "source": [
        "*Balanced dataset*"
      ]
    },
    {
      "cell_type": "code",
      "metadata": {
        "colab": {
          "base_uri": "https://localhost:8080/",
          "height": 300
        },
        "id": "VJbxGSFDRjbV",
        "outputId": "01d1b946-acc4-4748-c17c-d08979b6d127"
      },
      "source": [
        "cmd = ConfusionMatrixDisplay(confusion_matrix(db_balanced, out_balanced), display_labels=[0,1])\n",
        "cmd.plot()"
      ],
      "execution_count": 18,
      "outputs": [
        {
          "output_type": "execute_result",
          "data": {
            "text/plain": [
              "<sklearn.metrics._plot.confusion_matrix.ConfusionMatrixDisplay at 0x7f5544174e50>"
            ]
          },
          "metadata": {
            "tags": []
          },
          "execution_count": 18
        },
        {
          "output_type": "display_data",
          "data": {
            "image/png": "[encoded data removed]",
            "text/plain": [
              "<Figure size 432x288 with 2 Axes>"
            ]
          },
          "metadata": {
            "tags": [],
            "needs_background": "light"
          }
        }
      ]
    },
    {
      "cell_type": "markdown",
      "metadata": {
        "id": "lX9stMaoRjbV"
      },
      "source": [
        "*More positives*"
      ]
    },
    {
      "cell_type": "code",
      "metadata": {
        "colab": {
          "base_uri": "https://localhost:8080/",
          "height": 298
        },
        "id": "ZzrYMuS8RjbV",
        "outputId": "6fc04e97-f77b-47dc-be2f-b8028df11a68"
      },
      "source": [
        "cmd = ConfusionMatrixDisplay(confusion_matrix(db_positives, out_positives), display_labels=[0,1])\n",
        "cmd.plot()"
      ],
      "execution_count": 19,
      "outputs": [
        {
          "output_type": "execute_result",
          "data": {
            "text/plain": [
              "<sklearn.metrics._plot.confusion_matrix.ConfusionMatrixDisplay at 0x7f55440a32d0>"
            ]
          },
          "metadata": {
            "tags": []
          },
          "execution_count": 19
        },
        {
          "output_type": "display_data",
          "data": {
            "image/png": "[encoded data removed]",
            "text/plain": [
              "<Figure size 432x288 with 2 Axes>"
            ]
          },
          "metadata": {
            "tags": [],
            "needs_background": "light"
          }
        }
      ]
    },
    {
      "cell_type": "markdown",
      "metadata": {
        "id": "5qlL-pdVRjbV"
      },
      "source": [
        "*More negatives*"
      ]
    },
    {
      "cell_type": "code",
      "metadata": {
        "colab": {
          "base_uri": "https://localhost:8080/",
          "height": 298
        },
        "id": "3jIrcU0HRjbV",
        "outputId": "8587b0b2-e21a-41ab-afe0-2ec890dd60ec"
      },
      "source": [
        "cmd = ConfusionMatrixDisplay(confusion_matrix(db_negatives, out_negatives), display_labels=[0,1])\n",
        "cmd.plot()"
      ],
      "execution_count": 20,
      "outputs": [
        {
          "output_type": "execute_result",
          "data": {
            "text/plain": [
              "<sklearn.metrics._plot.confusion_matrix.ConfusionMatrixDisplay at 0x7f5543b8ee50>"
            ]
          },
          "metadata": {
            "tags": []
          },
          "execution_count": 20
        },
        {
          "output_type": "display_data",
          "data": {
            "image/png": "[encoded data removed]",
            "text/plain": [
              "<Figure size 432x288 with 2 Axes>"
            ]
          },
          "metadata": {
            "tags": [],
            "needs_background": "light"
          }
        }
      ]
    },
    {
      "cell_type": "markdown",
      "metadata": {
        "id": "PXqSUk5RRjbV"
      },
      "source": [
        "*More positives - all positive predictions*"
      ]
    },
    {
      "cell_type": "code",
      "metadata": {
        "colab": {
          "base_uri": "https://localhost:8080/",
          "height": 296
        },
        "id": "FjAXXGUyRjbV",
        "outputId": "68df2401-88aa-483a-c81b-3a61014458c9"
      },
      "source": [
        "cmd = ConfusionMatrixDisplay(confusion_matrix(db_positives, np.ones(length)), display_labels=[0,1])\n",
        "cmd.plot()"
      ],
      "execution_count": 21,
      "outputs": [
        {
          "output_type": "execute_result",
          "data": {
            "text/plain": [
              "<sklearn.metrics._plot.confusion_matrix.ConfusionMatrixDisplay at 0x7f5543abaad0>"
            ]
          },
          "metadata": {
            "tags": []
          },
          "execution_count": 21
        },
        {
          "output_type": "display_data",
          "data": {
            "image/png": "[encoded data removed]",
            "text/plain": [
              "<Figure size 432x288 with 2 Axes>"
            ]
          },
          "metadata": {
            "tags": [],
            "needs_background": "light"
          }
        }
      ]
    },
    {
      "cell_type": "markdown",
      "metadata": {
        "id": "oy1N3Ci0RjbV"
      },
      "source": [
        "*More negatives - all negative predictions*"
      ]
    },
    {
      "cell_type": "code",
      "metadata": {
        "colab": {
          "base_uri": "https://localhost:8080/",
          "height": 296
        },
        "id": "JQ2pmqqoRjbW",
        "outputId": "19b3a1bd-8eca-47b0-a541-4f69a67cfb92"
      },
      "source": [
        "cmd = ConfusionMatrixDisplay(confusion_matrix(db_negatives, np.zeros(length)), display_labels=[0,1])\n",
        "cmd.plot()"
      ],
      "execution_count": 22,
      "outputs": [
        {
          "output_type": "execute_result",
          "data": {
            "text/plain": [
              "<sklearn.metrics._plot.confusion_matrix.ConfusionMatrixDisplay at 0x7f5543a26750>"
            ]
          },
          "metadata": {
            "tags": []
          },
          "execution_count": 22
        },
        {
          "output_type": "display_data",
          "data": {
            "image/png": "[encoded data removed]",
            "text/plain": [
              "<Figure size 432x288 with 2 Axes>"
            ]
          },
          "metadata": {
            "tags": [],
            "needs_background": "light"
          }
        }
      ]
    },
    {
      "cell_type": "markdown",
      "metadata": {
        "id": "FCx6fqc-3StA"
      },
      "source": [
        "### **Precision**\n",
        "\n",
        "Tasks:\n",
        "\n",
        "* Create method implementing precision metric"
      ]
    },
    {
      "cell_type": "code",
      "metadata": {
        "id": "oHAc8DiSM3ze"
      },
      "source": [
        "from sklearn.metrics import precision_score"
      ],
      "execution_count": 23,
      "outputs": []
    },
    {
      "cell_type": "code",
      "metadata": {
        "id": "TNbSKz7f3ZUZ"
      },
      "source": [
        "## Create method implementing precision metric\n",
        "\n",
        "def precision(labels, predictions):\n",
        "    ## START\n",
        "    assert len(labels)==len(predictions)\n",
        "    tp=0\n",
        "    fp=0\n",
        "    #precision=tp/(tp+fp)\n",
        "    for i, p in enumerate(predictions):\n",
        "        if p == labels[i] and p == 1:\n",
        "            tp+=1\n",
        "        elif p != labels[i] and p ==1:\n",
        "            fp+=1\n",
        "    if (tp+fp)==0:\n",
        "        return 0\n",
        "    return tp/(tp+fp)\n",
        "    ## END"
      ],
      "execution_count": 24,
      "outputs": []
    },
    {
      "cell_type": "markdown",
      "metadata": {
        "id": "0-Am2lLc4mQR"
      },
      "source": [
        "*Balanced dataset*"
      ]
    },
    {
      "cell_type": "code",
      "metadata": {
        "colab": {
          "base_uri": "https://localhost:8080/",
          "height": 69
        },
        "id": "BLRiydnO4ixC",
        "outputId": "aba951b7-6c7a-417b-a2c6-0ce221fb1f0e"
      },
      "source": [
        "printmd('Precision custom  {}'.format(precision(db_balanced, out_balanced)))\n",
        "printmd('Precision sklearn {}'.format(precision_score(db_balanced, out_balanced)))"
      ],
      "execution_count": 25,
      "outputs": [
        {
          "output_type": "display_data",
          "data": {
            "text/markdown": "Precision custom  1.0",
            "text/plain": [
              "<IPython.core.display.Markdown object>"
            ]
          },
          "metadata": {
            "tags": []
          }
        },
        {
          "output_type": "display_data",
          "data": {
            "text/markdown": "Precision sklearn 1.0",
            "text/plain": [
              "<IPython.core.display.Markdown object>"
            ]
          },
          "metadata": {
            "tags": []
          }
        }
      ]
    },
    {
      "cell_type": "markdown",
      "metadata": {
        "id": "Cj2Yma9N5EU_"
      },
      "source": [
        "*More positives*"
      ]
    },
    {
      "cell_type": "code",
      "metadata": {
        "colab": {
          "base_uri": "https://localhost:8080/",
          "height": 69
        },
        "id": "f7nAHEuh5HU7",
        "outputId": "99306d3e-03ff-43d0-b62f-728485fd0716"
      },
      "source": [
        "printmd('Precision custom  {}'.format(precision(db_positives, out_positives)))\n",
        "printmd('Precision sklearn {}'.format(precision_score(db_positives, out_positives)))"
      ],
      "execution_count": 26,
      "outputs": [
        {
          "output_type": "display_data",
          "data": {
            "text/markdown": "Precision custom  1.0",
            "text/plain": [
              "<IPython.core.display.Markdown object>"
            ]
          },
          "metadata": {
            "tags": []
          }
        },
        {
          "output_type": "display_data",
          "data": {
            "text/markdown": "Precision sklearn 1.0",
            "text/plain": [
              "<IPython.core.display.Markdown object>"
            ]
          },
          "metadata": {
            "tags": []
          }
        }
      ]
    },
    {
      "cell_type": "markdown",
      "metadata": {
        "id": "cRdXfkLA6UeT"
      },
      "source": [
        "*More negatives*"
      ]
    },
    {
      "cell_type": "code",
      "metadata": {
        "colab": {
          "base_uri": "https://localhost:8080/",
          "height": 69
        },
        "id": "3ZjLORi06ZeJ",
        "outputId": "f6f11193-7752-4302-9d13-590c99eeaccd"
      },
      "source": [
        "printmd('Precision custom  {}'.format(precision(db_negatives, out_negatives)))\n",
        "printmd('Precision sklearn {}'.format(precision_score(db_negatives, out_negatives)))"
      ],
      "execution_count": 27,
      "outputs": [
        {
          "output_type": "display_data",
          "data": {
            "text/markdown": "Precision custom  0.15789473684210525",
            "text/plain": [
              "<IPython.core.display.Markdown object>"
            ]
          },
          "metadata": {
            "tags": []
          }
        },
        {
          "output_type": "display_data",
          "data": {
            "text/markdown": "Precision sklearn 0.15789473684210525",
            "text/plain": [
              "<IPython.core.display.Markdown object>"
            ]
          },
          "metadata": {
            "tags": []
          }
        }
      ]
    },
    {
      "cell_type": "markdown",
      "metadata": {
        "id": "SC60Fixi9Gqw"
      },
      "source": [
        "*More positives - all positive predictions*"
      ]
    },
    {
      "cell_type": "code",
      "metadata": {
        "colab": {
          "base_uri": "https://localhost:8080/",
          "height": 69
        },
        "id": "bjzNpjB79HDi",
        "outputId": "8e678fce-429e-43f3-9a1b-8e1e7e7eb731"
      },
      "source": [
        "printmd('Precision custom  {}'.format(precision(db_positives, np.ones(length))))\n",
        "printmd('Precision sklearn {}'.format(precision_score(db_positives, np.ones(length))))"
      ],
      "execution_count": 28,
      "outputs": [
        {
          "output_type": "display_data",
          "data": {
            "text/markdown": "Precision custom  0.97",
            "text/plain": [
              "<IPython.core.display.Markdown object>"
            ]
          },
          "metadata": {
            "tags": []
          }
        },
        {
          "output_type": "display_data",
          "data": {
            "text/markdown": "Precision sklearn 0.97",
            "text/plain": [
              "<IPython.core.display.Markdown object>"
            ]
          },
          "metadata": {
            "tags": []
          }
        }
      ]
    },
    {
      "cell_type": "markdown",
      "metadata": {
        "id": "VTawz7jW9Qor"
      },
      "source": [
        "*More negatives - all negative predictions*"
      ]
    },
    {
      "cell_type": "code",
      "metadata": {
        "colab": {
          "base_uri": "https://localhost:8080/",
          "height": 129
        },
        "id": "AAldzU3d9RAZ",
        "outputId": "701068e3-ee20-45c3-8a15-e11165d8ad6c"
      },
      "source": [
        "printmd('Precision custom  {}'.format(precision(db_negatives, np.zeros(length))))\n",
        "printmd('Precision sklearn {}'.format(precision_score(db_negatives, np.zeros(length))))"
      ],
      "execution_count": 29,
      "outputs": [
        {
          "output_type": "display_data",
          "data": {
            "text/markdown": "Precision custom  0",
            "text/plain": [
              "<IPython.core.display.Markdown object>"
            ]
          },
          "metadata": {
            "tags": []
          }
        },
        {
          "output_type": "stream",
          "text": [
            "/usr/local/lib/python3.7/dist-packages/sklearn/metrics/_classification.py:1272: UndefinedMetricWarning: Precision is ill-defined and being set to 0.0 due to no predicted samples. Use `zero_division` parameter to control this behavior.\n",
            "  _warn_prf(average, modifier, msg_start, len(result))\n"
          ],
          "name": "stderr"
        },
        {
          "output_type": "display_data",
          "data": {
            "text/markdown": "Precision sklearn 0.0",
            "text/plain": [
              "<IPython.core.display.Markdown object>"
            ]
          },
          "metadata": {
            "tags": []
          }
        }
      ]
    },
    {
      "cell_type": "markdown",
      "metadata": {
        "id": "_f6bYQLQ3Zp6"
      },
      "source": [
        "### **Recall**\n",
        "\n",
        "Tasks:\n",
        "\n",
        "* Create method implementing recall metric"
      ]
    },
    {
      "cell_type": "code",
      "metadata": {
        "id": "0n-ABqLGM8qT"
      },
      "source": [
        "from sklearn.metrics import recall_score"
      ],
      "execution_count": 30,
      "outputs": []
    },
    {
      "cell_type": "code",
      "metadata": {
        "id": "IgtRZQl13dt5"
      },
      "source": [
        "## Create method implementing recall metric\n",
        "\n",
        "def recall(labels, predictions):\n",
        "    ## START\n",
        "    assert len(labels)==len(predictions)\n",
        "    tp=0\n",
        "    fn=0\n",
        "    #recall=tp/(tp+fn)\n",
        "    for i, p in enumerate(predictions):\n",
        "        if p == labels[i] and p == 1:\n",
        "            tp+=1\n",
        "        elif p != labels[i] and p ==0:\n",
        "            fn+=1\n",
        "    if (tp+fn)==0:\n",
        "        return 0\n",
        "    return tp/(tp+fn)\n",
        "    ## END"
      ],
      "execution_count": 31,
      "outputs": []
    },
    {
      "cell_type": "markdown",
      "metadata": {
        "id": "fTZTXQdEJ5N8"
      },
      "source": [
        "*Balanced dataset*"
      ]
    },
    {
      "cell_type": "code",
      "metadata": {
        "colab": {
          "base_uri": "https://localhost:8080/",
          "height": 69
        },
        "id": "hOtrKCJYJ8JH",
        "outputId": "3c65dbf8-e4e5-4492-a1ee-4bf9194159d5"
      },
      "source": [
        "printmd('Recall custom  {}'.format(recall(db_balanced, out_balanced)))\n",
        "printmd('Recall sklearn {}'.format(recall_score(db_balanced, out_balanced)))"
      ],
      "execution_count": 32,
      "outputs": [
        {
          "output_type": "display_data",
          "data": {
            "text/markdown": "Recall custom  0.68",
            "text/plain": [
              "<IPython.core.display.Markdown object>"
            ]
          },
          "metadata": {
            "tags": []
          }
        },
        {
          "output_type": "display_data",
          "data": {
            "text/markdown": "Recall sklearn 0.68",
            "text/plain": [
              "<IPython.core.display.Markdown object>"
            ]
          },
          "metadata": {
            "tags": []
          }
        }
      ]
    },
    {
      "cell_type": "markdown",
      "metadata": {
        "id": "Hy7MIqZeKEoq"
      },
      "source": [
        "*More positives*\n"
      ]
    },
    {
      "cell_type": "code",
      "metadata": {
        "colab": {
          "base_uri": "https://localhost:8080/",
          "height": 69
        },
        "id": "-no_xwTJKM5W",
        "outputId": "cbd40837-8652-48f3-86f4-7bee51467f5b"
      },
      "source": [
        "printmd('Recall custom  {}'.format(recall(db_positives, out_positives)))\n",
        "printmd('Recall sklearn {}'.format(recall_score(db_positives, out_positives)))"
      ],
      "execution_count": 33,
      "outputs": [
        {
          "output_type": "display_data",
          "data": {
            "text/markdown": "Recall custom  0.8350515463917526",
            "text/plain": [
              "<IPython.core.display.Markdown object>"
            ]
          },
          "metadata": {
            "tags": []
          }
        },
        {
          "output_type": "display_data",
          "data": {
            "text/markdown": "Recall sklearn 0.8350515463917526",
            "text/plain": [
              "<IPython.core.display.Markdown object>"
            ]
          },
          "metadata": {
            "tags": []
          }
        }
      ]
    },
    {
      "cell_type": "markdown",
      "metadata": {
        "id": "Jt-t4ratKhW4"
      },
      "source": [
        "*More negatives*"
      ]
    },
    {
      "cell_type": "code",
      "metadata": {
        "colab": {
          "base_uri": "https://localhost:8080/",
          "height": 69
        },
        "id": "mD2xUGVXKkWd",
        "outputId": "a49d7ec5-8aac-425a-a866-0a105dbac0f9"
      },
      "source": [
        "printmd('Recall custom  {}'.format(recall(db_negatives, out_negatives)))\n",
        "printmd('Recall sklearn {}'.format(recall_score(db_negatives, out_negatives)))"
      ],
      "execution_count": 34,
      "outputs": [
        {
          "output_type": "display_data",
          "data": {
            "text/markdown": "Recall custom  1.0",
            "text/plain": [
              "<IPython.core.display.Markdown object>"
            ]
          },
          "metadata": {
            "tags": []
          }
        },
        {
          "output_type": "display_data",
          "data": {
            "text/markdown": "Recall sklearn 1.0",
            "text/plain": [
              "<IPython.core.display.Markdown object>"
            ]
          },
          "metadata": {
            "tags": []
          }
        }
      ]
    },
    {
      "cell_type": "markdown",
      "metadata": {
        "id": "pf2UOuS6KzWV"
      },
      "source": [
        "*More positives - all positive predictions*"
      ]
    },
    {
      "cell_type": "code",
      "metadata": {
        "colab": {
          "base_uri": "https://localhost:8080/",
          "height": 69
        },
        "id": "gGQdjPQrK0Vo",
        "outputId": "819fe480-2e28-4ddc-9386-1ed37db4f9d0"
      },
      "source": [
        "printmd('Recall custom  {}'.format(recall(db_positives, np.ones(length))))\n",
        "printmd('Recall sklearn {}'.format(recall_score(db_positives, np.ones(length))))"
      ],
      "execution_count": 35,
      "outputs": [
        {
          "output_type": "display_data",
          "data": {
            "text/markdown": "Recall custom  1.0",
            "text/plain": [
              "<IPython.core.display.Markdown object>"
            ]
          },
          "metadata": {
            "tags": []
          }
        },
        {
          "output_type": "display_data",
          "data": {
            "text/markdown": "Recall sklearn 1.0",
            "text/plain": [
              "<IPython.core.display.Markdown object>"
            ]
          },
          "metadata": {
            "tags": []
          }
        }
      ]
    },
    {
      "cell_type": "markdown",
      "metadata": {
        "id": "IGD8hnhnLAC1"
      },
      "source": [
        "*More negatives - all negative predictions*"
      ]
    },
    {
      "cell_type": "code",
      "metadata": {
        "colab": {
          "base_uri": "https://localhost:8080/",
          "height": 69
        },
        "id": "ISqqVF3tLDXA",
        "outputId": "7dc7fa91-c552-4ca5-e558-6f6c9f3e6ec0"
      },
      "source": [
        "printmd('Recall custom  {}'.format(recall(db_negatives, np.zeros(length))))\n",
        "printmd('Recall sklearn {}'.format(recall_score(db_negatives, np.zeros(length))))"
      ],
      "execution_count": 36,
      "outputs": [
        {
          "output_type": "display_data",
          "data": {
            "text/markdown": "Recall custom  0.0",
            "text/plain": [
              "<IPython.core.display.Markdown object>"
            ]
          },
          "metadata": {
            "tags": []
          }
        },
        {
          "output_type": "display_data",
          "data": {
            "text/markdown": "Recall sklearn 0.0",
            "text/plain": [
              "<IPython.core.display.Markdown object>"
            ]
          },
          "metadata": {
            "tags": []
          }
        }
      ]
    },
    {
      "cell_type": "markdown",
      "metadata": {
        "id": "JGjt25XTN3dh"
      },
      "source": [
        "### **False Positive Rate = Specificity**"
      ]
    },
    {
      "cell_type": "code",
      "metadata": {
        "id": "4-HdNu9OOHq2"
      },
      "source": [
        "def fpr(labels, predictions):\n",
        "  assert len(labels)==len(predictions)\n",
        "  fp=0\n",
        "  tn=0\n",
        "  #fpr=fp/(fp+tn)\n",
        "  for i, p in enumerate(predictions):\n",
        "    if p == labels[i] and p == 0:\n",
        "      tn+=1\n",
        "    elif p != labels[i] and p == 1:\n",
        "      fp+=1\n",
        "  if (fp+tn)==0:\n",
        "    return 0\n",
        "  return fp/(fp+tn)"
      ],
      "execution_count": 37,
      "outputs": []
    },
    {
      "cell_type": "markdown",
      "metadata": {
        "id": "Oz5zjXuYRaHi"
      },
      "source": [
        "*Balanced dataset*"
      ]
    },
    {
      "cell_type": "code",
      "metadata": {
        "colab": {
          "base_uri": "https://localhost:8080/",
          "height": 46
        },
        "id": "thp05V5oRaHj",
        "outputId": "70686882-545d-4434-c159-2075221735a5"
      },
      "source": [
        "printmd('fpr {}'.format(fpr(db_balanced, out_balanced)))"
      ],
      "execution_count": 38,
      "outputs": [
        {
          "output_type": "display_data",
          "data": {
            "text/markdown": "fpr 0.0",
            "text/plain": [
              "<IPython.core.display.Markdown object>"
            ]
          },
          "metadata": {
            "tags": []
          }
        }
      ]
    },
    {
      "cell_type": "markdown",
      "metadata": {
        "id": "ev1Lk7reRaHj"
      },
      "source": [
        "*More positives*"
      ]
    },
    {
      "cell_type": "code",
      "metadata": {
        "colab": {
          "base_uri": "https://localhost:8080/",
          "height": 46
        },
        "id": "7brzJvFORaHj",
        "outputId": "e64e6db3-2ae7-437b-e282-4dfec8e6f652"
      },
      "source": [
        "printmd('fpr {}'.format(fpr(db_positives, out_positives)))"
      ],
      "execution_count": 39,
      "outputs": [
        {
          "output_type": "display_data",
          "data": {
            "text/markdown": "fpr 0.0",
            "text/plain": [
              "<IPython.core.display.Markdown object>"
            ]
          },
          "metadata": {
            "tags": []
          }
        }
      ]
    },
    {
      "cell_type": "markdown",
      "metadata": {
        "id": "8a_Wt43tRaHj"
      },
      "source": [
        "*More negatives*"
      ]
    },
    {
      "cell_type": "code",
      "metadata": {
        "colab": {
          "base_uri": "https://localhost:8080/",
          "height": 46
        },
        "id": "uICXSZfSRaHj",
        "outputId": "beb9f6bd-375f-4e0c-99c9-51bc0b015729"
      },
      "source": [
        "printmd('fpr {}'.format(fpr(db_negatives, out_negatives)))"
      ],
      "execution_count": 40,
      "outputs": [
        {
          "output_type": "display_data",
          "data": {
            "text/markdown": "fpr 0.16494845360824742",
            "text/plain": [
              "<IPython.core.display.Markdown object>"
            ]
          },
          "metadata": {
            "tags": []
          }
        }
      ]
    },
    {
      "cell_type": "markdown",
      "metadata": {
        "id": "FIa3J9XfRaHj"
      },
      "source": [
        "*More positives - all positive predictions*"
      ]
    },
    {
      "cell_type": "code",
      "metadata": {
        "colab": {
          "base_uri": "https://localhost:8080/",
          "height": 46
        },
        "id": "lJEHUZIXRaHk",
        "outputId": "cee3ca7f-0738-4fb3-aca8-234929bee72e"
      },
      "source": [
        "printmd('fpr {}'.format(fpr(db_positives, np.ones(length))))"
      ],
      "execution_count": 41,
      "outputs": [
        {
          "output_type": "display_data",
          "data": {
            "text/markdown": "fpr 1.0",
            "text/plain": [
              "<IPython.core.display.Markdown object>"
            ]
          },
          "metadata": {
            "tags": []
          }
        }
      ]
    },
    {
      "cell_type": "markdown",
      "metadata": {
        "id": "UqlO0n1bRaHk"
      },
      "source": [
        "*More negatives - all negative predictions*"
      ]
    },
    {
      "cell_type": "markdown",
      "metadata": {
        "id": "2NtwK7zBN-Ky"
      },
      "source": [
        "### **True Positive Rate = Recall = Sensitivity**"
      ]
    },
    {
      "cell_type": "markdown",
      "metadata": {
        "id": "cd2oM92L2T3g"
      },
      "source": [
        "### **F1 Score**"
      ]
    },
    {
      "cell_type": "code",
      "metadata": {
        "id": "_NbdeF_Z-6Yv"
      },
      "source": [
        "from sklearn.metrics import f1_score"
      ],
      "execution_count": 42,
      "outputs": []
    },
    {
      "cell_type": "code",
      "metadata": {
        "id": "2MuuqZSkL_uF"
      },
      "source": [
        "def f1():\n",
        "  pass"
      ],
      "execution_count": 43,
      "outputs": []
    },
    {
      "cell_type": "markdown",
      "metadata": {
        "id": "iODsJeyQNjne"
      },
      "source": [
        "*Balanced dataset*"
      ]
    },
    {
      "cell_type": "code",
      "metadata": {
        "colab": {
          "base_uri": "https://localhost:8080/",
          "height": 46
        },
        "id": "WyCKYgEYNR3t",
        "outputId": "8101539c-513b-4c3e-f4ba-1b20498dd31f"
      },
      "source": [
        "printmd('F1 sklearn {}'.format(f1_score(db_balanced, out_balanced)))"
      ],
      "execution_count": 44,
      "outputs": [
        {
          "output_type": "display_data",
          "data": {
            "text/markdown": "F1 sklearn 0.8095238095238095",
            "text/plain": [
              "<IPython.core.display.Markdown object>"
            ]
          },
          "metadata": {
            "tags": []
          }
        }
      ]
    },
    {
      "cell_type": "markdown",
      "metadata": {
        "id": "B8zixr54Nogu"
      },
      "source": [
        "*More positives*"
      ]
    },
    {
      "cell_type": "code",
      "metadata": {
        "colab": {
          "base_uri": "https://localhost:8080/",
          "height": 69
        },
        "id": "mQMzE0rcNrsc",
        "outputId": "46ab0065-1432-4908-d87b-0f5471b92aa4"
      },
      "source": [
        "printmd('F1 sklearn {}'.format(f1_score(db_positives, out_positives)))\n",
        "printmd('F1 sklearn weighted {}'.format(f1_score(db_positives, out_positives, average='weighted')))"
      ],
      "execution_count": 45,
      "outputs": [
        {
          "output_type": "display_data",
          "data": {
            "text/markdown": "F1 sklearn 0.9101123595505618",
            "text/plain": [
              "<IPython.core.display.Markdown object>"
            ]
          },
          "metadata": {
            "tags": []
          }
        },
        {
          "output_type": "display_data",
          "data": {
            "text/markdown": "F1 sklearn weighted 0.8909908069458631",
            "text/plain": [
              "<IPython.core.display.Markdown object>"
            ]
          },
          "metadata": {
            "tags": []
          }
        }
      ]
    },
    {
      "cell_type": "markdown",
      "metadata": {
        "id": "HedudbGaNsBA"
      },
      "source": [
        "*More negatives*"
      ]
    },
    {
      "cell_type": "code",
      "metadata": {
        "colab": {
          "base_uri": "https://localhost:8080/",
          "height": 69
        },
        "id": "o1x_RB09NvQ3",
        "outputId": "e9d889bf-ff16-4fcf-e260-03669e5594b8"
      },
      "source": [
        "printmd('F1 sklearn {}'.format(f1_score(db_negatives, out_negatives)))\n",
        "printmd('F1 sklearn weighted {}'.format(f1_score(db_negatives, out_negatives, average='weighted')))"
      ],
      "execution_count": 46,
      "outputs": [
        {
          "output_type": "display_data",
          "data": {
            "text/markdown": "F1 sklearn 0.2727272727272727",
            "text/plain": [
              "<IPython.core.display.Markdown object>"
            ]
          },
          "metadata": {
            "tags": []
          }
        },
        {
          "output_type": "display_data",
          "data": {
            "text/markdown": "F1 sklearn weighted 0.8909908069458631",
            "text/plain": [
              "<IPython.core.display.Markdown object>"
            ]
          },
          "metadata": {
            "tags": []
          }
        }
      ]
    },
    {
      "cell_type": "markdown",
      "metadata": {
        "id": "7k5AVf5aNv4i"
      },
      "source": [
        "*More positives - all positive predictions*"
      ]
    },
    {
      "cell_type": "code",
      "metadata": {
        "colab": {
          "base_uri": "https://localhost:8080/",
          "height": 69
        },
        "id": "2FDLgTbzNysA",
        "outputId": "ae7b12d4-4b7e-46d6-a648-1c5dd78ad79e"
      },
      "source": [
        "printmd('F1 sklearn {}'.format(f1_score(db_positives, np.ones(length))))\n",
        "printmd('F1 sklearn weighted {}'.format(f1_score(db_positives, np.ones(length), average='weighted')))"
      ],
      "execution_count": 47,
      "outputs": [
        {
          "output_type": "display_data",
          "data": {
            "text/markdown": "F1 sklearn 0.9847715736040609",
            "text/plain": [
              "<IPython.core.display.Markdown object>"
            ]
          },
          "metadata": {
            "tags": []
          }
        },
        {
          "output_type": "display_data",
          "data": {
            "text/markdown": "F1 sklearn weighted 0.9552284263959391",
            "text/plain": [
              "<IPython.core.display.Markdown object>"
            ]
          },
          "metadata": {
            "tags": []
          }
        }
      ]
    },
    {
      "cell_type": "markdown",
      "metadata": {
        "id": "bqmRk5OzNzBH"
      },
      "source": [
        "*More negatives - all negative predictions*"
      ]
    },
    {
      "cell_type": "code",
      "metadata": {
        "colab": {
          "base_uri": "https://localhost:8080/",
          "height": 69
        },
        "id": "nMvuGMRcN1n6",
        "outputId": "181d801f-219e-4e0f-883b-c7e86154fbca"
      },
      "source": [
        "printmd('F1 sklearn {}'.format(f1_score(db_negatives, np.zeros(length))))\n",
        "printmd('F1 sklearn weighted {}'.format(f1_score(db_negatives, np.zeros(length), average='weighted')))"
      ],
      "execution_count": 48,
      "outputs": [
        {
          "output_type": "display_data",
          "data": {
            "text/markdown": "F1 sklearn 0.0",
            "text/plain": [
              "<IPython.core.display.Markdown object>"
            ]
          },
          "metadata": {
            "tags": []
          }
        },
        {
          "output_type": "display_data",
          "data": {
            "text/markdown": "F1 sklearn weighted 0.9552284263959391",
            "text/plain": [
              "<IPython.core.display.Markdown object>"
            ]
          },
          "metadata": {
            "tags": []
          }
        }
      ]
    }
  ]
}
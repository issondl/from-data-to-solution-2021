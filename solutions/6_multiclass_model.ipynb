{
  "nbformat": 4,
  "nbformat_minor": 5,
  "metadata": {
    "accelerator": "GPU",
    "colab": {
      "name": "3_model.ipynb",
      "provenance": []
    },
    "kernelspec": {
      "display_name": "Python 3",
      "language": "python",
      "name": "python3"
    },
    "language_info": {
      "codemirror_mode": {
        "name": "ipython",
        "version": 3
      },
      "file_extension": ".py",
      "mimetype": "text/x-python",
      "name": "python",
      "nbconvert_exporter": "python",
      "pygments_lexer": "ipython3",
      "version": "3.7.10"
    }
  },
  "cells": [
    {
      "cell_type": "markdown",
      "metadata": {
        "id": "akR0X0xrjnls"
      },
      "source": [
        "# Multiclass model"
      ],
      "id": "akR0X0xrjnls"
    },
    {
      "cell_type": "markdown",
      "metadata": {
        "id": "Rtc27eZjk6N3"
      },
      "source": [
        "## Check for acceleration"
      ],
      "id": "Rtc27eZjk6N3"
    },
    {
      "cell_type": "code",
      "metadata": {
        "colab": {
          "base_uri": "https://localhost:8080/"
        },
        "id": "02e7fde9-9eb1-4ee1-bb94-0e23583a5456",
        "outputId": "7866f62d-c269-4fad-b277-841ce358ff05"
      },
      "source": [
        "!nvidia-smi"
      ],
      "id": "02e7fde9-9eb1-4ee1-bb94-0e23583a5456",
      "execution_count": 1,
      "outputs": [
        {
          "output_type": "stream",
          "text": [
            "Sun Jul  4 13:21:53 2021       \n",
            "+-----------------------------------------------------------------------------+\n",
            "| NVIDIA-SMI 465.27       Driver Version: 460.32.03    CUDA Version: 11.2     |\n",
            "|-------------------------------+----------------------+----------------------+\n",
            "| GPU  Name        Persistence-M| Bus-Id        Disp.A | Volatile Uncorr. ECC |\n",
            "| Fan  Temp  Perf  Pwr:Usage/Cap|         Memory-Usage | GPU-Util  Compute M. |\n",
            "|                               |                      |               MIG M. |\n",
            "|===============================+======================+======================|\n",
            "|   0  Tesla P100-PCIE...  Off  | 00000000:00:04.0 Off |                    0 |\n",
            "| N/A   43C    P0    28W / 250W |      0MiB / 16280MiB |      0%      Default |\n",
            "|                               |                      |                  N/A |\n",
            "+-------------------------------+----------------------+----------------------+\n",
            "                                                                               \n",
            "+-----------------------------------------------------------------------------+\n",
            "| Processes:                                                                  |\n",
            "|  GPU   GI   CI        PID   Type   Process name                  GPU Memory |\n",
            "|        ID   ID                                                   Usage      |\n",
            "|=============================================================================|\n",
            "|  No running processes found                                                 |\n",
            "+-----------------------------------------------------------------------------+\n"
          ],
          "name": "stdout"
        }
      ]
    },
    {
      "cell_type": "markdown",
      "metadata": {
        "id": "PamIzhSQjp6W"
      },
      "source": [
        "## Imports"
      ],
      "id": "PamIzhSQjp6W"
    },
    {
      "cell_type": "code",
      "metadata": {
        "id": "IJZpzV-jHBGV",
        "outputId": "2b8a0be9-fe40-4226-e5ab-fb46f9745d29",
        "colab": {
          "base_uri": "https://localhost:8080/"
        }
      },
      "source": [
        "!pip install -q efficientnet"
      ],
      "id": "IJZpzV-jHBGV",
      "execution_count": 2,
      "outputs": [
        {
          "output_type": "stream",
          "text": [
            "\u001b[?25l\r\u001b[K     |██████▌                         | 10kB 17.9MB/s eta 0:00:01\r\u001b[K     |█████████████                   | 20kB 13.7MB/s eta 0:00:01\r\u001b[K     |███████████████████▍            | 30kB 12.7MB/s eta 0:00:01\r\u001b[K     |█████████████████████████▉      | 40kB 11.9MB/s eta 0:00:01\r\u001b[K     |████████████████████████████████| 51kB 3.2MB/s \n",
            "\u001b[?25h"
          ],
          "name": "stdout"
        }
      ]
    },
    {
      "cell_type": "code",
      "metadata": {
        "id": "d8a558e6-ebc1-4f4e-b5be-ad279c66383c"
      },
      "source": [
        "import numpy as np\n",
        "np.random.seed(2021)\n",
        "import tensorflow as tf\n",
        "tf.random.set_seed(2021)\n",
        "\n",
        "import os\n",
        "os.environ[\"CUDA_VISIBLE_DEVICES\"]=\"0\"\n",
        "\n",
        "import math\n",
        "import random\n",
        "random.seed(2021)\n",
        "\n",
        "import matplotlib.pyplot as plt\n",
        "import pandas as pd\n",
        "import tensorflow.keras.layers as L\n",
        "from keras.layers import Dense\n",
        "from keras.models import Model, load_model\n",
        "from keras.preprocessing import image\n",
        "from keras.preprocessing.image import ImageDataGenerator\n",
        "from sklearn.metrics import roc_auc_score, roc_curve\n",
        "from sklearn.model_selection import train_test_split\n",
        "from tensorflow.compat.v1.logging import INFO, set_verbosity\n",
        "from tqdm import tqdm\n",
        "from tensorflow.keras.regularizers import l1_l2 as L1L2\n",
        "from tensorflow.keras.regularizers import l2 as L2\n",
        "import efficientnet.tfkeras as efn\n",
        "from IPython.display import clear_output\n",
        "\n",
        "set_verbosity(INFO)"
      ],
      "id": "d8a558e6-ebc1-4f4e-b5be-ad279c66383c",
      "execution_count": 3,
      "outputs": []
    },
    {
      "cell_type": "markdown",
      "metadata": {
        "id": "05nbvwvlmMbf"
      },
      "source": [
        "## Constants"
      ],
      "id": "05nbvwvlmMbf"
    },
    {
      "cell_type": "code",
      "metadata": {
        "id": "6d188b56-405b-4e3e-b4de-2378c10fcb7f"
      },
      "source": [
        "DATA_DIR = 'data/'\n",
        "os.makedirs(DATA_DIR, exist_ok=True)\n",
        "\n",
        "CSV_FILE = os.path.join(DATA_DIR, 'nih_chest_xray_single_9c_bb_onehot.csv')\n",
        "IMAGES_ARCHIVE_FILE = os.path.join(DATA_DIR, 'nih_chest_xray_single_9c_256x256.tar.gz')\n",
        "IMAGES_DIR = os.path.join(DATA_DIR, 'images')"
      ],
      "id": "6d188b56-405b-4e3e-b4de-2378c10fcb7f",
      "execution_count": 4,
      "outputs": []
    },
    {
      "cell_type": "markdown",
      "metadata": {
        "id": "1005de15-ff10-40b5-9e3a-7776263b2b4f"
      },
      "source": [
        "## Download the prepared dataset"
      ],
      "id": "1005de15-ff10-40b5-9e3a-7776263b2b4f"
    },
    {
      "cell_type": "code",
      "metadata": {
        "colab": {
          "base_uri": "https://localhost:8080/"
        },
        "id": "4b9a44e8-f014-4666-a1b4-ae8bad970d03",
        "outputId": "fb3f4373-a0a0-4fa8-cf3b-5244d5d6b592"
      },
      "source": [
        "if not os.path.exists(CSV_FILE):\n",
        "    ! gdown --id 1i7oUN9QTjOavTPGgvWKq22InrTFN6mYH -O $CSV_FILE\n",
        "else:\n",
        "    print('CSV file ({}) already exists.'.format(CSV_FILE))"
      ],
      "id": "4b9a44e8-f014-4666-a1b4-ae8bad970d03",
      "execution_count": 5,
      "outputs": [
        {
          "output_type": "stream",
          "text": [
            "Downloading...\n",
            "From: https://drive.google.com/uc?id=1i7oUN9QTjOavTPGgvWKq22InrTFN6mYH\n",
            "To: /content/data/nih_chest_xray_single_9c_bb_onehot.csv\n",
            "\r0.00B [00:00, ?B/s]\r3.07MB [00:00, 97.0MB/s]\n"
          ],
          "name": "stdout"
        }
      ]
    },
    {
      "cell_type": "code",
      "metadata": {
        "colab": {
          "base_uri": "https://localhost:8080/"
        },
        "id": "ca02cbc3-1759-4ff5-9d80-4b1449620a34",
        "outputId": "b1a196f7-2a0e-43da-ecc6-8aeb00a50d36"
      },
      "source": [
        "if not os.path.exists(IMAGES_ARCHIVE_FILE):\n",
        "    ! gdown --id 1Cg7dbE1tWSBvdTfGc0G272SA_j_XocOW -O $IMAGES_ARCHIVE_FILE\n",
        "else:\n",
        "    print('Images archive file ({}) already exists.'.format(IMAGES_ARCHIVE_FILE))"
      ],
      "id": "ca02cbc3-1759-4ff5-9d80-4b1449620a34",
      "execution_count": 6,
      "outputs": [
        {
          "output_type": "stream",
          "text": [
            "Downloading...\n",
            "From: https://drive.google.com/uc?id=1Cg7dbE1tWSBvdTfGc0G272SA_j_XocOW\n",
            "To: /content/data/nih_chest_xray_single_9c_256x256.tar.gz\n",
            "1.05GB [00:06, 155MB/s]\n"
          ],
          "name": "stdout"
        }
      ]
    },
    {
      "cell_type": "code",
      "metadata": {
        "colab": {
          "base_uri": "https://localhost:8080/"
        },
        "id": "0b7e6a44-e2fb-4131-a2b8-80d7f275397a",
        "outputId": "12c0d58b-6dbe-4da8-eea7-ffc43c938e76"
      },
      "source": [
        "if not os.path.exists(IMAGES_DIR):\n",
        "    ! tar -xzf $IMAGES_ARCHIVE_FILE\n",
        "    print('Unpacked to {}'.format(IMAGES_DIR))\n",
        "else:\n",
        "    print('Images have already been unpacked ({}).'.format(IMAGES_DIR))"
      ],
      "id": "0b7e6a44-e2fb-4131-a2b8-80d7f275397a",
      "execution_count": 7,
      "outputs": [
        {
          "output_type": "stream",
          "text": [
            "Unpacked to data/images\n"
          ],
          "name": "stdout"
        }
      ]
    },
    {
      "cell_type": "markdown",
      "metadata": {
        "id": "IEIdMf0Vmhp6"
      },
      "source": [
        "## Explore the dataset\n"
      ],
      "id": "IEIdMf0Vmhp6"
    },
    {
      "cell_type": "code",
      "metadata": {
        "colab": {
          "base_uri": "https://localhost:8080/",
          "height": 456
        },
        "id": "54e63851-6458-4de5-aab7-619ff7dc2c64",
        "outputId": "cd55a3d4-66cd-4384-8f4d-23893f4b7e1b"
      },
      "source": [
        "df = pd.read_csv(CSV_FILE)\n",
        "df"
      ],
      "id": "54e63851-6458-4de5-aab7-619ff7dc2c64",
      "execution_count": 8,
      "outputs": [
        {
          "output_type": "execute_result",
          "data": {
            "text/html": [
              "<div>\n",
              "<style scoped>\n",
              "    .dataframe tbody tr th:only-of-type {\n",
              "        vertical-align: middle;\n",
              "    }\n",
              "\n",
              "    .dataframe tbody tr th {\n",
              "        vertical-align: top;\n",
              "    }\n",
              "\n",
              "    .dataframe thead th {\n",
              "        text-align: right;\n",
              "    }\n",
              "</style>\n",
              "<table border=\"1\" class=\"dataframe\">\n",
              "  <thead>\n",
              "    <tr style=\"text-align: right;\">\n",
              "      <th></th>\n",
              "      <th>Image Index</th>\n",
              "      <th>Finding Labels</th>\n",
              "      <th>Patient Age</th>\n",
              "      <th>Patient Gender</th>\n",
              "      <th>bb_x</th>\n",
              "      <th>bb_y</th>\n",
              "      <th>bb_w</th>\n",
              "      <th>bb_h</th>\n",
              "      <th>Atelectasis</th>\n",
              "      <th>Cardiomegaly</th>\n",
              "      <th>Effusion</th>\n",
              "      <th>Infiltration</th>\n",
              "      <th>Mass</th>\n",
              "      <th>No Finding</th>\n",
              "      <th>Nodule</th>\n",
              "      <th>Pneumonia</th>\n",
              "      <th>Pneumothorax</th>\n",
              "      <th>File Path</th>\n",
              "    </tr>\n",
              "  </thead>\n",
              "  <tbody>\n",
              "    <tr>\n",
              "      <th>0</th>\n",
              "      <td>00000001_000.png</td>\n",
              "      <td>Cardiomegaly</td>\n",
              "      <td>57</td>\n",
              "      <td>M</td>\n",
              "      <td>NaN</td>\n",
              "      <td>NaN</td>\n",
              "      <td>NaN</td>\n",
              "      <td>NaN</td>\n",
              "      <td>0</td>\n",
              "      <td>1</td>\n",
              "      <td>0</td>\n",
              "      <td>0</td>\n",
              "      <td>0</td>\n",
              "      <td>0</td>\n",
              "      <td>0</td>\n",
              "      <td>0</td>\n",
              "      <td>0</td>\n",
              "      <td>data/images/00000001_000.png</td>\n",
              "    </tr>\n",
              "    <tr>\n",
              "      <th>1</th>\n",
              "      <td>00000005_003.png</td>\n",
              "      <td>No Finding</td>\n",
              "      <td>69</td>\n",
              "      <td>F</td>\n",
              "      <td>NaN</td>\n",
              "      <td>NaN</td>\n",
              "      <td>NaN</td>\n",
              "      <td>NaN</td>\n",
              "      <td>0</td>\n",
              "      <td>0</td>\n",
              "      <td>0</td>\n",
              "      <td>0</td>\n",
              "      <td>0</td>\n",
              "      <td>1</td>\n",
              "      <td>0</td>\n",
              "      <td>0</td>\n",
              "      <td>0</td>\n",
              "      <td>data/images/00000005_003.png</td>\n",
              "    </tr>\n",
              "    <tr>\n",
              "      <th>2</th>\n",
              "      <td>00000005_006.png</td>\n",
              "      <td>Infiltration</td>\n",
              "      <td>70</td>\n",
              "      <td>F</td>\n",
              "      <td>NaN</td>\n",
              "      <td>NaN</td>\n",
              "      <td>NaN</td>\n",
              "      <td>NaN</td>\n",
              "      <td>0</td>\n",
              "      <td>0</td>\n",
              "      <td>0</td>\n",
              "      <td>1</td>\n",
              "      <td>0</td>\n",
              "      <td>0</td>\n",
              "      <td>0</td>\n",
              "      <td>0</td>\n",
              "      <td>0</td>\n",
              "      <td>data/images/00000005_006.png</td>\n",
              "    </tr>\n",
              "    <tr>\n",
              "      <th>3</th>\n",
              "      <td>00000008_000.png</td>\n",
              "      <td>Cardiomegaly</td>\n",
              "      <td>68</td>\n",
              "      <td>F</td>\n",
              "      <td>NaN</td>\n",
              "      <td>NaN</td>\n",
              "      <td>NaN</td>\n",
              "      <td>NaN</td>\n",
              "      <td>0</td>\n",
              "      <td>1</td>\n",
              "      <td>0</td>\n",
              "      <td>0</td>\n",
              "      <td>0</td>\n",
              "      <td>0</td>\n",
              "      <td>0</td>\n",
              "      <td>0</td>\n",
              "      <td>0</td>\n",
              "      <td>data/images/00000008_000.png</td>\n",
              "    </tr>\n",
              "    <tr>\n",
              "      <th>4</th>\n",
              "      <td>00000008_002.png</td>\n",
              "      <td>Nodule</td>\n",
              "      <td>72</td>\n",
              "      <td>F</td>\n",
              "      <td>NaN</td>\n",
              "      <td>NaN</td>\n",
              "      <td>NaN</td>\n",
              "      <td>NaN</td>\n",
              "      <td>0</td>\n",
              "      <td>0</td>\n",
              "      <td>0</td>\n",
              "      <td>0</td>\n",
              "      <td>0</td>\n",
              "      <td>0</td>\n",
              "      <td>1</td>\n",
              "      <td>0</td>\n",
              "      <td>0</td>\n",
              "      <td>data/images/00000008_002.png</td>\n",
              "    </tr>\n",
              "    <tr>\n",
              "      <th>...</th>\n",
              "      <td>...</td>\n",
              "      <td>...</td>\n",
              "      <td>...</td>\n",
              "      <td>...</td>\n",
              "      <td>...</td>\n",
              "      <td>...</td>\n",
              "      <td>...</td>\n",
              "      <td>...</td>\n",
              "      <td>...</td>\n",
              "      <td>...</td>\n",
              "      <td>...</td>\n",
              "      <td>...</td>\n",
              "      <td>...</td>\n",
              "      <td>...</td>\n",
              "      <td>...</td>\n",
              "      <td>...</td>\n",
              "      <td>...</td>\n",
              "      <td>...</td>\n",
              "    </tr>\n",
              "    <tr>\n",
              "      <th>36526</th>\n",
              "      <td>00030789_000.png</td>\n",
              "      <td>Infiltration</td>\n",
              "      <td>51</td>\n",
              "      <td>F</td>\n",
              "      <td>NaN</td>\n",
              "      <td>NaN</td>\n",
              "      <td>NaN</td>\n",
              "      <td>NaN</td>\n",
              "      <td>0</td>\n",
              "      <td>0</td>\n",
              "      <td>0</td>\n",
              "      <td>1</td>\n",
              "      <td>0</td>\n",
              "      <td>0</td>\n",
              "      <td>0</td>\n",
              "      <td>0</td>\n",
              "      <td>0</td>\n",
              "      <td>data/images/00030789_000.png</td>\n",
              "    </tr>\n",
              "    <tr>\n",
              "      <th>36527</th>\n",
              "      <td>00030798_000.png</td>\n",
              "      <td>No Finding</td>\n",
              "      <td>29</td>\n",
              "      <td>M</td>\n",
              "      <td>NaN</td>\n",
              "      <td>NaN</td>\n",
              "      <td>NaN</td>\n",
              "      <td>NaN</td>\n",
              "      <td>0</td>\n",
              "      <td>0</td>\n",
              "      <td>0</td>\n",
              "      <td>0</td>\n",
              "      <td>0</td>\n",
              "      <td>1</td>\n",
              "      <td>0</td>\n",
              "      <td>0</td>\n",
              "      <td>0</td>\n",
              "      <td>data/images/00030798_000.png</td>\n",
              "    </tr>\n",
              "    <tr>\n",
              "      <th>36528</th>\n",
              "      <td>00030799_000.png</td>\n",
              "      <td>No Finding</td>\n",
              "      <td>32</td>\n",
              "      <td>M</td>\n",
              "      <td>NaN</td>\n",
              "      <td>NaN</td>\n",
              "      <td>NaN</td>\n",
              "      <td>NaN</td>\n",
              "      <td>0</td>\n",
              "      <td>0</td>\n",
              "      <td>0</td>\n",
              "      <td>0</td>\n",
              "      <td>0</td>\n",
              "      <td>1</td>\n",
              "      <td>0</td>\n",
              "      <td>0</td>\n",
              "      <td>0</td>\n",
              "      <td>data/images/00030799_000.png</td>\n",
              "    </tr>\n",
              "    <tr>\n",
              "      <th>36529</th>\n",
              "      <td>00030800_000.png</td>\n",
              "      <td>No Finding</td>\n",
              "      <td>33</td>\n",
              "      <td>F</td>\n",
              "      <td>NaN</td>\n",
              "      <td>NaN</td>\n",
              "      <td>NaN</td>\n",
              "      <td>NaN</td>\n",
              "      <td>0</td>\n",
              "      <td>0</td>\n",
              "      <td>0</td>\n",
              "      <td>0</td>\n",
              "      <td>0</td>\n",
              "      <td>1</td>\n",
              "      <td>0</td>\n",
              "      <td>0</td>\n",
              "      <td>0</td>\n",
              "      <td>data/images/00030800_000.png</td>\n",
              "    </tr>\n",
              "    <tr>\n",
              "      <th>36530</th>\n",
              "      <td>00030801_000.png</td>\n",
              "      <td>No Finding</td>\n",
              "      <td>38</td>\n",
              "      <td>M</td>\n",
              "      <td>NaN</td>\n",
              "      <td>NaN</td>\n",
              "      <td>NaN</td>\n",
              "      <td>NaN</td>\n",
              "      <td>0</td>\n",
              "      <td>0</td>\n",
              "      <td>0</td>\n",
              "      <td>0</td>\n",
              "      <td>0</td>\n",
              "      <td>1</td>\n",
              "      <td>0</td>\n",
              "      <td>0</td>\n",
              "      <td>0</td>\n",
              "      <td>data/images/00030801_000.png</td>\n",
              "    </tr>\n",
              "  </tbody>\n",
              "</table>\n",
              "<p>36531 rows × 18 columns</p>\n",
              "</div>"
            ],
            "text/plain": [
              "            Image Index  ...                     File Path\n",
              "0      00000001_000.png  ...  data/images/00000001_000.png\n",
              "1      00000005_003.png  ...  data/images/00000005_003.png\n",
              "2      00000005_006.png  ...  data/images/00000005_006.png\n",
              "3      00000008_000.png  ...  data/images/00000008_000.png\n",
              "4      00000008_002.png  ...  data/images/00000008_002.png\n",
              "...                 ...  ...                           ...\n",
              "36526  00030789_000.png  ...  data/images/00030789_000.png\n",
              "36527  00030798_000.png  ...  data/images/00030798_000.png\n",
              "36528  00030799_000.png  ...  data/images/00030799_000.png\n",
              "36529  00030800_000.png  ...  data/images/00030800_000.png\n",
              "36530  00030801_000.png  ...  data/images/00030801_000.png\n",
              "\n",
              "[36531 rows x 18 columns]"
            ]
          },
          "metadata": {
            "tags": []
          },
          "execution_count": 8
        }
      ]
    },
    {
      "cell_type": "markdown",
      "metadata": {
        "id": "b90c2a26-2a30-4add-af30-66b4154c958d"
      },
      "source": [
        "### Prepare Data for Training and Testing"
      ],
      "id": "b90c2a26-2a30-4add-af30-66b4154c958d"
    },
    {
      "cell_type": "code",
      "metadata": {
        "colab": {
          "base_uri": "https://localhost:8080/",
          "height": 345
        },
        "id": "SBQtcft50bvd",
        "outputId": "e26822ec-a9bd-47f7-a78b-48a531863ae2"
      },
      "source": [
        "LABELS = list(df.columns[8:17])\n",
        "df['Finding Labels'].value_counts().plot(kind='bar')"
      ],
      "id": "SBQtcft50bvd",
      "execution_count": 9,
      "outputs": [
        {
          "output_type": "execute_result",
          "data": {
            "text/plain": [
              "<matplotlib.axes._subplots.AxesSubplot at 0x7fe701902850>"
            ]
          },
          "metadata": {
            "tags": []
          },
          "execution_count": 9
        },
        {
          "output_type": "display_data",
          "data": {
            "image/png": "[encoded data removed]",
            "text/plain": [
              "<Figure size 432x288 with 1 Axes>"
            ]
          },
          "metadata": {
            "tags": [],
            "needs_background": "light"
          }
        }
      ]
    },
    {
      "cell_type": "code",
      "metadata": {
        "id": "L5Mc8ifw8lN4"
      },
      "source": [
        "DISCARD = 0.7\n",
        "TEST_SIZE = 0.15\n",
        "VAL_SIZE = 0.15"
      ],
      "id": "L5Mc8ifw8lN4",
      "execution_count": 10,
      "outputs": []
    },
    {
      "cell_type": "code",
      "metadata": {
        "id": "37788204-24c1-457a-92e8-3436b393aa46"
      },
      "source": [
        "if DISCARD:\n",
        "    df, _ = train_test_split(\n",
        "        df,\n",
        "        test_size=DISCARD,\n",
        "        random_state=2021,\n",
        "        shuffle=True,\n",
        "        stratify=df['Finding Labels']\n",
        "    )\n",
        "\n",
        "tmp_df, test_df = train_test_split(\n",
        "    df,\n",
        "    test_size=TEST_SIZE,\n",
        "    random_state=2021,\n",
        "    shuffle=True,\n",
        "    stratify=df['Finding Labels']\n",
        ")\n",
        "\n",
        "train_df, val_df = train_test_split(\n",
        "    tmp_df,\n",
        "    test_size=VAL_SIZE/(1.0-TEST_SIZE),\n",
        "    random_state=2021,\n",
        "    shuffle=True,\n",
        "    stratify=tmp_df['Finding Labels']\n",
        ")"
      ],
      "id": "37788204-24c1-457a-92e8-3436b393aa46",
      "execution_count": 11,
      "outputs": []
    },
    {
      "cell_type": "code",
      "metadata": {
        "colab": {
          "base_uri": "https://localhost:8080/"
        },
        "id": "ArriPIFg1jyg",
        "outputId": "82adf2ed-a1d5-404b-c2f4-82d62e2ba248"
      },
      "source": [
        "print(len(df))\n",
        "print(len(train_df))\n",
        "print(len(val_df))\n",
        "print(len(test_df))\n",
        "print()\n",
        "print(len(train_df)/len(df)*100)\n",
        "print(len(val_df)/len(df)*100)\n",
        "print(len(test_df)/len(df)*100)"
      ],
      "id": "ArriPIFg1jyg",
      "execution_count": 12,
      "outputs": [
        {
          "output_type": "stream",
          "text": [
            "10959\n",
            "7671\n",
            "1644\n",
            "1644\n",
            "\n",
            "69.99726252395291\n",
            "15.001368738023544\n",
            "15.001368738023544\n"
          ],
          "name": "stdout"
        }
      ]
    },
    {
      "cell_type": "code",
      "metadata": {
        "colab": {
          "base_uri": "https://localhost:8080/",
          "height": 515
        },
        "id": "VGr5b-24HTrU",
        "outputId": "3b702257-75b2-47ea-dfe2-5fe0a4f644cf"
      },
      "source": [
        "print(train_df['Finding Labels'].value_counts())\n",
        "train_df['Finding Labels'].value_counts().plot(kind='bar')"
      ],
      "id": "VGr5b-24HTrU",
      "execution_count": 13,
      "outputs": [
        {
          "output_type": "stream",
          "text": [
            "No Finding      2176\n",
            "Infiltration    2004\n",
            "Atelectasis      885\n",
            "Effusion         830\n",
            "Nodule           568\n",
            "Pneumothorax     460\n",
            "Mass             450\n",
            "Cardiomegaly     230\n",
            "Pneumonia         68\n",
            "Name: Finding Labels, dtype: int64\n"
          ],
          "name": "stdout"
        },
        {
          "output_type": "execute_result",
          "data": {
            "text/plain": [
              "<matplotlib.axes._subplots.AxesSubplot at 0x7fe712125790>"
            ]
          },
          "metadata": {
            "tags": []
          },
          "execution_count": 13
        },
        {
          "output_type": "display_data",
          "data": {
            "image/png": "[encoded data removed]",
            "text/plain": [
              "<Figure size 432x288 with 1 Axes>"
            ]
          },
          "metadata": {
            "tags": [],
            "needs_background": "light"
          }
        }
      ]
    },
    {
      "cell_type": "markdown",
      "metadata": {
        "id": "p6SUWhbq9XnA"
      },
      "source": [
        "## Create data pipeline\n"
      ],
      "id": "p6SUWhbq9XnA"
    },
    {
      "cell_type": "code",
      "metadata": {
        "id": "eca0b6c1-46c0-4c20-b028-6377ddd09182"
      },
      "source": [
        "## Create data pipeline for training\n",
        "\n",
        "def get_train_generator(df, file_path_col, labels, batch_size, image_size,\n",
        "                        color_mode='grayscale'):\n",
        "    image_generator = ImageDataGenerator(\n",
        "        samplewise_center=True,  # Set each sample mean to 0.\n",
        "        samplewise_std_normalization=True,  # Divide each input by its std\n",
        "        rotation_range=5,  # Degree range for random rotations\n",
        "        width_shift_range=0.1,  # fraction of total width\n",
        "        height_shift_range=0.05,  # fraction of total height\n",
        "        shear_range=0.1,  # Shear Intensity (Shear angle in counter-clockwise direction in degrees)\n",
        "        zoom_range=0.15,  # Range for random zoom\n",
        "        fill_mode='reflect',  # fill_mode: One of {\"constant\", \"nearest\", \"reflect\" or \"wrap\"}\n",
        "        horizontal_flip=True,  # Randomly flip inputs horizontally.\n",
        "        vertical_flip=False,  # Randomly flip inputs vertically.\n",
        "    )\n",
        "\n",
        "    generator = image_generator.flow_from_dataframe(\n",
        "        dataframe=df,  # Pandas dataframe containing the filepaths relative to directory (or absolute paths if directory is None)\n",
        "        x_col=file_path_col,  # column in dataframe that contains the filenames\n",
        "        y_col=labels,  # string or list, column/s in dataframe that has the target data.\n",
        "        class_mode='raw',  # \"raw\": numpy array of values in y_col column(s)\n",
        "        batch_size=batch_size,  # size of the batches of data\n",
        "        shuffle=True,  # whether to shuffle the data (default: True)\n",
        "        seed=2021,  # optional random seed for shuffling and transformations.\n",
        "        target_size=image_size,  # tuple of integers (height, width), default: (256, 256). The dimensions to which all images found will be resized.\n",
        "        color_mode=color_mode,  # one of \"grayscale\", \"rgb\", \"rgba\"\n",
        "    )\n",
        "    \n",
        "    return generator"
      ],
      "id": "eca0b6c1-46c0-4c20-b028-6377ddd09182",
      "execution_count": 14,
      "outputs": []
    },
    {
      "cell_type": "code",
      "metadata": {
        "id": "84ae19cb-d890-423c-bf77-15aec6a85b79"
      },
      "source": [
        "## Create data pipeline for testing and validation\n",
        "def get_test_and_valid_generator(val_df, test_df, train_df, file_path_col, labels, batch_size, image_size, seed=2021,\n",
        "                                 color_mode='grayscale'):\n",
        "    raw_train_generator = ImageDataGenerator().flow_from_dataframe(\n",
        "        dataframe=train_df, \n",
        "        x_col=file_path_col,\n",
        "        y_col=labels, \n",
        "        class_mode=\"raw\", \n",
        "        batch_size=100,  # sample size, we will be loading only the first batch\n",
        "        shuffle=True,\n",
        "        seed=2021,\n",
        "        target_size=image_size,\n",
        "        color_mode=color_mode,\n",
        "    )\n",
        "    \n",
        "    # get data sample\n",
        "    batch = raw_train_generator.next()\n",
        "    data_sample = batch[0]\n",
        "\n",
        "    # use sample to fit mean and std for test set generator\n",
        "    image_generator = ImageDataGenerator(\n",
        "        featurewise_center=True,\n",
        "        featurewise_std_normalization=True\n",
        "    )\n",
        "    \n",
        "    # fit generator to sample from training data\n",
        "    image_generator.fit(data_sample)\n",
        "\n",
        "    # get test generator\n",
        "    valid_generator = image_generator.flow_from_dataframe(\n",
        "        dataframe=val_df,\n",
        "        x_col=file_path_col,\n",
        "        y_col=labels,\n",
        "        class_mode=\"raw\",\n",
        "        batch_size=batch_size,\n",
        "        shuffle=False,\n",
        "        target_size=image_size,\n",
        "        color_mode=color_mode,\n",
        "    )\n",
        "\n",
        "    test_generator = image_generator.flow_from_dataframe(\n",
        "        dataframe=test_df,\n",
        "        x_col=file_path_col,\n",
        "        y_col=labels,\n",
        "        class_mode=\"raw\",\n",
        "        batch_size=batch_size,\n",
        "        shuffle=False,\n",
        "        target_size=image_size,\n",
        "        color_mode=color_mode,\n",
        "    )\n",
        "    return valid_generator, test_generator"
      ],
      "id": "84ae19cb-d890-423c-bf77-15aec6a85b79",
      "execution_count": 15,
      "outputs": []
    },
    {
      "cell_type": "markdown",
      "metadata": {
        "id": "YLxACjJ4HdEi"
      },
      "source": [
        "## Training"
      ],
      "id": "YLxACjJ4HdEi"
    },
    {
      "cell_type": "code",
      "metadata": {
        "id": "AjqSpW1rINgT"
      },
      "source": [
        "EPOCHS = 30\n",
        "BATCH_SIZE = 64\n",
        "IMAGE_SIZE = [240, 240]  # https://keras.io/examples/vision/image_classification_efficientnet_fine_tuning/\n",
        "LEARNING_RATE = 1e-5"
      ],
      "id": "AjqSpW1rINgT",
      "execution_count": 16,
      "outputs": []
    },
    {
      "cell_type": "code",
      "metadata": {
        "colab": {
          "base_uri": "https://localhost:8080/",
          "height": 328
        },
        "id": "E2Zw13d5Ukqk",
        "outputId": "949f018e-90ca-4836-f47a-eb01c6c49774"
      },
      "source": [
        "def create_class_weight(df, mu=0.5, use_log=True):\n",
        "    total = len(df)\n",
        "    class_sums = df.sum()\n",
        "    if use_log:\n",
        "        score = np.log(mu*total/class_sums)\n",
        "    else:\n",
        "        score = total/class_sums\n",
        "    score[score < 1.0] = 1.0\n",
        "    return score\n",
        "\n",
        "\n",
        "class_weight_nolog = create_class_weight(train_df[LABELS], use_log=False)\n",
        "class_weight_25 = create_class_weight(train_df[LABELS], 0.25)\n",
        "class_weight_50 = create_class_weight(train_df[LABELS], 0.50)\n",
        "class_weight_75 = create_class_weight(train_df[LABELS], 0.75)\n",
        "class_weight_100 = create_class_weight(train_df[LABELS], 1.0)\n",
        "\n",
        "pd.DataFrame(zip(LABELS,\n",
        "                 train_df[LABELS].sum(),\n",
        "                 class_weight_nolog, class_weight_25, class_weight_50, class_weight_75, class_weight_100\n",
        "             ),\n",
        "             columns=['Class', 'Count', 'Weight', 'Weight m=0.25', 'Weight m=0.50', 'Weight m=0.75', 'Weight m=1.0'])"
      ],
      "id": "E2Zw13d5Ukqk",
      "execution_count": 17,
      "outputs": [
        {
          "output_type": "execute_result",
          "data": {
            "text/html": [
              "<div>\n",
              "<style scoped>\n",
              "    .dataframe tbody tr th:only-of-type {\n",
              "        vertical-align: middle;\n",
              "    }\n",
              "\n",
              "    .dataframe tbody tr th {\n",
              "        vertical-align: top;\n",
              "    }\n",
              "\n",
              "    .dataframe thead th {\n",
              "        text-align: right;\n",
              "    }\n",
              "</style>\n",
              "<table border=\"1\" class=\"dataframe\">\n",
              "  <thead>\n",
              "    <tr style=\"text-align: right;\">\n",
              "      <th></th>\n",
              "      <th>Class</th>\n",
              "      <th>Count</th>\n",
              "      <th>Weight</th>\n",
              "      <th>Weight m=0.25</th>\n",
              "      <th>Weight m=0.50</th>\n",
              "      <th>Weight m=0.75</th>\n",
              "      <th>Weight m=1.0</th>\n",
              "    </tr>\n",
              "  </thead>\n",
              "  <tbody>\n",
              "    <tr>\n",
              "      <th>0</th>\n",
              "      <td>Atelectasis</td>\n",
              "      <td>885</td>\n",
              "      <td>8.667797</td>\n",
              "      <td>1.000000</td>\n",
              "      <td>1.466467</td>\n",
              "      <td>1.871933</td>\n",
              "      <td>2.159615</td>\n",
              "    </tr>\n",
              "    <tr>\n",
              "      <th>1</th>\n",
              "      <td>Cardiomegaly</td>\n",
              "      <td>230</td>\n",
              "      <td>33.352174</td>\n",
              "      <td>2.120829</td>\n",
              "      <td>2.813976</td>\n",
              "      <td>3.219441</td>\n",
              "      <td>3.507123</td>\n",
              "    </tr>\n",
              "    <tr>\n",
              "      <th>2</th>\n",
              "      <td>Effusion</td>\n",
              "      <td>830</td>\n",
              "      <td>9.242169</td>\n",
              "      <td>1.000000</td>\n",
              "      <td>1.530629</td>\n",
              "      <td>1.936094</td>\n",
              "      <td>2.223777</td>\n",
              "    </tr>\n",
              "    <tr>\n",
              "      <th>3</th>\n",
              "      <td>Infiltration</td>\n",
              "      <td>2004</td>\n",
              "      <td>3.827844</td>\n",
              "      <td>1.000000</td>\n",
              "      <td>1.000000</td>\n",
              "      <td>1.054620</td>\n",
              "      <td>1.342302</td>\n",
              "    </tr>\n",
              "    <tr>\n",
              "      <th>4</th>\n",
              "      <td>Mass</td>\n",
              "      <td>450</td>\n",
              "      <td>17.046667</td>\n",
              "      <td>1.449660</td>\n",
              "      <td>2.142808</td>\n",
              "      <td>2.548273</td>\n",
              "      <td>2.835955</td>\n",
              "    </tr>\n",
              "    <tr>\n",
              "      <th>5</th>\n",
              "      <td>No Finding</td>\n",
              "      <td>2176</td>\n",
              "      <td>3.525276</td>\n",
              "      <td>1.000000</td>\n",
              "      <td>1.000000</td>\n",
              "      <td>1.000000</td>\n",
              "      <td>1.259959</td>\n",
              "    </tr>\n",
              "    <tr>\n",
              "      <th>6</th>\n",
              "      <td>Nodule</td>\n",
              "      <td>568</td>\n",
              "      <td>13.505282</td>\n",
              "      <td>1.216786</td>\n",
              "      <td>1.909934</td>\n",
              "      <td>2.315399</td>\n",
              "      <td>2.603081</td>\n",
              "    </tr>\n",
              "    <tr>\n",
              "      <th>7</th>\n",
              "      <td>Pneumonia</td>\n",
              "      <td>68</td>\n",
              "      <td>112.808824</td>\n",
              "      <td>3.339400</td>\n",
              "      <td>4.032547</td>\n",
              "      <td>4.438012</td>\n",
              "      <td>4.725695</td>\n",
              "    </tr>\n",
              "    <tr>\n",
              "      <th>8</th>\n",
              "      <td>Pneumothorax</td>\n",
              "      <td>460</td>\n",
              "      <td>16.676087</td>\n",
              "      <td>1.427681</td>\n",
              "      <td>2.120829</td>\n",
              "      <td>2.526294</td>\n",
              "      <td>2.813976</td>\n",
              "    </tr>\n",
              "  </tbody>\n",
              "</table>\n",
              "</div>"
            ],
            "text/plain": [
              "          Class  Count      Weight  ...  Weight m=0.50  Weight m=0.75  Weight m=1.0\n",
              "0   Atelectasis    885    8.667797  ...       1.466467       1.871933      2.159615\n",
              "1  Cardiomegaly    230   33.352174  ...       2.813976       3.219441      3.507123\n",
              "2      Effusion    830    9.242169  ...       1.530629       1.936094      2.223777\n",
              "3  Infiltration   2004    3.827844  ...       1.000000       1.054620      1.342302\n",
              "4          Mass    450   17.046667  ...       2.142808       2.548273      2.835955\n",
              "5    No Finding   2176    3.525276  ...       1.000000       1.000000      1.259959\n",
              "6        Nodule    568   13.505282  ...       1.909934       2.315399      2.603081\n",
              "7     Pneumonia     68  112.808824  ...       4.032547       4.438012      4.725695\n",
              "8  Pneumothorax    460   16.676087  ...       2.120829       2.526294      2.813976\n",
              "\n",
              "[9 rows x 7 columns]"
            ]
          },
          "metadata": {
            "tags": []
          },
          "execution_count": 17
        }
      ]
    },
    {
      "cell_type": "code",
      "metadata": {
        "id": "pOLawY0KSr9N"
      },
      "source": [
        "class_weight = class_weight_50"
      ],
      "id": "pOLawY0KSr9N",
      "execution_count": 18,
      "outputs": []
    },
    {
      "cell_type": "code",
      "metadata": {
        "id": "jq7DEfBcIZi5",
        "outputId": "4c11336f-72bb-4db5-a6e4-90ddda6efed4",
        "colab": {
          "base_uri": "https://localhost:8080/"
        }
      },
      "source": [
        "model_transfer = tf.keras.Sequential(\n",
        "    layers=[\n",
        "        efn.EfficientNetB1(\n",
        "            input_shape=(*IMAGE_SIZE, 3),\n",
        "            weights='imagenet',\n",
        "            include_top=False,\n",
        "        ),\n",
        "        L.GlobalAveragePooling2D(),\n",
        "        L.Dense(1024, activation='relu', kernel_regularizer=L2(0.01), bias_regularizer=L2(0.01)),\n",
        "        L.Dropout(0.2),\n",
        "        L.Dense(len(LABELS), activation='softmax'),\n",
        "    ],\n",
        "    name='Model_TransferLearning',\n",
        ")"
      ],
      "id": "jq7DEfBcIZi5",
      "execution_count": 19,
      "outputs": [
        {
          "output_type": "stream",
          "text": [
            "Downloading data from https://github.com/Callidior/keras-applications/releases/download/efficientnet/efficientnet-b1_weights_tf_dim_ordering_tf_kernels_autoaugment_notop.h5\n",
            "27164672/27164032 [==============================] - 1s 0us/step\n"
          ],
          "name": "stdout"
        }
      ]
    },
    {
      "cell_type": "code",
      "metadata": {
        "id": "UTKV_5IJmDQ_"
      },
      "source": [
        "model_transfer.compile(\n",
        "    optimizer=tf.keras.optimizers.Adam(learning_rate=LEARNING_RATE),\n",
        "    loss=tf.keras.losses.BinaryCrossentropy(),\n",
        "    metrics=['accuracy'],\n",
        ")"
      ],
      "id": "UTKV_5IJmDQ_",
      "execution_count": 20,
      "outputs": []
    },
    {
      "cell_type": "code",
      "metadata": {
        "colab": {
          "base_uri": "https://localhost:8080/"
        },
        "id": "DudOBiMorAdg",
        "outputId": "3e70ccf5-0ab8-4742-9577-87cc07b62c57"
      },
      "source": [
        "train_generator = get_train_generator(\n",
        "    df = train_df,\n",
        "    file_path_col=\"File Path\",\n",
        "    labels=LABELS,\n",
        "    batch_size=BATCH_SIZE,\n",
        "    image_size=IMAGE_SIZE,\n",
        "    color_mode='rgb',\n",
        ")\n",
        "\n",
        "val_generator, test_generator= get_test_and_valid_generator(\n",
        "    val_df=val_df,\n",
        "    test_df=test_df,\n",
        "    train_df=train_df,\n",
        "    file_path_col=\"File Path\",\n",
        "    labels=LABELS,\n",
        "    batch_size=BATCH_SIZE,\n",
        "    image_size=IMAGE_SIZE,\n",
        "    color_mode='rgb',\n",
        ")"
      ],
      "id": "DudOBiMorAdg",
      "execution_count": 21,
      "outputs": [
        {
          "output_type": "stream",
          "text": [
            "Found 7671 validated image filenames.\n",
            "Found 7671 validated image filenames.\n",
            "Found 1644 validated image filenames.\n",
            "Found 1644 validated image filenames.\n"
          ],
          "name": "stdout"
        }
      ]
    },
    {
      "cell_type": "code",
      "metadata": {
        "id": "Njekdqin_BAp"
      },
      "source": [
        "# Based on: https://gist.github.com/stared/dfb4dfaf6d9a8501cd1cc8b8cb806d2e\n",
        "\n",
        "class PlotLosses(tf.keras.callbacks.Callback):\n",
        "    def on_train_begin(self, logs={}):\n",
        "        self.i = 0\n",
        "        self.x = []\n",
        "        self.losses = []\n",
        "        self.val_losses = []\n",
        "        self.accuracies = []\n",
        "        self.val_accuracies = []\n",
        "        self.fig = plt.figure()\n",
        "        self.logs = []\n",
        "\n",
        "    def on_epoch_end(self, epoch, logs={}):\n",
        "        \n",
        "        self.logs.append(logs)\n",
        "        self.x.append(self.i)\n",
        "        self.losses.append(logs.get('loss'))\n",
        "        self.val_losses.append(logs.get('val_loss'))\n",
        "        self.accuracies.append(logs.get('accuracy'))\n",
        "        self.val_accuracies.append(logs.get('val_accuracy'))\n",
        "        self.i += 1\n",
        "        \n",
        "        clear_output(wait=True)\n",
        "        fig = plt.figure()\n",
        "        line_weight = 3\n",
        "        alpha = 0.5\n",
        "        ax1 = fig.add_axes([0, 0, 1, 1])\n",
        "        ax2 = fig.add_axes()\n",
        "        ax2 = ax1.twinx()\n",
        "        lns1 = ax1.plot(self.x, self.losses, 'b-', label=\"loss\", lw=line_weight, alpha=alpha)\n",
        "        lns2 = ax1.plot(self.x, self.val_losses, 'g-', label=\"val_loss\", lw=line_weight, alpha=alpha)\n",
        "        lns3 = ax2.plot(self.x, self.accuracies, 'b--', label=\"accuracy\", lw=line_weight, alpha=alpha)\n",
        "        lns4 = ax2.plot(self.x, self.val_accuracies, 'g--', label=\"val_accuracy\", lw=line_weight, alpha=alpha)\n",
        "        lns = lns1+lns2+lns3+lns4\n",
        "        labs = [l.get_label() for l in lns]\n",
        "        ax1.legend(lns, labs, loc=0)\n",
        "        plt.title('Epoch {}/{}'.format(self.i, EPOCHS), fontsize=20)\n",
        "                \n",
        "        plt.show()\n",
        "        \n",
        "plot_losses_cb = PlotLosses()"
      ],
      "id": "Njekdqin_BAp",
      "execution_count": 22,
      "outputs": []
    },
    {
      "cell_type": "code",
      "metadata": {
        "id": "CEPUMeKl9Xx0"
      },
      "source": [
        "early_stop_cb = tf.keras.callbacks.EarlyStopping(monitor='val_accuracy', mode='auto', patience=3, min_delta=0.01, verbose=1)"
      ],
      "id": "CEPUMeKl9Xx0",
      "execution_count": 23,
      "outputs": []
    },
    {
      "cell_type": "code",
      "metadata": {
        "colab": {
          "base_uri": "https://localhost:8080/",
          "height": 374
        },
        "id": "OVjK7DGEn9Fo",
        "outputId": "6d1911ce-fe99-42e9-8266-7c854dc96952"
      },
      "source": [
        "history_transfer = model_transfer.fit(\n",
        "    train_generator,\n",
        "    validation_data=val_generator,\n",
        "    steps_per_epoch=len(train_generator),\n",
        "    validation_steps=len(val_generator),\n",
        "    epochs=EPOCHS,\n",
        "    class_weight={k:v for k, v in enumerate(class_weight)},\n",
        "    callbacks=[\n",
        "               plot_losses_cb,\n",
        "               early_stop_cb,\n",
        "               ]\n",
        ")\n"
      ],
      "id": "OVjK7DGEn9Fo",
      "execution_count": 24,
      "outputs": [
        {
          "output_type": "display_data",
          "data": {
            "image/png": "[encoded data removed]",
            "text/plain": [
              "<Figure size 432x288 with 2 Axes>"
            ]
          },
          "metadata": {
            "tags": [],
            "needs_background": "light"
          }
        },
        {
          "output_type": "stream",
          "text": [
            "Epoch 00009: early stopping\n"
          ],
          "name": "stdout"
        }
      ]
    }
  ]
}
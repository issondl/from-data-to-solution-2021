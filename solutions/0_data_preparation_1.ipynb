{
  "nbformat": 4,
  "nbformat_minor": 5,
  "metadata": {
    "kernelspec": {
      "display_name": "Python 3",
      "language": "python",
      "name": "python3"
    },
    "language_info": {
      "codemirror_mode": {
        "name": "ipython",
        "version": 3
      },
      "file_extension": ".py",
      "mimetype": "text/x-python",
      "name": "python",
      "nbconvert_exporter": "python",
      "pygments_lexer": "ipython3",
      "version": "3.7.10"
    },
    "toc-autonumbering": false,
    "colab": {
      "name": "0_process_original_dataset.ipynb",
      "provenance": [],
      "toc_visible": true
    }
  },
  "cells": [
    {
      "cell_type": "markdown",
      "metadata": {
        "id": "cd319701-32a0-4766-9483-16819a7a2f13"
      },
      "source": [
        "# Data preparation #1\n",
        "\n",
        "Useful resources:\n",
        "\n",
        "* Used dataset:\n",
        "    * [NIH Clinical Center provides one of the largest publicly available chest x-ray datasets to scientific community](https://www.nih.gov/news-events/news-releases/nih-clinical-center-provides-one-largest-publicly-available-chest-x-ray-datasets-scientific-community)\n",
        "    * [NIH CC ChestXRay Dataset (box.com)](https://nihcc.app.box.com/v/ChestXray-NIHCC)\n",
        "    * [NIH CC ChestXRay Dataset (Google Cloud)](https://cloud.google.com/healthcare/docs/resources/public-datasets/nih-chest)\n",
        "* Datasets:\n",
        "    * [Google Dataset Search](https://datasetsearch.research.google.com/)\n",
        "    * [Awesome Public Datsets on GitHub](https://github.com/awesomedata/awesome-public-datasets)\n",
        "* Pandas:\n",
        "    * [10 minutes to Pandas tutorial](https://pandas.pydata.org/pandas-docs/stable/user_guide/10min.html)"
      ],
      "id": "cd319701-32a0-4766-9483-16819a7a2f13"
    },
    {
      "cell_type": "markdown",
      "metadata": {
        "id": "NaOjZGJZiwsA"
      },
      "source": [
        "## Imports"
      ],
      "id": "NaOjZGJZiwsA"
    },
    {
      "cell_type": "code",
      "metadata": {
        "id": "e5c24bc3-bb29-4dd4-8479-7178974e77e5"
      },
      "source": [
        "import os\n",
        "import urllib.request\n",
        "from multiprocessing import Pool, cpu_count\n",
        "\n",
        "import pandas as pd\n",
        "import tqdm\n",
        "from PIL import Image"
      ],
      "id": "e5c24bc3-bb29-4dd4-8479-7178974e77e5",
      "execution_count": 1,
      "outputs": []
    },
    {
      "cell_type": "markdown",
      "metadata": {
        "id": "1kavXEbRjPKx"
      },
      "source": [
        "## Constants"
      ],
      "id": "1kavXEbRjPKx"
    },
    {
      "cell_type": "code",
      "metadata": {
        "id": "0eN9z1Zvi76N"
      },
      "source": [
        "#################################\n",
        "##   Set to True only if you   ##\n",
        "##         have time!!         ##\n",
        "#################################\n",
        "DOWNLOAD_IMAGES = False\n",
        "\n",
        "DATA_DIR = 'data/'\n",
        "IMAGES_DIR = os.path.join(DATA_DIR, 'images')\n",
        "IMAGE_NEW_RESOLUTION = (256, 256)\n",
        "ORIGINAL_CSV_FILE = os.path.join(DATA_DIR, 'Data_Entry_2017_v2020.csv')\n",
        "\n",
        "# Links to archives containing original NIH Clinical Center ChestX-ray8 dataset\n",
        "LINKS = [\n",
        "    'https://nihcc.box.com/shared/static/vfk49d74nhbxq3nqjg0900w5nvkorp5c.gz',\n",
        "    'https://nihcc.box.com/shared/static/i28rlmbvmfjbl8p2n3ril0pptcmcu9d1.gz',\n",
        "    'https://nihcc.box.com/shared/static/f1t00wrtdk94satdfb9olcolqx20z2jp.gz',\n",
        "\t'https://nihcc.box.com/shared/static/0aowwzs5lhjrceb3qp67ahp0rd1l1etg.gz',\n",
        "    'https://nihcc.box.com/shared/static/v5e3goj22zr6h8tzualxfsqlqaygfbsn.gz',\n",
        "\t'https://nihcc.box.com/shared/static/asi7ikud9jwnkrnkj99jnpfkjdes7l6l.gz',\n",
        "\t'https://nihcc.box.com/shared/static/jn1b4mw4n6lnh74ovmcjb8y48h8xj07n.gz',\n",
        "    'https://nihcc.box.com/shared/static/tvpxmn7qyrgl0w8wfh9kqfjskv6nmm1j.gz',\n",
        "\t'https://nihcc.box.com/shared/static/upyy3ml7qdumlgk2rfcvlb9k6gvqq2pj.gz',\n",
        "\t'https://nihcc.box.com/shared/static/l6nilvfa9cg3s28tqv1qc1olm3gnz54p.gz',\n",
        "\t'https://nihcc.box.com/shared/static/hhq8fkdgvcari67vfhs7ppg2w6ni4jze.gz',\n",
        "\t'https://nihcc.box.com/shared/static/ioqwiy20ihqwyr8pf4c24eazhh281pbu.gz'\n",
        "]"
      ],
      "id": "0eN9z1Zvi76N",
      "execution_count": 2,
      "outputs": []
    },
    {
      "cell_type": "markdown",
      "metadata": {
        "id": "507e3561-2b37-49d7-b5a2-ecc02dc0bb53"
      },
      "source": [
        "## Download and unpack the dataset"
      ],
      "id": "507e3561-2b37-49d7-b5a2-ecc02dc0bb53"
    },
    {
      "cell_type": "code",
      "metadata": {
        "id": "9d1761a3-de63-461d-8867-759f875f0e45"
      },
      "source": [
        "def download(idx_link):\n",
        "    idx, link = idx_link\n",
        "    fn = 'images_%02d.tar.gz' % (idx+1)\n",
        "    if os.path.exists(os.path.join(DATA_DIR, fn)):\n",
        "        print('File {} already exists. Skipping...'.format(fn))\n",
        "        return None\n",
        "    print('downloading {}...'.format(fn))\n",
        "    urllib.request.urlretrieve(link, os.path.join(DATA_DIR, fn))"
      ],
      "id": "9d1761a3-de63-461d-8867-759f875f0e45",
      "execution_count": 3,
      "outputs": []
    },
    {
      "cell_type": "code",
      "metadata": {
        "id": "00aa4609-f577-4a07-be52-b18e6bc104bd",
        "colab": {
          "base_uri": "https://localhost:8080/"
        },
        "outputId": "d6d8c511-3f8e-478a-ac81-9d7d4a50db75"
      },
      "source": [
        "print('Using {} threads'.format(cpu_count()))\n",
        "\n",
        "os.makedirs(DATA_DIR, exist_ok=True)\n",
        "\n",
        "if DOWNLOAD_IMAGES:\n",
        "    with Pool(cpu_count()) as p:\n",
        "        r = list(\n",
        "            tqdm.tqdm(\n",
        "                p.imap(download, zip(list(range(len(LINKS))), LINKS)), \n",
        "                total=len(LINKS)\n",
        "            )\n",
        "        )"
      ],
      "id": "00aa4609-f577-4a07-be52-b18e6bc104bd",
      "execution_count": 4,
      "outputs": [
        {
          "output_type": "stream",
          "text": [
            "Using 2 threads\n"
          ],
          "name": "stdout"
        }
      ]
    },
    {
      "cell_type": "code",
      "metadata": {
        "id": "8517b90b-c08a-4e68-a07d-cbf7a8b3e488"
      },
      "source": [
        "if DOWNLOAD_IMAGES:\n",
        "    archives = [os.path.join(DATA_DIR, archive) for archive in os.listdir(DATA_DIR) if archive.startswith('images_') and archive.endswith('.tar.gz')]\n",
        "\n",
        "    if not os.path.exists(IMAGES_DIR):\n",
        "        pbar = tqdm.tqdm(archives)\n",
        "        for archive in pbar:\n",
        "            pbar.set_description('Unpacking {}'.format(archive), refresh=True)\n",
        "            ! tar -xzf $archive -C $DATA_DIR\n",
        "    else:\n",
        "        print('{} exists, skipping unpacking'.format(IMAGES_DIR))"
      ],
      "id": "8517b90b-c08a-4e68-a07d-cbf7a8b3e488",
      "execution_count": 5,
      "outputs": []
    },
    {
      "cell_type": "code",
      "metadata": {
        "id": "c4d22aa4-2fd3-43af-8de7-068421f517d4",
        "colab": {
          "base_uri": "https://localhost:8080/"
        },
        "outputId": "9bc751c7-2936-4711-9558-3717029bd08d"
      },
      "source": [
        "if not os.path.exists(ORIGINAL_CSV_FILE):\n",
        "    ! gdown --id 1FVTrdLVjPvJKtU60a75Z119aABOy-YbB -O $ORIGINAL_CSV_FILE\n",
        "else:\n",
        "    print('Original CSV file ({}) already exists.'.format(ORIGINAL_CSV_FILE))"
      ],
      "id": "c4d22aa4-2fd3-43af-8de7-068421f517d4",
      "execution_count": 6,
      "outputs": [
        {
          "output_type": "stream",
          "text": [
            "Original CSV file (data/Data_Entry_2017_v2020.csv) already exists.\n"
          ],
          "name": "stdout"
        }
      ]
    },
    {
      "cell_type": "markdown",
      "metadata": {
        "id": "PKKD15efk6G_"
      },
      "source": [
        "## Explore the dataset\n",
        "\n",
        "Tasks:\n",
        "\n",
        "1. Load the CSV file and display its content.\n",
        "1. Explore the dataset. Check the `Finding Labels` column."
      ],
      "id": "PKKD15efk6G_"
    },
    {
      "cell_type": "code",
      "metadata": {
        "id": "371699b2-59bb-4eeb-a5df-f888f7583a8c",
        "colab": {
          "base_uri": "https://localhost:8080/",
          "height": 456
        },
        "outputId": "c79cbdd4-39b9-43db-f60d-9f1981c7cbf4"
      },
      "source": [
        "## Load the CSV file and display its content\n",
        "\n",
        "df = pd.read_csv(ORIGINAL_CSV_FILE)\n",
        "df"
      ],
      "id": "371699b2-59bb-4eeb-a5df-f888f7583a8c",
      "execution_count": 7,
      "outputs": [
        {
          "output_type": "execute_result",
          "data": {
            "text/html": [
              "<div>\n",
              "<style scoped>\n",
              "    .dataframe tbody tr th:only-of-type {\n",
              "        vertical-align: middle;\n",
              "    }\n",
              "\n",
              "    .dataframe tbody tr th {\n",
              "        vertical-align: top;\n",
              "    }\n",
              "\n",
              "    .dataframe thead th {\n",
              "        text-align: right;\n",
              "    }\n",
              "</style>\n",
              "<table border=\"1\" class=\"dataframe\">\n",
              "  <thead>\n",
              "    <tr style=\"text-align: right;\">\n",
              "      <th></th>\n",
              "      <th>Image Index</th>\n",
              "      <th>Finding Labels</th>\n",
              "      <th>Follow-up #</th>\n",
              "      <th>Patient ID</th>\n",
              "      <th>Patient Age</th>\n",
              "      <th>Patient Gender</th>\n",
              "      <th>View Position</th>\n",
              "      <th>OriginalImage[Width</th>\n",
              "      <th>Height]</th>\n",
              "      <th>OriginalImagePixelSpacing[x</th>\n",
              "      <th>y]</th>\n",
              "    </tr>\n",
              "  </thead>\n",
              "  <tbody>\n",
              "    <tr>\n",
              "      <th>0</th>\n",
              "      <td>00000001_000.png</td>\n",
              "      <td>Cardiomegaly</td>\n",
              "      <td>0</td>\n",
              "      <td>1</td>\n",
              "      <td>57</td>\n",
              "      <td>M</td>\n",
              "      <td>PA</td>\n",
              "      <td>2682</td>\n",
              "      <td>2749</td>\n",
              "      <td>0.143</td>\n",
              "      <td>0.143</td>\n",
              "    </tr>\n",
              "    <tr>\n",
              "      <th>1</th>\n",
              "      <td>00000001_001.png</td>\n",
              "      <td>Cardiomegaly|Emphysema</td>\n",
              "      <td>1</td>\n",
              "      <td>1</td>\n",
              "      <td>58</td>\n",
              "      <td>M</td>\n",
              "      <td>PA</td>\n",
              "      <td>2894</td>\n",
              "      <td>2729</td>\n",
              "      <td>0.143</td>\n",
              "      <td>0.143</td>\n",
              "    </tr>\n",
              "    <tr>\n",
              "      <th>2</th>\n",
              "      <td>00000001_002.png</td>\n",
              "      <td>Cardiomegaly|Effusion</td>\n",
              "      <td>2</td>\n",
              "      <td>1</td>\n",
              "      <td>58</td>\n",
              "      <td>M</td>\n",
              "      <td>PA</td>\n",
              "      <td>2500</td>\n",
              "      <td>2048</td>\n",
              "      <td>0.168</td>\n",
              "      <td>0.168</td>\n",
              "    </tr>\n",
              "    <tr>\n",
              "      <th>3</th>\n",
              "      <td>00000002_000.png</td>\n",
              "      <td>No Finding</td>\n",
              "      <td>0</td>\n",
              "      <td>2</td>\n",
              "      <td>80</td>\n",
              "      <td>M</td>\n",
              "      <td>PA</td>\n",
              "      <td>2500</td>\n",
              "      <td>2048</td>\n",
              "      <td>0.171</td>\n",
              "      <td>0.171</td>\n",
              "    </tr>\n",
              "    <tr>\n",
              "      <th>4</th>\n",
              "      <td>00000003_001.png</td>\n",
              "      <td>Hernia</td>\n",
              "      <td>0</td>\n",
              "      <td>3</td>\n",
              "      <td>74</td>\n",
              "      <td>F</td>\n",
              "      <td>PA</td>\n",
              "      <td>2500</td>\n",
              "      <td>2048</td>\n",
              "      <td>0.168</td>\n",
              "      <td>0.168</td>\n",
              "    </tr>\n",
              "    <tr>\n",
              "      <th>...</th>\n",
              "      <td>...</td>\n",
              "      <td>...</td>\n",
              "      <td>...</td>\n",
              "      <td>...</td>\n",
              "      <td>...</td>\n",
              "      <td>...</td>\n",
              "      <td>...</td>\n",
              "      <td>...</td>\n",
              "      <td>...</td>\n",
              "      <td>...</td>\n",
              "      <td>...</td>\n",
              "    </tr>\n",
              "    <tr>\n",
              "      <th>112115</th>\n",
              "      <td>00030801_001.png</td>\n",
              "      <td>Mass|Pneumonia</td>\n",
              "      <td>1</td>\n",
              "      <td>30801</td>\n",
              "      <td>38</td>\n",
              "      <td>M</td>\n",
              "      <td>PA</td>\n",
              "      <td>2048</td>\n",
              "      <td>2500</td>\n",
              "      <td>0.168</td>\n",
              "      <td>0.168</td>\n",
              "    </tr>\n",
              "    <tr>\n",
              "      <th>112116</th>\n",
              "      <td>00030802_000.png</td>\n",
              "      <td>No Finding</td>\n",
              "      <td>0</td>\n",
              "      <td>30802</td>\n",
              "      <td>28</td>\n",
              "      <td>M</td>\n",
              "      <td>PA</td>\n",
              "      <td>2048</td>\n",
              "      <td>2500</td>\n",
              "      <td>0.168</td>\n",
              "      <td>0.168</td>\n",
              "    </tr>\n",
              "    <tr>\n",
              "      <th>112117</th>\n",
              "      <td>00030803_000.png</td>\n",
              "      <td>No Finding</td>\n",
              "      <td>0</td>\n",
              "      <td>30803</td>\n",
              "      <td>42</td>\n",
              "      <td>F</td>\n",
              "      <td>PA</td>\n",
              "      <td>2048</td>\n",
              "      <td>2500</td>\n",
              "      <td>0.168</td>\n",
              "      <td>0.168</td>\n",
              "    </tr>\n",
              "    <tr>\n",
              "      <th>112118</th>\n",
              "      <td>00030804_000.png</td>\n",
              "      <td>No Finding</td>\n",
              "      <td>0</td>\n",
              "      <td>30804</td>\n",
              "      <td>29</td>\n",
              "      <td>F</td>\n",
              "      <td>PA</td>\n",
              "      <td>2048</td>\n",
              "      <td>2500</td>\n",
              "      <td>0.168</td>\n",
              "      <td>0.168</td>\n",
              "    </tr>\n",
              "    <tr>\n",
              "      <th>112119</th>\n",
              "      <td>00030805_000.png</td>\n",
              "      <td>No Finding</td>\n",
              "      <td>0</td>\n",
              "      <td>30805</td>\n",
              "      <td>26</td>\n",
              "      <td>M</td>\n",
              "      <td>PA</td>\n",
              "      <td>2048</td>\n",
              "      <td>2500</td>\n",
              "      <td>0.171</td>\n",
              "      <td>0.171</td>\n",
              "    </tr>\n",
              "  </tbody>\n",
              "</table>\n",
              "<p>112120 rows × 11 columns</p>\n",
              "</div>"
            ],
            "text/plain": [
              "             Image Index  ...     y]\n",
              "0       00000001_000.png  ...  0.143\n",
              "1       00000001_001.png  ...  0.143\n",
              "2       00000001_002.png  ...  0.168\n",
              "3       00000002_000.png  ...  0.171\n",
              "4       00000003_001.png  ...  0.168\n",
              "...                  ...  ...    ...\n",
              "112115  00030801_001.png  ...  0.168\n",
              "112116  00030802_000.png  ...  0.168\n",
              "112117  00030803_000.png  ...  0.168\n",
              "112118  00030804_000.png  ...  0.168\n",
              "112119  00030805_000.png  ...  0.171\n",
              "\n",
              "[112120 rows x 11 columns]"
            ]
          },
          "metadata": {
            "tags": []
          },
          "execution_count": 7
        }
      ]
    },
    {
      "cell_type": "code",
      "metadata": {
        "id": "857ba0ac-d3bf-4a34-b07a-f890a1a4d5d0",
        "colab": {
          "base_uri": "https://localhost:8080/"
        },
        "outputId": "ec967642-36ef-4ef8-d8ac-b755356e76c2"
      },
      "source": [
        "## Explore the dataset. Check the Finding Labels column.\n",
        "df['Finding Labels'].unique()\n",
        "df['Finding Labels'].value_counts()"
      ],
      "id": "857ba0ac-d3bf-4a34-b07a-f890a1a4d5d0",
      "execution_count": 8,
      "outputs": [
        {
          "output_type": "execute_result",
          "data": {
            "text/plain": [
              "No Finding                                                           60361\n",
              "Infiltration                                                          9547\n",
              "Atelectasis                                                           4215\n",
              "Effusion                                                              3955\n",
              "Nodule                                                                2705\n",
              "                                                                     ...  \n",
              "Atelectasis|Cardiomegaly|Edema|Effusion|Infiltration                     1\n",
              "Atelectasis|Consolidation|Nodule|Pleural_Thickening|Pneumothorax         1\n",
              "Edema|Infiltration|Pneumothorax                                          1\n",
              "Atelectasis|Consolidation|Effusion|Mass|Nodule|Pleural_Thickening        1\n",
              "Emphysema|Hernia|Pleural_Thickening                                      1\n",
              "Name: Finding Labels, Length: 836, dtype: int64"
            ]
          },
          "metadata": {
            "tags": []
          },
          "execution_count": 8
        }
      ]
    },
    {
      "cell_type": "markdown",
      "metadata": {
        "id": "0f978e4a-27cd-42b4-a8dd-1d22fc52371e"
      },
      "source": [
        "## Decrease number of samples\n",
        "\n",
        "Tasks:\n",
        "\n",
        "1. Remove samples with multiple labels (hint: multiple labels are divided with |)\n",
        "1. Remove samples with labels from \"V2\" version of the dataset. **Keep the `No Finding` category!**\n",
        "1. Randomly drop 50.000 samples with `No Finding` label"
      ],
      "id": "0f978e4a-27cd-42b4-a8dd-1d22fc52371e"
    },
    {
      "cell_type": "markdown",
      "metadata": {
        "id": "8W4GeJoBCKxe"
      },
      "source": [
        "### Remove samples with multiple labels (hint: multiple labels are divided with |)"
      ],
      "id": "8W4GeJoBCKxe"
    },
    {
      "cell_type": "code",
      "metadata": {
        "id": "272c6ace-b1d8-4a1f-b25c-11a26335fef0",
        "colab": {
          "base_uri": "https://localhost:8080/",
          "height": 366
        },
        "outputId": "0de93cb6-602c-4410-a7a7-1b5b600933fa"
      },
      "source": [
        "## Remove samples with multiple labels (hint: multiple labels are divided with |)\n",
        "df = df[~df['Finding Labels'].str.contains('\\|')]\n",
        "\n",
        "df['Finding Labels'].value_counts()\n",
        "\n",
        "df['Finding Labels'].value_counts().plot(kind='bar')"
      ],
      "id": "272c6ace-b1d8-4a1f-b25c-11a26335fef0",
      "execution_count": 9,
      "outputs": [
        {
          "output_type": "execute_result",
          "data": {
            "text/plain": [
              "<matplotlib.axes._subplots.AxesSubplot at 0x7f3790bdc2d0>"
            ]
          },
          "metadata": {
            "tags": []
          },
          "execution_count": 9
        },
        {
          "output_type": "display_data",
          "data": {
            "image/png": "[encoded data removed]",
            "text/plain": [
              "<Figure size 432x288 with 1 Axes>"
            ]
          },
          "metadata": {
            "tags": [],
            "needs_background": "light"
          }
        }
      ]
    },
    {
      "cell_type": "markdown",
      "metadata": {
        "id": "gLZc7GhICTh4"
      },
      "source": [
        "### Remove samples with `findings_v2` labels"
      ],
      "id": "gLZc7GhICTh4"
    },
    {
      "cell_type": "code",
      "metadata": {
        "id": "MCiHvX6hiDz4"
      },
      "source": [
        "FINDINGS_V1 = ['Atelectasis', 'Cardiomegaly', 'Effusion', 'Infiltration', 'Mass', 'Nodule', 'Pneumonia', 'Pneumothorax']\n",
        "FINDINGS_V2 = ['Hernia', 'Emphysema', 'Pleural_Thickening', 'Fibrosis', 'Consolidation', 'Edema']\n",
        "              # We will keep 'No Finding' class of the 'v2' dataset for this workshop"
      ],
      "id": "MCiHvX6hiDz4",
      "execution_count": 10,
      "outputs": []
    },
    {
      "cell_type": "code",
      "metadata": {
        "id": "95143ea4-1fcc-42e6-bf99-fe17758fb962",
        "colab": {
          "base_uri": "https://localhost:8080/",
          "height": 600
        },
        "outputId": "7b835324-972f-4ea8-c1e6-4b81d04f0b34"
      },
      "source": [
        "## Remove samples with `findings_v2` labels\n",
        "df.drop(df[df['Finding Labels'].str.match('|'.join(FINDINGS_V2))].index, inplace=True)\n",
        "\n",
        "print(df['Finding Labels'].value_counts())\n",
        "\n",
        "df['Finding Labels'].value_counts().plot(kind='bar')"
      ],
      "id": "95143ea4-1fcc-42e6-bf99-fe17758fb962",
      "execution_count": 11,
      "outputs": [
        {
          "output_type": "stream",
          "text": [
            "No Finding      60361\n",
            "Infiltration     9547\n",
            "Atelectasis      4215\n",
            "Effusion         3955\n",
            "Nodule           2705\n",
            "Pneumothorax     2194\n",
            "Mass             2139\n",
            "Cardiomegaly     1093\n",
            "Pneumonia         322\n",
            "Name: Finding Labels, dtype: int64\n"
          ],
          "name": "stdout"
        },
        {
          "output_type": "stream",
          "text": [
            "/usr/local/lib/python3.7/dist-packages/pandas/core/frame.py:4174: SettingWithCopyWarning: \n",
            "A value is trying to be set on a copy of a slice from a DataFrame\n",
            "\n",
            "See the caveats in the documentation: https://pandas.pydata.org/pandas-docs/stable/user_guide/indexing.html#returning-a-view-versus-a-copy\n",
            "  errors=errors,\n"
          ],
          "name": "stderr"
        },
        {
          "output_type": "execute_result",
          "data": {
            "text/plain": [
              "<matplotlib.axes._subplots.AxesSubplot at 0x7f379056ff50>"
            ]
          },
          "metadata": {
            "tags": []
          },
          "execution_count": 11
        },
        {
          "output_type": "display_data",
          "data": {
            "image/png": "[encoded data removed]",
            "text/plain": [
              "<Figure size 432x288 with 1 Axes>"
            ]
          },
          "metadata": {
            "tags": [],
            "needs_background": "light"
          }
        }
      ]
    },
    {
      "cell_type": "markdown",
      "metadata": {
        "id": "zgbtw5mCCZLm"
      },
      "source": [
        "### Randomly drop 50.000 samples with `No Finding` label"
      ],
      "id": "zgbtw5mCCZLm"
    },
    {
      "cell_type": "code",
      "metadata": {
        "id": "7b0c5f82-869b-4f75-ba52-56184ee953b9",
        "colab": {
          "base_uri": "https://localhost:8080/",
          "height": 600
        },
        "outputId": "f83e0058-5083-4146-a736-a487b17619a9"
      },
      "source": [
        "## Randomly drop 50.000 samples with `No Finding` label\n",
        "\n",
        "df.drop(\n",
        "    df[df['Finding Labels'].str.match('No Finding')].sample(n=50000, random_state=2021).index, \n",
        "    inplace=True\n",
        "    )\n",
        "\n",
        "print(df['Finding Labels'].value_counts())\n",
        "\n",
        "df['Finding Labels'].value_counts().plot(kind='bar')"
      ],
      "id": "7b0c5f82-869b-4f75-ba52-56184ee953b9",
      "execution_count": 12,
      "outputs": [
        {
          "output_type": "stream",
          "text": [
            "No Finding      10361\n",
            "Infiltration     9547\n",
            "Atelectasis      4215\n",
            "Effusion         3955\n",
            "Nodule           2705\n",
            "Pneumothorax     2194\n",
            "Mass             2139\n",
            "Cardiomegaly     1093\n",
            "Pneumonia         322\n",
            "Name: Finding Labels, dtype: int64\n"
          ],
          "name": "stdout"
        },
        {
          "output_type": "stream",
          "text": [
            "/usr/local/lib/python3.7/dist-packages/pandas/core/frame.py:4174: SettingWithCopyWarning: \n",
            "A value is trying to be set on a copy of a slice from a DataFrame\n",
            "\n",
            "See the caveats in the documentation: https://pandas.pydata.org/pandas-docs/stable/user_guide/indexing.html#returning-a-view-versus-a-copy\n",
            "  errors=errors,\n"
          ],
          "name": "stderr"
        },
        {
          "output_type": "execute_result",
          "data": {
            "text/plain": [
              "<matplotlib.axes._subplots.AxesSubplot at 0x7f379050e0d0>"
            ]
          },
          "metadata": {
            "tags": []
          },
          "execution_count": 12
        },
        {
          "output_type": "display_data",
          "data": {
            "image/png": "[encoded data removed]",
            "text/plain": [
              "<Figure size 432x288 with 1 Axes>"
            ]
          },
          "metadata": {
            "tags": [],
            "needs_background": "light"
          }
        }
      ]
    },
    {
      "cell_type": "markdown",
      "metadata": {
        "id": "5bc6920b-577a-45ea-ad74-72c8d5d1eb16"
      },
      "source": [
        "## Sync DF with images"
      ],
      "id": "5bc6920b-577a-45ea-ad74-72c8d5d1eb16"
    },
    {
      "cell_type": "code",
      "metadata": {
        "id": "f2d35b0f-a0e1-45f0-b251-ac77625e2c0d"
      },
      "source": [
        "def sync_files_csv():\n",
        "    images = {f for f in os.listdir(IMAGES_DIR) if f.endswith('.png')}\n",
        "    image_index = set(df['Image Index'])\n",
        "    print('sync_files_csv - Before images: {} ; Before CSV: {}'.format(len(images), len(df)))\n",
        "    \n",
        "    diff = list(images.symmetric_difference(image_index))\n",
        "    print('images - image_index: {}'.format(len(diff)))\n",
        "    \n",
        "    for image in tqdm.tqdm(diff):\n",
        "        try:\n",
        "            os.remove(os.path.join(IMAGES_DIR, image))\n",
        "        except:\n",
        "            pass\n",
        "        df.drop(df[df['Image Index'].str.match(image)].index, inplace=True)\n",
        "    \n",
        "    images = {f for f in os.listdir(IMAGES_DIR) if f.endswith('.png')}\n",
        "    print('sync_files_csv - After images: {} ; After CSV: {}'.format(len(images), len(df)))\n",
        "\n",
        "if DOWNLOAD_IMAGES:\n",
        "    sync_files_csv()"
      ],
      "id": "f2d35b0f-a0e1-45f0-b251-ac77625e2c0d",
      "execution_count": 13,
      "outputs": []
    },
    {
      "cell_type": "markdown",
      "metadata": {
        "id": "502cffcc-e74e-4a6d-aa2e-39a6c2844666"
      },
      "source": [
        "## Resize images"
      ],
      "id": "502cffcc-e74e-4a6d-aa2e-39a6c2844666"
    },
    {
      "cell_type": "code",
      "metadata": {
        "id": "8bb7b422-2b3e-46c7-bc66-3a567a448a08"
      },
      "source": [
        "def resize(img_path):\n",
        "    try:\n",
        "        img = Image.open(img_path)\n",
        "        img_resized = img.resize(IMAGE_NEW_RESOLUTION)\n",
        "        img_resized.save(img_path, \"PNG\")\n",
        "    except Exception as ex:\n",
        "        print('Error when processing {}. Removing image. Exception: {}'.format(img_name, ex))\n",
        "        os.remove(img_path)"
      ],
      "id": "8bb7b422-2b3e-46c7-bc66-3a567a448a08",
      "execution_count": 14,
      "outputs": []
    },
    {
      "cell_type": "code",
      "metadata": {
        "id": "008b4844-2be4-45ee-b5ac-f2f95d8f169f"
      },
      "source": [
        "if DOWNLOAD_IMAGES:\n",
        "    images = [os.path.join(IMAGES_DIR, img_name) for img_name in os.listdir(IMAGES_DIR) if img_name.endswith('.png')]\n",
        "\n",
        "    print('Resizing images to {}'.format(IMAGE_NEW_RESOLUTION))\n",
        "\n",
        "    with Pool(cpu_count()) as p:\n",
        "        r = list(\n",
        "            tqdm.tqdm(\n",
        "                p.imap(resize, images),\n",
        "                total=len(images)\n",
        "            )\n",
        "        )"
      ],
      "id": "008b4844-2be4-45ee-b5ac-f2f95d8f169f",
      "execution_count": 15,
      "outputs": []
    },
    {
      "cell_type": "markdown",
      "metadata": {
        "id": "04bf788c-d9a3-4fd6-abf7-83926414806d"
      },
      "source": [
        "## Save results"
      ],
      "id": "04bf788c-d9a3-4fd6-abf7-83926414806d"
    },
    {
      "cell_type": "code",
      "metadata": {
        "id": "7d4f2117-2968-466a-afaf-1e55b9c0bd9f"
      },
      "source": [
        "if DOWNLOAD_IMAGES:\n",
        "    archive = os.path.join(DATA_DIR, 'nih_chest_xray_single_9c_{}x{}.tar.gz'.format(IMAGE_NEW_RESOLUTION[0], IMAGE_NEW_RESOLUTION[1]))\n",
        "\n",
        "    if not os.path.exists(archive):\n",
        "        ! tar -czf $archive $IMAGES_DIR\n",
        "    else:\n",
        "        print('Archive {} already exists'.format(archive))\n",
        "    \n",
        "    df.reindex()\n",
        "    df.to_csv(os.path.join(DATA_DIR, 'nih_chest_xray_single_9c.csv'))"
      ],
      "id": "7d4f2117-2968-466a-afaf-1e55b9c0bd9f",
      "execution_count": 16,
      "outputs": []
    }
  ]
}
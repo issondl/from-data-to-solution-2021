{
 "cells": [
  {
   "cell_type": "markdown",
   "id": "dc68099f",
   "metadata": {},
   "source": [
    "<a href=\"https://colab.research.google.com/github/issondl/from-data-to-solution-2021/blob/main/0_data_preparation_1.ipynb\" target=\"_parent\"><img src=\"https://colab.research.google.com/assets/colab-badge.svg\" alt=\"Open In Colab\"/></a>"
   ]
  },
  {
   "cell_type": "markdown",
   "id": "cd319701-32a0-4766-9483-16819a7a2f13",
   "metadata": {
    "id": "cd319701-32a0-4766-9483-16819a7a2f13"
   },
   "source": [
    "# Data preparation #1\n",
    "\n",
    "Useful resources:\n",
    "\n",
    "* Used dataset:\n",
    "    * [NIH Clinical Center provides one of the largest publicly available chest x-ray datasets to scientific community](https://www.nih.gov/news-events/news-releases/nih-clinical-center-provides-one-largest-publicly-available-chest-x-ray-datasets-scientific-community)\n",
    "    * [NIH CC ChestXRay Dataset (box.com)](https://nihcc.app.box.com/v/ChestXray-NIHCC)\n",
    "    * [NIH CC ChestXRay Dataset (Google Cloud)](https://cloud.google.com/healthcare/docs/resources/public-datasets/nih-chest)\n",
    "* Datasets:\n",
    "    * [Google Dataset Search](https://datasetsearch.research.google.com/)\n",
    "    * [Awesome Public Datsets on GitHub](https://github.com/awesomedata/awesome-public-datasets)\n",
    "* Pandas:\n",
    "    * [10 minutes to Pandas tutorial](https://pandas.pydata.org/pandas-docs/stable/user_guide/10min.html)"
   ]
  },
  {
   "cell_type": "markdown",
   "id": "NaOjZGJZiwsA",
   "metadata": {
    "id": "NaOjZGJZiwsA"
   },
   "source": [
    "## Imports"
   ]
  },
  {
   "cell_type": "code",
   "execution_count": null,
   "id": "e5c24bc3-bb29-4dd4-8479-7178974e77e5",
   "metadata": {
    "id": "e5c24bc3-bb29-4dd4-8479-7178974e77e5"
   },
   "outputs": [],
   "source": [
    "import os\n",
    "import urllib.request\n",
    "from multiprocessing import Pool, cpu_count\n",
    "\n",
    "import pandas as pd\n",
    "import tqdm\n",
    "from PIL import Image"
   ]
  },
  {
   "cell_type": "markdown",
   "id": "1kavXEbRjPKx",
   "metadata": {
    "id": "1kavXEbRjPKx"
   },
   "source": [
    "## Constants"
   ]
  },
  {
   "cell_type": "code",
   "execution_count": null,
   "id": "0eN9z1Zvi76N",
   "metadata": {
    "id": "0eN9z1Zvi76N"
   },
   "outputs": [],
   "source": [
    "#  _______________________________________\n",
    "# / Set 'DOWNLOAD_IMAGES' to True only if \\\n",
    "# \\ time you have.                        /\n",
    "#  ---------------------------------------\n",
    "#    \\\n",
    "#     \\        .\n",
    "#      .---.  //\n",
    "#     Y|o o|Y//\n",
    "#    /_(i=i)K/\n",
    "#    ~()~*~()~\n",
    "#     (_)-(_)\n",
    "\n",
    "#      Darth\n",
    "#      Vader\n",
    "#      koala\n",
    "DOWNLOAD_IMAGES = False\n",
    "\n",
    "DATA_DIR = 'data/'\n",
    "IMAGES_DIR = os.path.join(DATA_DIR, 'images')\n",
    "IMAGE_NEW_RESOLUTION = (256, 256)\n",
    "ORIGINAL_CSV_FILE = os.path.join(DATA_DIR, 'Data_Entry_2017_v2020.csv')\n",
    "\n",
    "# Links to archives containing original NIH Clinical Center ChestX-ray8 dataset\n",
    "LINKS = [\n",
    "    'https://nihcc.box.com/shared/static/vfk49d74nhbxq3nqjg0900w5nvkorp5c.gz',\n",
    "    'https://nihcc.box.com/shared/static/i28rlmbvmfjbl8p2n3ril0pptcmcu9d1.gz',\n",
    "    'https://nihcc.box.com/shared/static/f1t00wrtdk94satdfb9olcolqx20z2jp.gz',\n",
    "    'https://nihcc.box.com/shared/static/0aowwzs5lhjrceb3qp67ahp0rd1l1etg.gz',\n",
    "    'https://nihcc.box.com/shared/static/v5e3goj22zr6h8tzualxfsqlqaygfbsn.gz',\n",
    "    'https://nihcc.box.com/shared/static/asi7ikud9jwnkrnkj99jnpfkjdes7l6l.gz',\n",
    "    'https://nihcc.box.com/shared/static/jn1b4mw4n6lnh74ovmcjb8y48h8xj07n.gz',\n",
    "    'https://nihcc.box.com/shared/static/tvpxmn7qyrgl0w8wfh9kqfjskv6nmm1j.gz',\n",
    "    'https://nihcc.box.com/shared/static/upyy3ml7qdumlgk2rfcvlb9k6gvqq2pj.gz',\n",
    "    'https://nihcc.box.com/shared/static/l6nilvfa9cg3s28tqv1qc1olm3gnz54p.gz',\n",
    "    'https://nihcc.box.com/shared/static/hhq8fkdgvcari67vfhs7ppg2w6ni4jze.gz',\n",
    "    'https://nihcc.box.com/shared/static/ioqwiy20ihqwyr8pf4c24eazhh281pbu.gz'\n",
    "]"
   ]
  },
  {
   "cell_type": "markdown",
   "id": "507e3561-2b37-49d7-b5a2-ecc02dc0bb53",
   "metadata": {
    "id": "507e3561-2b37-49d7-b5a2-ecc02dc0bb53"
   },
   "source": [
    "## Download and unpack the dataset"
   ]
  },
  {
   "cell_type": "code",
   "execution_count": null,
   "id": "9d1761a3-de63-461d-8867-759f875f0e45",
   "metadata": {
    "id": "9d1761a3-de63-461d-8867-759f875f0e45"
   },
   "outputs": [],
   "source": [
    "def download(idx_link):\n",
    "    idx, link = idx_link\n",
    "    fn = 'images_%02d.tar.gz' % (idx+1)\n",
    "    if os.path.exists(os.path.join(DATA_DIR, fn)):\n",
    "        print('File {} already exists. Skipping...'.format(fn))\n",
    "        return None\n",
    "    print('downloading {}...'.format(fn))\n",
    "    urllib.request.urlretrieve(link, os.path.join(DATA_DIR, fn))"
   ]
  },
  {
   "cell_type": "code",
   "execution_count": null,
   "id": "00aa4609-f577-4a07-be52-b18e6bc104bd",
   "metadata": {
    "colab": {
     "base_uri": "https://localhost:8080/"
    },
    "id": "00aa4609-f577-4a07-be52-b18e6bc104bd",
    "outputId": "d6d8c511-3f8e-478a-ac81-9d7d4a50db75"
   },
   "outputs": [],
   "source": [
    "print('Using {} threads'.format(cpu_count()))\n",
    "\n",
    "os.makedirs(DATA_DIR, exist_ok=True)\n",
    "\n",
    "if DOWNLOAD_IMAGES:\n",
    "    with Pool(cpu_count()) as p:\n",
    "        r = list(\n",
    "            tqdm.tqdm(\n",
    "                p.imap(download, zip(list(range(len(LINKS))), LINKS)), \n",
    "                total=len(LINKS)\n",
    "            )\n",
    "        )"
   ]
  },
  {
   "cell_type": "code",
   "execution_count": null,
   "id": "8517b90b-c08a-4e68-a07d-cbf7a8b3e488",
   "metadata": {
    "id": "8517b90b-c08a-4e68-a07d-cbf7a8b3e488"
   },
   "outputs": [],
   "source": [
    "if DOWNLOAD_IMAGES:\n",
    "    archives = [os.path.join(DATA_DIR, archive) for archive in os.listdir(DATA_DIR) if archive.startswith('images_') and archive.endswith('.tar.gz')]\n",
    "\n",
    "    if not os.path.exists(IMAGES_DIR):\n",
    "        pbar = tqdm.tqdm(archives)\n",
    "        for archive in pbar:\n",
    "            pbar.set_description('Unpacking {}'.format(archive), refresh=True)\n",
    "            ! tar -xzf $archive -C $DATA_DIR\n",
    "    else:\n",
    "        print('{} exists, skipping unpacking'.format(IMAGES_DIR))"
   ]
  },
  {
   "cell_type": "code",
   "execution_count": null,
   "id": "c4d22aa4-2fd3-43af-8de7-068421f517d4",
   "metadata": {
    "colab": {
     "base_uri": "https://localhost:8080/"
    },
    "id": "c4d22aa4-2fd3-43af-8de7-068421f517d4",
    "outputId": "9bc751c7-2936-4711-9558-3717029bd08d"
   },
   "outputs": [],
   "source": [
    "if not os.path.exists(ORIGINAL_CSV_FILE):\n",
    "    ! gdown --id 1FVTrdLVjPvJKtU60a75Z119aABOy-YbB -O $ORIGINAL_CSV_FILE\n",
    "else:\n",
    "    print('Original CSV file ({}) already exists.'.format(ORIGINAL_CSV_FILE))"
   ]
  },
  {
   "cell_type": "markdown",
   "id": "PKKD15efk6G_",
   "metadata": {
    "id": "PKKD15efk6G_"
   },
   "source": [
    "## Explore the dataset\n",
    "\n",
    "Tasks:\n",
    "\n",
    "1. Load the CSV file and display its content.\n",
    "1. Explore the dataset. Check the `Finding Labels` column."
   ]
  },
  {
   "cell_type": "code",
   "execution_count": null,
   "id": "371699b2-59bb-4eeb-a5df-f888f7583a8c",
   "metadata": {
    "colab": {
     "base_uri": "https://localhost:8080/",
     "height": 456
    },
    "id": "371699b2-59bb-4eeb-a5df-f888f7583a8c",
    "outputId": "c79cbdd4-39b9-43db-f60d-9f1981c7cbf4"
   },
   "outputs": [],
   "source": [
    "## Load the CSV file and display its content\n"
   ]
  },
  {
   "cell_type": "code",
   "execution_count": null,
   "id": "857ba0ac-d3bf-4a34-b07a-f890a1a4d5d0",
   "metadata": {
    "colab": {
     "base_uri": "https://localhost:8080/"
    },
    "id": "857ba0ac-d3bf-4a34-b07a-f890a1a4d5d0",
    "outputId": "ec967642-36ef-4ef8-d8ac-b755356e76c2"
   },
   "outputs": [],
   "source": [
    "## Explore the dataset. Check the Finding Labels column.\n"
   ]
  },
  {
   "cell_type": "markdown",
   "id": "0f978e4a-27cd-42b4-a8dd-1d22fc52371e",
   "metadata": {
    "id": "0f978e4a-27cd-42b4-a8dd-1d22fc52371e"
   },
   "source": [
    "## Decrease number of samples\n",
    "\n",
    "Tasks:\n",
    "\n",
    "1. Remove samples with multiple labels (hint: multiple labels are divided with |)\n",
    "1. Remove samples with labels from \"V2\" version of the dataset. **Keep the `No Finding` category!**\n",
    "1. Randomly drop 50.000 samples with `No Finding` label"
   ]
  },
  {
   "cell_type": "markdown",
   "id": "8W4GeJoBCKxe",
   "metadata": {
    "id": "8W4GeJoBCKxe"
   },
   "source": [
    "### Remove samples with multiple labels (hint: multiple labels are divided with |)"
   ]
  },
  {
   "cell_type": "code",
   "execution_count": null,
   "id": "272c6ace-b1d8-4a1f-b25c-11a26335fef0",
   "metadata": {
    "colab": {
     "base_uri": "https://localhost:8080/",
     "height": 366
    },
    "id": "272c6ace-b1d8-4a1f-b25c-11a26335fef0",
    "outputId": "0de93cb6-602c-4410-a7a7-1b5b600933fa"
   },
   "outputs": [],
   "source": [
    "## Remove samples with multiple labels (hint: multiple labels are divided with |)\n"
   ]
  },
  {
   "cell_type": "markdown",
   "id": "gLZc7GhICTh4",
   "metadata": {
    "id": "gLZc7GhICTh4"
   },
   "source": [
    "### Remove samples with `findings_v2` labels"
   ]
  },
  {
   "cell_type": "code",
   "execution_count": null,
   "id": "MCiHvX6hiDz4",
   "metadata": {
    "id": "MCiHvX6hiDz4"
   },
   "outputs": [],
   "source": [
    "FINDINGS_V1 = ['Atelectasis', 'Cardiomegaly', 'Effusion', 'Infiltration', 'Mass', 'Nodule', 'Pneumonia', 'Pneumothorax']\n",
    "FINDINGS_V2 = ['Hernia', 'Emphysema', 'Pleural_Thickening', 'Fibrosis', 'Consolidation', 'Edema']\n",
    "              # We will keep 'No Finding' class of the 'v2' dataset for this workshop"
   ]
  },
  {
   "cell_type": "code",
   "execution_count": null,
   "id": "95143ea4-1fcc-42e6-bf99-fe17758fb962",
   "metadata": {
    "colab": {
     "base_uri": "https://localhost:8080/",
     "height": 600
    },
    "id": "95143ea4-1fcc-42e6-bf99-fe17758fb962",
    "outputId": "7b835324-972f-4ea8-c1e6-4b81d04f0b34"
   },
   "outputs": [],
   "source": [
    "## Remove samples with labels from \"V2\" version of the dataset. Keep the No Finding category!\n"
   ]
  },
  {
   "cell_type": "markdown",
   "id": "zgbtw5mCCZLm",
   "metadata": {
    "id": "zgbtw5mCCZLm"
   },
   "source": [
    "### Randomly drop 50.000 samples with `No Finding` label"
   ]
  },
  {
   "cell_type": "code",
   "execution_count": null,
   "id": "7b0c5f82-869b-4f75-ba52-56184ee953b9",
   "metadata": {
    "colab": {
     "base_uri": "https://localhost:8080/",
     "height": 600
    },
    "id": "7b0c5f82-869b-4f75-ba52-56184ee953b9",
    "outputId": "f83e0058-5083-4146-a736-a487b17619a9"
   },
   "outputs": [],
   "source": [
    "## Randomly drop 50.000 samples with `No Finding` label\n"
   ]
  },
  {
   "cell_type": "markdown",
   "id": "5bc6920b-577a-45ea-ad74-72c8d5d1eb16",
   "metadata": {
    "id": "5bc6920b-577a-45ea-ad74-72c8d5d1eb16"
   },
   "source": [
    "## Sync DF with images"
   ]
  },
  {
   "cell_type": "code",
   "execution_count": null,
   "id": "f2d35b0f-a0e1-45f0-b251-ac77625e2c0d",
   "metadata": {
    "id": "f2d35b0f-a0e1-45f0-b251-ac77625e2c0d"
   },
   "outputs": [],
   "source": [
    "def sync_files_csv():\n",
    "    images = {f for f in os.listdir(IMAGES_DIR) if f.endswith('.png')}\n",
    "    image_index = set(df['Image Index'])\n",
    "    print('sync_files_csv - Before images: {} ; Before CSV: {}'.format(len(images), len(df)))\n",
    "    \n",
    "    diff = list(images.symmetric_difference(image_index))\n",
    "    print('images - image_index: {}'.format(len(diff)))\n",
    "    \n",
    "    for image in tqdm.tqdm(diff):\n",
    "        try:\n",
    "            os.remove(os.path.join(IMAGES_DIR, image))\n",
    "        except:\n",
    "            pass\n",
    "        df.drop(df[df['Image Index'].str.match(image)].index, inplace=True)\n",
    "    \n",
    "    images = {f for f in os.listdir(IMAGES_DIR) if f.endswith('.png')}\n",
    "    print('sync_files_csv - After images: {} ; After CSV: {}'.format(len(images), len(df)))\n",
    "\n",
    "if DOWNLOAD_IMAGES:\n",
    "    sync_files_csv()"
   ]
  },
  {
   "cell_type": "markdown",
   "id": "502cffcc-e74e-4a6d-aa2e-39a6c2844666",
   "metadata": {
    "id": "502cffcc-e74e-4a6d-aa2e-39a6c2844666"
   },
   "source": [
    "## Resize images"
   ]
  },
  {
   "cell_type": "code",
   "execution_count": null,
   "id": "8bb7b422-2b3e-46c7-bc66-3a567a448a08",
   "metadata": {
    "id": "8bb7b422-2b3e-46c7-bc66-3a567a448a08"
   },
   "outputs": [],
   "source": [
    "def resize(img_path):\n",
    "    try:\n",
    "        img = Image.open(img_path)\n",
    "        img_resized = img.resize(IMAGE_NEW_RESOLUTION)\n",
    "        img_resized.save(img_path, \"PNG\")\n",
    "    except Exception as ex:\n",
    "        print('Error when processing {}. Removing image. Exception: {}'.format(img_name, ex))\n",
    "        os.remove(img_path)"
   ]
  },
  {
   "cell_type": "code",
   "execution_count": null,
   "id": "008b4844-2be4-45ee-b5ac-f2f95d8f169f",
   "metadata": {
    "id": "008b4844-2be4-45ee-b5ac-f2f95d8f169f"
   },
   "outputs": [],
   "source": [
    "if DOWNLOAD_IMAGES:\n",
    "    images = [os.path.join(IMAGES_DIR, img_name) for img_name in os.listdir(IMAGES_DIR) if img_name.endswith('.png')]\n",
    "\n",
    "    print('Resizing images to {}'.format(IMAGE_NEW_RESOLUTION))\n",
    "\n",
    "    with Pool(cpu_count()) as p:\n",
    "        r = list(\n",
    "            tqdm.tqdm(\n",
    "                p.imap(resize, images),\n",
    "                total=len(images)\n",
    "            )\n",
    "        )"
   ]
  },
  {
   "cell_type": "markdown",
   "id": "04bf788c-d9a3-4fd6-abf7-83926414806d",
   "metadata": {
    "id": "04bf788c-d9a3-4fd6-abf7-83926414806d"
   },
   "source": [
    "## Save results"
   ]
  },
  {
   "cell_type": "code",
   "execution_count": null,
   "id": "7d4f2117-2968-466a-afaf-1e55b9c0bd9f",
   "metadata": {
    "id": "7d4f2117-2968-466a-afaf-1e55b9c0bd9f"
   },
   "outputs": [],
   "source": [
    "if DOWNLOAD_IMAGES:\n",
    "    archive = os.path.join(DATA_DIR, 'nih_chest_xray_single_9c_{}x{}.tar.gz'.format(IMAGE_NEW_RESOLUTION[0], IMAGE_NEW_RESOLUTION[1]))\n",
    "\n",
    "    if not os.path.exists(archive):\n",
    "        ! tar -czf $archive $IMAGES_DIR\n",
    "    else:\n",
    "        print('Archive {} already exists'.format(archive))\n",
    "    \n",
    "    df.reindex()\n",
    "    df.to_csv(os.path.join(DATA_DIR, 'nih_chest_xray_single_9c.csv'))"
   ]
  }
 ],
 "metadata": {
  "colab": {
   "name": "0_process_original_dataset.ipynb",
   "provenance": [],
   "toc_visible": true
  },
  "kernelspec": {
   "display_name": "Python 3",
   "language": "python",
   "name": "python3"
  },
  "language_info": {
   "codemirror_mode": {
    "name": "ipython",
    "version": 3
   },
   "file_extension": ".py",
   "mimetype": "text/x-python",
   "name": "python",
   "nbconvert_exporter": "python",
   "pygments_lexer": "ipython3",
   "version": "3.7.10"
  },
  "toc-autonumbering": false
 },
 "nbformat": 4,
 "nbformat_minor": 5
}

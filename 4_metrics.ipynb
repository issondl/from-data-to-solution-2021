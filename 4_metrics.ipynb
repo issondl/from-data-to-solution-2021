{
 "cells": [
  {
   "cell_type": "markdown",
   "metadata": {},
   "source": [
    "<a href=\"https://colab.research.google.com/github/issondl/from-data-to-solution-2021/blob/main/4_metrics.ipynb\" target=\"_parent\"><img src=\"https://colab.research.google.com/assets/colab-badge.svg\" alt=\"Open In Colab\"/></a>"
   ]
  },
  {
   "cell_type": "markdown",
   "metadata": {
    "id": "ZaNKYpnzLfXI"
   },
   "source": [
    "# Metrics"
   ]
  },
  {
   "cell_type": "markdown",
   "metadata": {
    "id": "7PnfZuBtLhUf"
   },
   "source": [
    "## Imports"
   ]
  },
  {
   "cell_type": "code",
   "execution_count": null,
   "metadata": {
    "id": "mgn6smKWIWaR"
   },
   "outputs": [],
   "source": [
    "import numpy as np\n",
    "np.random.seed(2021)\n",
    "import random\n",
    "random.seed(2021)\n",
    "\n",
    "from IPython.display import Markdown, display\n",
    "\n",
    "def printmd(string):\n",
    "    display(Markdown(string))"
   ]
  },
  {
   "cell_type": "markdown",
   "metadata": {
    "id": "HUACl7HAqi7B"
   },
   "source": [
    "## Create Toy Datasets"
   ]
  },
  {
   "cell_type": "code",
   "execution_count": null,
   "metadata": {
    "colab": {
     "base_uri": "https://localhost:8080/"
    },
    "id": "rwT27VSwFD1n",
    "outputId": "296689af-463c-4351-a859-6e14c5cde610"
   },
   "outputs": [],
   "source": [
    "def pc(db):  # print count\n",
    "    print(\"Database contains {} negative and {} positive samples\".format(db.count(0), db.count(1)))\n",
    "\n",
    "length = 100\n",
    "\n",
    "# Balanced\n",
    "db_balanced = [0] * (length//2) + [1] * (length//2)\n",
    "pc(db_balanced)\n",
    "\n",
    "# More positives\n",
    "amount = random.uniform(0.9, 0.99)\n",
    "db_positives = [1] * int(length*amount) + [0] * int(length*(1-amount)+1)\n",
    "pc(db_positives)\n",
    "\n",
    "# More negatives\n",
    "amount = random.uniform(0.9, 0.99)\n",
    "db_negatives = [0] * int(length*amount) + [1] * int(length*(1-amount)+1)\n",
    "pc(db_negatives)"
   ]
  },
  {
   "cell_type": "markdown",
   "metadata": {
    "id": "ib8W_WM-sprY"
   },
   "source": [
    "## Dummy model"
   ]
  },
  {
   "cell_type": "code",
   "execution_count": null,
   "metadata": {
    "id": "O_g-i3e8Ig5U"
   },
   "outputs": [],
   "source": [
    "top_no = 95\n",
    "def dummy_model(data, threshold):\n",
    "    correct=0\n",
    "    output=[]\n",
    "    for i, d in enumerate(data):\n",
    "        if i < threshold or i > top_no :\n",
    "            output.append(d)\n",
    "            correct+=1\n",
    "        else:\n",
    "            output.append(abs(1-d))\n",
    "    return output"
   ]
  },
  {
   "cell_type": "markdown",
   "metadata": {
    "id": "MtAIgwDFxxIi"
   },
   "source": [
    "### *Balanced dataset*"
   ]
  },
  {
   "cell_type": "code",
   "execution_count": null,
   "metadata": {
    "id": "Ayu-WlD0tDsx"
   },
   "outputs": [],
   "source": [
    "balanced_threshold = 80\n",
    "out_balanced = dummy_model(db_balanced, balanced_threshold)"
   ]
  },
  {
   "cell_type": "code",
   "execution_count": null,
   "metadata": {
    "colab": {
     "base_uri": "https://localhost:8080/",
     "height": 143
    },
    "id": "GKSXb78-tWwu",
    "outputId": "4bb50bc8-6371-4f62-aabe-dd3c26a14556"
   },
   "outputs": [],
   "source": [
    "print('Labels:')\n",
    "printmd('{}**{}**{}'.format(db_balanced[:balanced_threshold], db_balanced[balanced_threshold:top_no], db_balanced[top_no+1:],))\n",
    "print('Predictions:')\n",
    "printmd('{}**{}**{}'.format(out_balanced[:balanced_threshold], out_balanced[balanced_threshold:top_no], out_balanced[top_no+1:],))"
   ]
  },
  {
   "cell_type": "markdown",
   "metadata": {
    "id": "aPQiRnnox2pi"
   },
   "source": [
    "### *More positives*"
   ]
  },
  {
   "cell_type": "code",
   "execution_count": null,
   "metadata": {
    "id": "DXsa1xWnx5ew"
   },
   "outputs": [],
   "source": [
    "positives_threshold = 80\n",
    "out_positives = dummy_model(db_positives, positives_threshold)"
   ]
  },
  {
   "cell_type": "code",
   "execution_count": null,
   "metadata": {
    "colab": {
     "base_uri": "https://localhost:8080/",
     "height": 143
    },
    "id": "RFHXg16Hyz_7",
    "outputId": "bbc705b1-2fa7-46f2-c47f-99e1c0832177"
   },
   "outputs": [],
   "source": [
    "print('Labels:')\n",
    "printmd('{}**{}**{}'.format(db_positives[:positives_threshold], db_positives[positives_threshold:top_no], db_positives[top_no+1:]))\n",
    "print('Predictions:')\n",
    "printmd('{}**{}**{}'.format(out_positives[:positives_threshold], out_positives[positives_threshold:top_no], out_positives[top_no+1:]))"
   ]
  },
  {
   "cell_type": "markdown",
   "metadata": {
    "id": "MP_c2crP0mJA"
   },
   "source": [
    "### *More negatives*"
   ]
  },
  {
   "cell_type": "code",
   "execution_count": null,
   "metadata": {
    "id": "6x9OQ7pS0rF7"
   },
   "outputs": [],
   "source": [
    "negatives_threshold = 80\n",
    "out_negatives = dummy_model(db_negatives, negatives_threshold)"
   ]
  },
  {
   "cell_type": "code",
   "execution_count": null,
   "metadata": {
    "colab": {
     "base_uri": "https://localhost:8080/",
     "height": 143
    },
    "id": "4qv3vRaj0xHd",
    "outputId": "191ce7e9-ab51-487f-d9e9-98c726df398b"
   },
   "outputs": [],
   "source": [
    "print('Labels:')\n",
    "printmd('{}**{}**{}'.format(db_negatives[:negatives_threshold], db_negatives[negatives_threshold:top_no], db_negatives[top_no+1:]))\n",
    "print('Predictions:')\n",
    "printmd('{}**{}**{}'.format(out_negatives[:negatives_threshold], out_negatives[negatives_threshold:top_no], db_negatives[top_no+1:]))"
   ]
  },
  {
   "cell_type": "markdown",
   "metadata": {
    "id": "KtuScxpys3Er"
   },
   "source": [
    "## Metrics"
   ]
  },
  {
   "cell_type": "markdown",
   "metadata": {
    "id": "b7s9JTGHs6ny"
   },
   "source": [
    "### **Accuracy**\n",
    "\n",
    "Tasks:\n",
    "\n",
    "* Create method implementing accuracy metric"
   ]
  },
  {
   "cell_type": "markdown",
   "metadata": {
    "id": "SuLo_oH7xieY"
   },
   "source": [
    "*Balanced dataset*\n"
   ]
  },
  {
   "cell_type": "code",
   "execution_count": null,
   "metadata": {
    "id": "lmsDgKbWs_EC"
   },
   "outputs": [],
   "source": [
    "from sklearn.metrics import accuracy_score"
   ]
  },
  {
   "cell_type": "code",
   "execution_count": null,
   "metadata": {
    "id": "NJRu_39BtAba"
   },
   "outputs": [],
   "source": [
    "## Implement method implementing accuracy metric\n",
    "\n",
    "def acc(labels, predictions):\n",
    "    ## START\n",
    "\n",
    "    ## END"
   ]
  },
  {
   "cell_type": "code",
   "execution_count": null,
   "metadata": {
    "colab": {
     "base_uri": "https://localhost:8080/",
     "height": 69
    },
    "id": "NoMyGKmgLb0N",
    "outputId": "5272739c-35fe-43ad-d1ff-1322cae4a7f4"
   },
   "outputs": [],
   "source": [
    "printmd('Accuracy custom  {}'.format(acc(db_balanced, out_balanced)))\n",
    "printmd('Accuracy sklearn {}'.format(accuracy_score(db_balanced, out_balanced)))"
   ]
  },
  {
   "cell_type": "markdown",
   "metadata": {
    "id": "Ccy10E8SxrFo"
   },
   "source": [
    "*More positives*"
   ]
  },
  {
   "cell_type": "code",
   "execution_count": null,
   "metadata": {
    "colab": {
     "base_uri": "https://localhost:8080/",
     "height": 69
    },
    "id": "KXJeQ3FoLhxD",
    "outputId": "0b04155c-e52c-40db-abac-fe25a6e2ab89"
   },
   "outputs": [],
   "source": [
    "printmd('Accuracy custom  {}'.format(acc(db_positives, out_positives)))\n",
    "printmd('Accuracy sklearn {}'.format(accuracy_score(db_positives, out_positives)))"
   ]
  },
  {
   "cell_type": "markdown",
   "metadata": {
    "id": "dNg3HSBl05u5"
   },
   "source": [
    "*More negatives*"
   ]
  },
  {
   "cell_type": "code",
   "execution_count": null,
   "metadata": {
    "colab": {
     "base_uri": "https://localhost:8080/",
     "height": 69
    },
    "id": "Cx2g53N5MIqo",
    "outputId": "c6618628-9a7b-4fd4-cfa6-80c6182fcf3b"
   },
   "outputs": [],
   "source": [
    "printmd('Accuracy custom  {}'.format(acc(db_negatives, out_negatives)))\n",
    "printmd('Accuracy sklearn {}'.format(accuracy_score(db_negatives, out_negatives)))"
   ]
  },
  {
   "cell_type": "markdown",
   "metadata": {
    "id": "KTznNaSf12Rp"
   },
   "source": [
    "*More positives - all positive predictions*"
   ]
  },
  {
   "cell_type": "code",
   "execution_count": null,
   "metadata": {
    "colab": {
     "base_uri": "https://localhost:8080/",
     "height": 46
    },
    "id": "dMTz85yd19-U",
    "outputId": "4099d620-db8b-40b2-9fdd-c23006dc461c"
   },
   "outputs": [],
   "source": [
    "printmd('Accuracy {}'.format(accuracy_score(db_positives, np.ones(length))))"
   ]
  },
  {
   "cell_type": "markdown",
   "metadata": {
    "id": "GL58rBek2CE9"
   },
   "source": [
    "*More negatives - all negative predictions*"
   ]
  },
  {
   "cell_type": "code",
   "execution_count": null,
   "metadata": {
    "colab": {
     "base_uri": "https://localhost:8080/",
     "height": 46
    },
    "id": "VUuMI2rg2J_Z",
    "outputId": "9c8c1d8c-6ea7-4cfe-db79-e4bb52dffb10"
   },
   "outputs": [],
   "source": [
    "printmd('Accuracy {}'.format(accuracy_score(db_negatives, np.zeros(length))))"
   ]
  },
  {
   "cell_type": "markdown",
   "metadata": {
    "id": "3dNGLO2gOYNz"
   },
   "source": [
    "### **Confusion Matrix**"
   ]
  },
  {
   "cell_type": "code",
   "execution_count": null,
   "metadata": {
    "id": "CrFzaWUoRhSR"
   },
   "outputs": [],
   "source": [
    "from sklearn.metrics import confusion_matrix, ConfusionMatrixDisplay"
   ]
  },
  {
   "cell_type": "markdown",
   "metadata": {
    "id": "4MWoqWaRRjbU"
   },
   "source": [
    "*Balanced dataset*"
   ]
  },
  {
   "cell_type": "code",
   "execution_count": null,
   "metadata": {
    "colab": {
     "base_uri": "https://localhost:8080/",
     "height": 300
    },
    "id": "VJbxGSFDRjbV",
    "outputId": "01d1b946-acc4-4748-c17c-d08979b6d127"
   },
   "outputs": [],
   "source": [
    "cmd = ConfusionMatrixDisplay(confusion_matrix(db_balanced, out_balanced), display_labels=[0,1])\n",
    "cmd.plot()"
   ]
  },
  {
   "cell_type": "markdown",
   "metadata": {
    "id": "lX9stMaoRjbV"
   },
   "source": [
    "*More positives*"
   ]
  },
  {
   "cell_type": "code",
   "execution_count": null,
   "metadata": {
    "colab": {
     "base_uri": "https://localhost:8080/",
     "height": 298
    },
    "id": "ZzrYMuS8RjbV",
    "outputId": "6fc04e97-f77b-47dc-be2f-b8028df11a68"
   },
   "outputs": [],
   "source": [
    "cmd = ConfusionMatrixDisplay(confusion_matrix(db_positives, out_positives), display_labels=[0,1])\n",
    "cmd.plot()"
   ]
  },
  {
   "cell_type": "markdown",
   "metadata": {
    "id": "5qlL-pdVRjbV"
   },
   "source": [
    "*More negatives*"
   ]
  },
  {
   "cell_type": "code",
   "execution_count": null,
   "metadata": {
    "colab": {
     "base_uri": "https://localhost:8080/",
     "height": 298
    },
    "id": "3jIrcU0HRjbV",
    "outputId": "8587b0b2-e21a-41ab-afe0-2ec890dd60ec"
   },
   "outputs": [],
   "source": [
    "cmd = ConfusionMatrixDisplay(confusion_matrix(db_negatives, out_negatives), display_labels=[0,1])\n",
    "cmd.plot()"
   ]
  },
  {
   "cell_type": "markdown",
   "metadata": {
    "id": "PXqSUk5RRjbV"
   },
   "source": [
    "*More positives - all positive predictions*"
   ]
  },
  {
   "cell_type": "code",
   "execution_count": null,
   "metadata": {
    "colab": {
     "base_uri": "https://localhost:8080/",
     "height": 296
    },
    "id": "FjAXXGUyRjbV",
    "outputId": "68df2401-88aa-483a-c81b-3a61014458c9"
   },
   "outputs": [],
   "source": [
    "cmd = ConfusionMatrixDisplay(confusion_matrix(db_positives, np.ones(length)), display_labels=[0,1])\n",
    "cmd.plot()"
   ]
  },
  {
   "cell_type": "markdown",
   "metadata": {
    "id": "oy1N3Ci0RjbV"
   },
   "source": [
    "*More negatives - all negative predictions*"
   ]
  },
  {
   "cell_type": "code",
   "execution_count": null,
   "metadata": {
    "colab": {
     "base_uri": "https://localhost:8080/",
     "height": 296
    },
    "id": "JQ2pmqqoRjbW",
    "outputId": "19b3a1bd-8eca-47b0-a541-4f69a67cfb92"
   },
   "outputs": [],
   "source": [
    "cmd = ConfusionMatrixDisplay(confusion_matrix(db_negatives, np.zeros(length)), display_labels=[0,1])\n",
    "cmd.plot()"
   ]
  },
  {
   "cell_type": "markdown",
   "metadata": {
    "id": "FCx6fqc-3StA"
   },
   "source": [
    "### **Precision**\n",
    "\n",
    "Tasks:\n",
    "\n",
    "* Create method implementing precision metric"
   ]
  },
  {
   "cell_type": "code",
   "execution_count": null,
   "metadata": {
    "id": "oHAc8DiSM3ze"
   },
   "outputs": [],
   "source": [
    "from sklearn.metrics import precision_score"
   ]
  },
  {
   "cell_type": "code",
   "execution_count": null,
   "metadata": {
    "id": "TNbSKz7f3ZUZ"
   },
   "outputs": [],
   "source": [
    "## Create method implementing precision metric\n",
    "\n",
    "def precision(labels, predictions):\n",
    "    ## START\n",
    "\n",
    "    ## END"
   ]
  },
  {
   "cell_type": "markdown",
   "metadata": {
    "id": "0-Am2lLc4mQR"
   },
   "source": [
    "*Balanced dataset*"
   ]
  },
  {
   "cell_type": "code",
   "execution_count": null,
   "metadata": {
    "colab": {
     "base_uri": "https://localhost:8080/",
     "height": 69
    },
    "id": "BLRiydnO4ixC",
    "outputId": "aba951b7-6c7a-417b-a2c6-0ce221fb1f0e"
   },
   "outputs": [],
   "source": [
    "printmd('Precision custom  {}'.format(precision(db_balanced, out_balanced)))\n",
    "printmd('Precision sklearn {}'.format(precision_score(db_balanced, out_balanced)))"
   ]
  },
  {
   "cell_type": "markdown",
   "metadata": {
    "id": "Cj2Yma9N5EU_"
   },
   "source": [
    "*More positives*"
   ]
  },
  {
   "cell_type": "code",
   "execution_count": null,
   "metadata": {
    "colab": {
     "base_uri": "https://localhost:8080/",
     "height": 69
    },
    "id": "f7nAHEuh5HU7",
    "outputId": "99306d3e-03ff-43d0-b62f-728485fd0716"
   },
   "outputs": [],
   "source": [
    "printmd('Precision custom  {}'.format(precision(db_positives, out_positives)))\n",
    "printmd('Precision sklearn {}'.format(precision_score(db_positives, out_positives)))"
   ]
  },
  {
   "cell_type": "markdown",
   "metadata": {
    "id": "cRdXfkLA6UeT"
   },
   "source": [
    "*More negatives*"
   ]
  },
  {
   "cell_type": "code",
   "execution_count": null,
   "metadata": {
    "colab": {
     "base_uri": "https://localhost:8080/",
     "height": 69
    },
    "id": "3ZjLORi06ZeJ",
    "outputId": "f6f11193-7752-4302-9d13-590c99eeaccd"
   },
   "outputs": [],
   "source": [
    "printmd('Precision custom  {}'.format(precision(db_negatives, out_negatives)))\n",
    "printmd('Precision sklearn {}'.format(precision_score(db_negatives, out_negatives)))"
   ]
  },
  {
   "cell_type": "markdown",
   "metadata": {
    "id": "SC60Fixi9Gqw"
   },
   "source": [
    "*More positives - all positive predictions*"
   ]
  },
  {
   "cell_type": "code",
   "execution_count": null,
   "metadata": {
    "colab": {
     "base_uri": "https://localhost:8080/",
     "height": 69
    },
    "id": "bjzNpjB79HDi",
    "outputId": "8e678fce-429e-43f3-9a1b-8e1e7e7eb731"
   },
   "outputs": [],
   "source": [
    "printmd('Precision custom  {}'.format(precision(db_positives, np.ones(length))))\n",
    "printmd('Precision sklearn {}'.format(precision_score(db_positives, np.ones(length))))"
   ]
  },
  {
   "cell_type": "markdown",
   "metadata": {
    "id": "VTawz7jW9Qor"
   },
   "source": [
    "*More negatives - all negative predictions*"
   ]
  },
  {
   "cell_type": "code",
   "execution_count": null,
   "metadata": {
    "colab": {
     "base_uri": "https://localhost:8080/",
     "height": 129
    },
    "id": "AAldzU3d9RAZ",
    "outputId": "701068e3-ee20-45c3-8a15-e11165d8ad6c"
   },
   "outputs": [],
   "source": [
    "printmd('Precision custom  {}'.format(precision(db_negatives, np.zeros(length))))\n",
    "printmd('Precision sklearn {}'.format(precision_score(db_negatives, np.zeros(length))))"
   ]
  },
  {
   "cell_type": "markdown",
   "metadata": {
    "id": "_f6bYQLQ3Zp6"
   },
   "source": [
    "### **Recall**\n",
    "\n",
    "Tasks:\n",
    "\n",
    "* Create method implementing recall metric"
   ]
  },
  {
   "cell_type": "code",
   "execution_count": null,
   "metadata": {
    "id": "0n-ABqLGM8qT"
   },
   "outputs": [],
   "source": [
    "from sklearn.metrics import recall_score"
   ]
  },
  {
   "cell_type": "code",
   "execution_count": null,
   "metadata": {
    "id": "IgtRZQl13dt5"
   },
   "outputs": [],
   "source": [
    "## Create method implementing recall metric\n",
    "\n",
    "def recall(labels, predictions):\n",
    "    ## START\n",
    "\n",
    "    ## END"
   ]
  },
  {
   "cell_type": "markdown",
   "metadata": {
    "id": "fTZTXQdEJ5N8"
   },
   "source": [
    "*Balanced dataset*"
   ]
  },
  {
   "cell_type": "code",
   "execution_count": null,
   "metadata": {
    "colab": {
     "base_uri": "https://localhost:8080/",
     "height": 69
    },
    "id": "hOtrKCJYJ8JH",
    "outputId": "3c65dbf8-e4e5-4492-a1ee-4bf9194159d5"
   },
   "outputs": [],
   "source": [
    "printmd('Recall custom  {}'.format(recall(db_balanced, out_balanced)))\n",
    "printmd('Recall sklearn {}'.format(recall_score(db_balanced, out_balanced)))"
   ]
  },
  {
   "cell_type": "markdown",
   "metadata": {
    "id": "Hy7MIqZeKEoq"
   },
   "source": [
    "*More positives*\n"
   ]
  },
  {
   "cell_type": "code",
   "execution_count": null,
   "metadata": {
    "colab": {
     "base_uri": "https://localhost:8080/",
     "height": 69
    },
    "id": "-no_xwTJKM5W",
    "outputId": "cbd40837-8652-48f3-86f4-7bee51467f5b"
   },
   "outputs": [],
   "source": [
    "printmd('Recall custom  {}'.format(recall(db_positives, out_positives)))\n",
    "printmd('Recall sklearn {}'.format(recall_score(db_positives, out_positives)))"
   ]
  },
  {
   "cell_type": "markdown",
   "metadata": {
    "id": "Jt-t4ratKhW4"
   },
   "source": [
    "*More negatives*"
   ]
  },
  {
   "cell_type": "code",
   "execution_count": null,
   "metadata": {
    "colab": {
     "base_uri": "https://localhost:8080/",
     "height": 69
    },
    "id": "mD2xUGVXKkWd",
    "outputId": "a49d7ec5-8aac-425a-a866-0a105dbac0f9"
   },
   "outputs": [],
   "source": [
    "printmd('Recall custom  {}'.format(recall(db_negatives, out_negatives)))\n",
    "printmd('Recall sklearn {}'.format(recall_score(db_negatives, out_negatives)))"
   ]
  },
  {
   "cell_type": "markdown",
   "metadata": {
    "id": "pf2UOuS6KzWV"
   },
   "source": [
    "*More positives - all positive predictions*"
   ]
  },
  {
   "cell_type": "code",
   "execution_count": null,
   "metadata": {
    "colab": {
     "base_uri": "https://localhost:8080/",
     "height": 69
    },
    "id": "gGQdjPQrK0Vo",
    "outputId": "819fe480-2e28-4ddc-9386-1ed37db4f9d0"
   },
   "outputs": [],
   "source": [
    "printmd('Recall custom  {}'.format(recall(db_positives, np.ones(length))))\n",
    "printmd('Recall sklearn {}'.format(recall_score(db_positives, np.ones(length))))"
   ]
  },
  {
   "cell_type": "markdown",
   "metadata": {
    "id": "IGD8hnhnLAC1"
   },
   "source": [
    "*More negatives - all negative predictions*"
   ]
  },
  {
   "cell_type": "code",
   "execution_count": null,
   "metadata": {
    "colab": {
     "base_uri": "https://localhost:8080/",
     "height": 69
    },
    "id": "ISqqVF3tLDXA",
    "outputId": "7dc7fa91-c552-4ca5-e558-6f6c9f3e6ec0"
   },
   "outputs": [],
   "source": [
    "printmd('Recall custom  {}'.format(recall(db_negatives, np.zeros(length))))\n",
    "printmd('Recall sklearn {}'.format(recall_score(db_negatives, np.zeros(length))))"
   ]
  },
  {
   "cell_type": "markdown",
   "metadata": {
    "id": "JGjt25XTN3dh"
   },
   "source": [
    "### **False Positive Rate = Specificity**"
   ]
  },
  {
   "cell_type": "code",
   "execution_count": null,
   "metadata": {
    "id": "4-HdNu9OOHq2"
   },
   "outputs": [],
   "source": [
    "def fpr(labels, predictions):\n",
    "    assert len(labels)==len(predictions)\n",
    "    fp=0\n",
    "    tn=0\n",
    "    #fpr=fp/(fp+tn)\n",
    "    for i, p in enumerate(predictions):\n",
    "        if p == labels[i] and p == 0:\n",
    "            tn+=1\n",
    "        elif p != labels[i] and p == 1:\n",
    "            fp+=1\n",
    "    if (fp+tn)==0:\n",
    "        return 0\n",
    "    return fp/(fp+tn)"
   ]
  },
  {
   "cell_type": "markdown",
   "metadata": {
    "id": "Oz5zjXuYRaHi"
   },
   "source": [
    "*Balanced dataset*"
   ]
  },
  {
   "cell_type": "code",
   "execution_count": null,
   "metadata": {
    "colab": {
     "base_uri": "https://localhost:8080/",
     "height": 46
    },
    "id": "thp05V5oRaHj",
    "outputId": "70686882-545d-4434-c159-2075221735a5"
   },
   "outputs": [],
   "source": [
    "printmd('fpr {}'.format(fpr(db_balanced, out_balanced)))"
   ]
  },
  {
   "cell_type": "markdown",
   "metadata": {
    "id": "ev1Lk7reRaHj"
   },
   "source": [
    "*More positives*"
   ]
  },
  {
   "cell_type": "code",
   "execution_count": null,
   "metadata": {
    "colab": {
     "base_uri": "https://localhost:8080/",
     "height": 46
    },
    "id": "7brzJvFORaHj",
    "outputId": "e64e6db3-2ae7-437b-e282-4dfec8e6f652"
   },
   "outputs": [],
   "source": [
    "printmd('fpr {}'.format(fpr(db_positives, out_positives)))"
   ]
  },
  {
   "cell_type": "markdown",
   "metadata": {
    "id": "8a_Wt43tRaHj"
   },
   "source": [
    "*More negatives*"
   ]
  },
  {
   "cell_type": "code",
   "execution_count": null,
   "metadata": {
    "colab": {
     "base_uri": "https://localhost:8080/",
     "height": 46
    },
    "id": "uICXSZfSRaHj",
    "outputId": "beb9f6bd-375f-4e0c-99c9-51bc0b015729"
   },
   "outputs": [],
   "source": [
    "printmd('fpr {}'.format(fpr(db_negatives, out_negatives)))"
   ]
  },
  {
   "cell_type": "markdown",
   "metadata": {
    "id": "FIa3J9XfRaHj"
   },
   "source": [
    "*More positives - all positive predictions*"
   ]
  },
  {
   "cell_type": "code",
   "execution_count": null,
   "metadata": {
    "colab": {
     "base_uri": "https://localhost:8080/",
     "height": 46
    },
    "id": "lJEHUZIXRaHk",
    "outputId": "cee3ca7f-0738-4fb3-aca8-234929bee72e"
   },
   "outputs": [],
   "source": [
    "printmd('fpr {}'.format(fpr(db_positives, np.ones(length))))"
   ]
  },
  {
   "cell_type": "markdown",
   "metadata": {
    "id": "UqlO0n1bRaHk"
   },
   "source": [
    "*More negatives - all negative predictions*"
   ]
  },
  {
   "cell_type": "markdown",
   "metadata": {
    "id": "2NtwK7zBN-Ky"
   },
   "source": [
    "### **True Positive Rate = Recall = Sensitivity**"
   ]
  },
  {
   "cell_type": "markdown",
   "metadata": {
    "id": "cd2oM92L2T3g"
   },
   "source": [
    "### **F1 Score**"
   ]
  },
  {
   "cell_type": "code",
   "execution_count": null,
   "metadata": {
    "id": "_NbdeF_Z-6Yv"
   },
   "outputs": [],
   "source": [
    "from sklearn.metrics import f1_score"
   ]
  },
  {
   "cell_type": "code",
   "execution_count": null,
   "metadata": {
    "id": "2MuuqZSkL_uF"
   },
   "outputs": [],
   "source": [
    "def f1():\n",
    "    pass"
   ]
  },
  {
   "cell_type": "markdown",
   "metadata": {
    "id": "iODsJeyQNjne"
   },
   "source": [
    "*Balanced dataset*"
   ]
  },
  {
   "cell_type": "code",
   "execution_count": null,
   "metadata": {
    "colab": {
     "base_uri": "https://localhost:8080/",
     "height": 46
    },
    "id": "WyCKYgEYNR3t",
    "outputId": "8101539c-513b-4c3e-f4ba-1b20498dd31f"
   },
   "outputs": [],
   "source": [
    "printmd('F1 sklearn {}'.format(f1_score(db_balanced, out_balanced)))"
   ]
  },
  {
   "cell_type": "markdown",
   "metadata": {
    "id": "B8zixr54Nogu"
   },
   "source": [
    "*More positives*"
   ]
  },
  {
   "cell_type": "code",
   "execution_count": null,
   "metadata": {
    "colab": {
     "base_uri": "https://localhost:8080/",
     "height": 69
    },
    "id": "mQMzE0rcNrsc",
    "outputId": "46ab0065-1432-4908-d87b-0f5471b92aa4"
   },
   "outputs": [],
   "source": [
    "printmd('F1 sklearn {}'.format(f1_score(db_positives, out_positives)))\n",
    "printmd('F1 sklearn weighted {}'.format(f1_score(db_positives, out_positives, average='weighted')))"
   ]
  },
  {
   "cell_type": "markdown",
   "metadata": {
    "id": "HedudbGaNsBA"
   },
   "source": [
    "*More negatives*"
   ]
  },
  {
   "cell_type": "code",
   "execution_count": null,
   "metadata": {
    "colab": {
     "base_uri": "https://localhost:8080/",
     "height": 69
    },
    "id": "o1x_RB09NvQ3",
    "outputId": "e9d889bf-ff16-4fcf-e260-03669e5594b8"
   },
   "outputs": [],
   "source": [
    "printmd('F1 sklearn {}'.format(f1_score(db_negatives, out_negatives)))\n",
    "printmd('F1 sklearn weighted {}'.format(f1_score(db_negatives, out_negatives, average='weighted')))"
   ]
  },
  {
   "cell_type": "markdown",
   "metadata": {
    "id": "7k5AVf5aNv4i"
   },
   "source": [
    "*More positives - all positive predictions*"
   ]
  },
  {
   "cell_type": "code",
   "execution_count": null,
   "metadata": {
    "colab": {
     "base_uri": "https://localhost:8080/",
     "height": 69
    },
    "id": "2FDLgTbzNysA",
    "outputId": "ae7b12d4-4b7e-46d6-a648-1c5dd78ad79e"
   },
   "outputs": [],
   "source": [
    "printmd('F1 sklearn {}'.format(f1_score(db_positives, np.ones(length))))\n",
    "printmd('F1 sklearn weighted {}'.format(f1_score(db_positives, np.ones(length), average='weighted')))"
   ]
  },
  {
   "cell_type": "markdown",
   "metadata": {
    "id": "bqmRk5OzNzBH"
   },
   "source": [
    "*More negatives - all negative predictions*"
   ]
  },
  {
   "cell_type": "code",
   "execution_count": null,
   "metadata": {
    "colab": {
     "base_uri": "https://localhost:8080/",
     "height": 69
    },
    "id": "nMvuGMRcN1n6",
    "outputId": "181d801f-219e-4e0f-883b-c7e86154fbca"
   },
   "outputs": [],
   "source": [
    "printmd('F1 sklearn {}'.format(f1_score(db_negatives, np.zeros(length))))\n",
    "printmd('F1 sklearn weighted {}'.format(f1_score(db_negatives, np.zeros(length), average='weighted')))"
   ]
  }
 ],
 "metadata": {
  "colab": {
   "name": "Metrics",
   "provenance": []
  },
  "kernelspec": {
   "display_name": "Python 3",
   "language": "python",
   "name": "python3"
  },
  "language_info": {
   "codemirror_mode": {
    "name": "ipython",
    "version": 3
   },
   "file_extension": ".py",
   "mimetype": "text/x-python",
   "name": "python",
   "nbconvert_exporter": "python",
   "pygments_lexer": "ipython3",
   "version": "3.7.10"
  }
 },
 "nbformat": 4,
 "nbformat_minor": 1
}

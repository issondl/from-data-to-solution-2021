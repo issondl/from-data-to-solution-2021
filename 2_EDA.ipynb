{
 "cells": [
  {
   "cell_type": "markdown",
   "metadata": {},
   "source": [
    "<a href=\"https://colab.research.google.com/github/issondl/from-data-to-solution-2021/blob/main/2_EDA.ipynb\" target=\"_parent\"><img src=\"https://colab.research.google.com/assets/colab-badge.svg\" alt=\"Open In Colab\"/></a>"
   ]
  },
  {
   "cell_type": "markdown",
   "metadata": {
    "id": "hA7t9txYZyef"
   },
   "source": [
    "# Exploratory Data Analysis"
   ]
  },
  {
   "cell_type": "markdown",
   "metadata": {
    "id": "MbVOmB9JaO1b"
   },
   "source": [
    "## Imports"
   ]
  },
  {
   "cell_type": "code",
   "execution_count": null,
   "metadata": {
    "id": "52f53LvPKRyM"
   },
   "outputs": [],
   "source": [
    "from itertools import islice\n",
    "\n",
    "%matplotlib inline\n",
    "import matplotlib.pyplot as plt\n",
    "import numpy as np\n",
    "import pandas as pd\n",
    "from tensorflow.keras.preprocessing import image\n",
    "\n",
    "import os\n",
    "from math import ceil\n",
    "\n",
    "import cv2\n",
    "import matplotlib\n",
    "from sklearn.decomposition import PCA"
   ]
  },
  {
   "cell_type": "markdown",
   "metadata": {
    "id": "PjRqUoDXc3oi"
   },
   "source": [
    "## Constants"
   ]
  },
  {
   "cell_type": "code",
   "execution_count": null,
   "metadata": {
    "id": "EHpcNVSHc8mi"
   },
   "outputs": [],
   "source": [
    "DATA_DIR = 'data/'\n",
    "os.makedirs(DATA_DIR, exist_ok=True)\n",
    "\n",
    "CSV_FILE = os.path.join(DATA_DIR, 'nih_chest_xray_single_9c_bb_onehot.csv')\n",
    "IMAGES_ARCHIVE_FILE = os.path.join(DATA_DIR, 'nih_chest_xray_single_9c_256x256.tar.gz')\n",
    "IMAGES_DIR = os.path.join(DATA_DIR, 'images')"
   ]
  },
  {
   "cell_type": "markdown",
   "metadata": {
    "id": "iVD0rJxxdCDb"
   },
   "source": [
    "## Download the prepared data"
   ]
  },
  {
   "cell_type": "code",
   "execution_count": null,
   "metadata": {
    "colab": {
     "base_uri": "https://localhost:8080/"
    },
    "id": "y_ooIp_hJdaT",
    "outputId": "f2d82b41-4569-4f08-b46f-559aecd368d2"
   },
   "outputs": [],
   "source": [
    "if not os.path.exists(CSV_FILE):\n",
    "    ! gdown --id 1i7oUN9QTjOavTPGgvWKq22InrTFN6mYH -O $CSV_FILE\n",
    "else:\n",
    "    print('CSV file ({}) already exists.'.format(CSV_FILE))"
   ]
  },
  {
   "cell_type": "code",
   "execution_count": null,
   "metadata": {
    "colab": {
     "base_uri": "https://localhost:8080/"
    },
    "id": "1m9vhhpyJ_qF",
    "outputId": "f55df39a-50f5-4efd-96f4-ecc412a7a3ec"
   },
   "outputs": [],
   "source": [
    "if not os.path.exists(IMAGES_ARCHIVE_FILE):\n",
    "    ! gdown --id 1Cg7dbE1tWSBvdTfGc0G272SA_j_XocOW -O $IMAGES_ARCHIVE_FILE\n",
    "else:\n",
    "    print('Images archive file ({}) already exists.'.format(IMAGES_ARCHIVE_FILE))"
   ]
  },
  {
   "cell_type": "code",
   "execution_count": null,
   "metadata": {
    "colab": {
     "base_uri": "https://localhost:8080/"
    },
    "id": "y0qDCJxWdRyT",
    "outputId": "e7bc9563-3d11-435b-a4a7-a787a7f14572"
   },
   "outputs": [],
   "source": [
    "if not os.path.exists(IMAGES_DIR):\n",
    "    ! tar -xzf $IMAGES_ARCHIVE_FILE\n",
    "    print('Unpacked to {}'.format(IMAGES_DIR))\n",
    "else:\n",
    "    print('Images have already been unpacked ({}).'.format(IMAGES_DIR))"
   ]
  },
  {
   "cell_type": "markdown",
   "metadata": {
    "id": "MAQGy0l2dYVD"
   },
   "source": [
    "## Explore data"
   ]
  },
  {
   "cell_type": "code",
   "execution_count": null,
   "metadata": {
    "colab": {
     "base_uri": "https://localhost:8080/",
     "height": 456
    },
    "id": "1Wh44P3wipjU",
    "outputId": "c16f51b0-5764-4b46-8587-32596efdada3"
   },
   "outputs": [],
   "source": [
    "df = pd.read_csv(CSV_FILE)\n",
    "df"
   ]
  },
  {
   "cell_type": "markdown",
   "metadata": {
    "id": "BhfIFWSc9U6Q"
   },
   "source": [
    "## Visualize ground-truth bounding boxes\n",
    "\n",
    "Tasks:\n",
    "\n",
    "1. Create new dataframe containing all samples with bounding box annotation\n",
    "2. Create dataframe with 3 samples from each category for visualization\n",
    "3. Visualize selected samples with bounding boxes"
   ]
  },
  {
   "cell_type": "code",
   "execution_count": null,
   "metadata": {
    "colab": {
     "base_uri": "https://localhost:8080/",
     "height": 456
    },
    "id": "GNeEouCySaJ2",
    "outputId": "cddb0cc0-b747-4e74-d6cb-283346abc3df"
   },
   "outputs": [],
   "source": [
    "## Create new dataframe containing all samples with bounding box annotation\n"
   ]
  },
  {
   "cell_type": "code",
   "execution_count": null,
   "metadata": {
    "colab": {
     "base_uri": "https://localhost:8080/",
     "height": 878
    },
    "id": "9XlVmTgZabxz",
    "outputId": "0de8cf79-8539-445e-f08c-fd8cf3fc9f86"
   },
   "outputs": [],
   "source": [
    "## Create dataframe with 3 samples from each category\n"
   ]
  },
  {
   "cell_type": "code",
   "execution_count": null,
   "metadata": {
    "colab": {
     "base_uri": "https://localhost:8080/",
     "height": 1000
    },
    "id": "hXpWj8qRekWE",
    "outputId": "4ca62988-3137-45fa-d86b-919c09414405"
   },
   "outputs": [],
   "source": [
    "## Visualize selected samples with bounding boxes\n",
    "fig = plt.figure(figsize=(no_per_cat*3, no_cat_bb*3))\n",
    "\n",
    "for i, (index, row) in enumerate(df_bb_grouped.iterrows()):\n",
    "    ax = fig.add_subplot(no_cat_bb, no_per_cat, i+1)\n",
    "    img = cv2.imread(row['File Path'])\n",
    "    img = cv2.cvtColor(img, cv2.COLOR_BGR2GRAY)\n",
    "    color = (0, 0, 0)\n",
    "    thick = 2\n",
    "\n",
    "    ## START\n",
    "    \n",
    "    ## END\n",
    "\n",
    "    plt.imshow(img, cmap=\"gray\")\n",
    "    plt.title(row['Finding Labels'])\n",
    "    plt.axis('off')"
   ]
  },
  {
   "cell_type": "markdown",
   "metadata": {
    "id": "9ifx3bSBJs9S"
   },
   "source": [
    "## Explore characteristics of each category\n",
    "\n",
    "Tasks:\n",
    "\n",
    "* Get a mean image of each category\n",
    "* Visualize difference between selected category (mean) and `No Finding` (mean)\n",
    "* Get a stdev image of each category"
   ]
  },
  {
   "cell_type": "code",
   "execution_count": null,
   "metadata": {
    "id": "FpimOsmVYVus"
   },
   "outputs": [],
   "source": [
    "# Load 25 images from each category into a dictionary\n",
    "no_per_cat = 25\n",
    "no_cat = len(df['Finding Labels'].unique()) # includes 'No Finding'\n",
    "df_grouped = df.groupby(['Finding Labels']).apply(lambda g: g.sample(no_per_cat, random_state=2021))\n",
    "no_per_cat = 1\n",
    "\n",
    "loaded_imgs = {}\n",
    "\n",
    "for index, row in df_grouped.iterrows():\n",
    "    img = image.load_img(row['File Path'], color_mode = 'grayscale')\n",
    "    img = image.img_to_array(img)\n",
    "    try:\n",
    "        loaded_imgs[row['Finding Labels']].append(img)\n",
    "    except KeyError:\n",
    "        loaded_imgs[row['Finding Labels']] = [img]"
   ]
  },
  {
   "cell_type": "code",
   "execution_count": null,
   "metadata": {
    "id": "7EeyWqhNpStV"
   },
   "outputs": [],
   "source": [
    "## Get a mean image of each category\n",
    "mean_images = {}\n",
    "for k, v in loaded_imgs.items():\n",
    "    ## START\n",
    "    \n",
    "    ## END"
   ]
  },
  {
   "cell_type": "code",
   "execution_count": null,
   "metadata": {
    "colab": {
     "base_uri": "https://localhost:8080/",
     "height": 1000
    },
    "id": "2RxQCfSjwZZB",
    "outputId": "ec1c85a9-75b7-4644-ff85-a9e65ddc5d4b"
   },
   "outputs": [],
   "source": [
    "# Visualize mean image of each category\n",
    "fig = plt.figure(figsize=(no_per_cat*3, no_cat*3))\n",
    "\n",
    "for i, (k, v) in enumerate(mean_images.items()):\n",
    "    ax = fig.add_subplot(no_cat, no_per_cat, i+1)\n",
    "    plt.imshow(v.squeeze(), cmap='gray')\n",
    "    plt.title(k)\n",
    "    plt.axis('off')"
   ]
  },
  {
   "cell_type": "code",
   "execution_count": null,
   "metadata": {
    "colab": {
     "base_uri": "https://localhost:8080/",
     "height": 286
    },
    "id": "bCQD-E1uw78w",
    "outputId": "6109b5cf-5403-4161-988a-b62fbbd8363d"
   },
   "outputs": [],
   "source": [
    "## Visualize difference between selected category (mean) and `No Finding` (mean)\n"
   ]
  },
  {
   "cell_type": "markdown",
   "metadata": {
    "id": "Wc4gJVBXLHgm"
   },
   "source": [
    "Useful resources:\n",
    "\n",
    "* [Grad-CAM: Visual Explanations from Deep Networks via Gradient-based Localization](https://arxiv.org/abs/1610.02391)"
   ]
  },
  {
   "cell_type": "code",
   "execution_count": null,
   "metadata": {
    "id": "4XVmTKwJv5pl"
   },
   "outputs": [],
   "source": [
    "## Get a stdev image of each category\n",
    "\n",
    "stddev_images = {}\n",
    "for k, v in loaded_imgs.items():\n",
    "    ## START\n",
    "    \n",
    "    ## END"
   ]
  },
  {
   "cell_type": "code",
   "execution_count": null,
   "metadata": {
    "colab": {
     "base_uri": "https://localhost:8080/",
     "height": 1000
    },
    "id": "9nV3_IO8ycBE",
    "outputId": "e054a6c4-cf87-4b60-f1dc-9d8eb130c149"
   },
   "outputs": [],
   "source": [
    "# Visualize stdev image of each category\n",
    "fig = plt.figure(figsize=(no_per_cat*3, no_cat*3))\n",
    "\n",
    "for i, (k, v) in enumerate(stddev_images.items()):\n",
    "    ax = fig.add_subplot(no_cat, no_per_cat, i+1)\n",
    "    plt.imshow(v.squeeze(), cmap='gray')\n",
    "    plt.title(k)\n",
    "    plt.axis('off')"
   ]
  },
  {
   "cell_type": "code",
   "execution_count": null,
   "metadata": {
    "colab": {
     "base_uri": "https://localhost:8080/",
     "height": 330
    },
    "id": "w2paMPS0PFkN",
    "outputId": "903348b8-f8a3-45a1-d576-69ce33c4fa97"
   },
   "outputs": [],
   "source": [
    "# Visualize difference between selected category (stdev) and `No Finding` (stdev)\n",
    "\n",
    "diff_std = stddev_images['Mass'] - stddev_images['No Finding']\n",
    "cmap = matplotlib.cm.get_cmap('RdBu', 8)\n",
    "\n",
    "fig = plt.figure(figsize=(10, 5))\n",
    "\n",
    "ax = fig.add_subplot(1, 2, 1)\n",
    "diff_std_norm = (diff_std-np.min(diff_std))/(np.max(diff_std)-np.min(diff_std))\n",
    "plt.imshow(diff_std_norm.squeeze(), cmap=cmap)\n",
    "plt.title('DIFF STD')\n",
    "plt.axis('off')\n",
    "plt.colorbar()\n",
    "\n",
    "ax = fig.add_subplot(1, 2, 2)\n",
    "diff_mean_norm = (diff_mean-np.min(diff_mean))/(np.max(diff_mean)-np.min(diff_mean))\n",
    "plt.imshow(diff_mean_norm.squeeze(), cmap=cmap)\n",
    "plt.title('DIFF MEAN')\n",
    "plt.axis('off')\n",
    "plt.colorbar()"
   ]
  },
  {
   "cell_type": "markdown",
   "metadata": {
    "id": "6U5sNa27P2tl"
   },
   "source": [
    "Tasks:\n",
    "\n",
    "* Use PCA to"
   ]
  },
  {
   "cell_type": "code",
   "execution_count": null,
   "metadata": {
    "id": "K1yC1et4m3cR"
   },
   "outputs": [],
   "source": [
    "## Compute eigenimages using Singular Value Decomposition (SVD)\n",
    "\n",
    "def eigenimages(full_mat, title, n_comp=0.4):\n",
    "    ## START\n",
    "    \n",
    "    ## END\n",
    "    return pca"
   ]
  },
  {
   "cell_type": "code",
   "execution_count": null,
   "metadata": {
    "id": "v4orhfKFm5cG"
   },
   "outputs": [],
   "source": [
    "def plot_pca(imgs, cat=''):\n",
    "    pca = eigenimages(imgs, cat)\n",
    "\n",
    "    n = pca.n_components_\n",
    "    r = int(n**.5)\n",
    "    c = ceil(n/ r)\n",
    "    fig = plt.figure(figsize=(c*5, r*5))\n",
    "\n",
    "    for i in range(n):\n",
    "        ax = fig.add_subplot(r, c, i + 1, xticks = [], yticks = [])\n",
    "        ax.imshow(pca.components_[i].reshape((256, 256)), cmap=cmap)\n",
    "    plt.axis('off')\n",
    "    fig.suptitle(cat, fontsize=14)\n",
    "    plt.show()"
   ]
  },
  {
   "cell_type": "code",
   "execution_count": null,
   "metadata": {
    "id": "OjeOJRPwae66"
   },
   "outputs": [],
   "source": [
    "def convert_imgs(imgs):\n",
    "    full_mat = []\n",
    "    for img in imgs:\n",
    "        img = (img-np.mean(img))/np.std(img)\n",
    "        full_mat.append(img.ravel())\n",
    "    return np.asarray(full_mat)"
   ]
  },
  {
   "cell_type": "code",
   "execution_count": null,
   "metadata": {
    "colab": {
     "base_uri": "https://localhost:8080/",
     "height": 953
    },
    "id": "mY0xcp63sJqF",
    "outputId": "b9f8454d-3198-4748-a466-027f2344b8e5"
   },
   "outputs": [],
   "source": [
    "for cat in ['Nodule', 'Mass', 'Pneumonia']:\n",
    "    np_imgs = convert_imgs(loaded_imgs[cat])\n",
    "    plot_pca(np_imgs, cat)"
   ]
  },
  {
   "cell_type": "markdown",
   "metadata": {
    "id": "8j0zV5udfmg9"
   },
   "source": [
    "## Relation between various classes and gender\n",
    "\n",
    "Tasks:\n",
    "\n",
    "* Create bar plot number of samples in each category w.r.t. gender"
   ]
  },
  {
   "cell_type": "code",
   "execution_count": null,
   "metadata": {
    "colab": {
     "base_uri": "https://localhost:8080/",
     "height": 609
    },
    "id": "WD4ajl7WKYjH",
    "outputId": "e4641bd0-a753-4397-e5f7-a45cc701fa9c"
   },
   "outputs": [],
   "source": [
    "## Create bar plot number of samples in each category w.r.t. gender\n"
   ]
  },
  {
   "cell_type": "markdown",
   "metadata": {
    "id": "nqGksKSzutpk"
   },
   "source": [
    "### AI Fairness\n",
    "\n",
    "Useful resources:\n",
    "\n",
    "* [AI Fairness 360](https://aif360.mybluemix.net/)\n",
    "* [AI Fairness 360 Documentation](https://developer.ibm.com/technologies/artificial-intelligence/projects/ai-fairness-360/)"
   ]
  },
  {
   "cell_type": "code",
   "execution_count": null,
   "metadata": {
    "colab": {
     "base_uri": "https://localhost:8080/"
    },
    "id": "4nyM72isq6D-",
    "outputId": "f5a5dfd7-fafa-432b-d066-4a042fae3449"
   },
   "outputs": [],
   "source": [
    "!pip install aif360\n",
    "!pip install fairlearn"
   ]
  },
  {
   "cell_type": "code",
   "execution_count": null,
   "metadata": {
    "id": "_SYnM6WdcriU"
   },
   "outputs": [],
   "source": [
    "from aif360.algorithms.preprocessing import Reweighing\n",
    "from aif360.datasets import BinaryLabelDataset\n",
    "from aif360.explainers import MetricTextExplainer  # For explaining metrics\n",
    "from aif360.metrics import BinaryLabelDatasetMetric, ClassificationMetric  # For calculating metrics"
   ]
  },
  {
   "cell_type": "code",
   "execution_count": null,
   "metadata": {
    "id": "mq_4HAHp1pyy"
   },
   "outputs": [],
   "source": [
    "cat_1 = 'No Finding'\n",
    "cat_2 = 'Pneumothorax'"
   ]
  },
  {
   "cell_type": "code",
   "execution_count": null,
   "metadata": {
    "id": "2nvOkfIJ1ssn"
   },
   "outputs": [],
   "source": [
    "gender = {'M': 0,'F': 1}\n",
    "df['Patient_Gender_ID'] = [gender[item] for item in df['Patient Gender']]"
   ]
  },
  {
   "cell_type": "code",
   "execution_count": null,
   "metadata": {
    "id": "H11WujUY10zL"
   },
   "outputs": [],
   "source": [
    "finding_id = {k: i for i, k in enumerate(df.columns[8:-1])}\n",
    "df['Finding_ID'] = [finding_id[item] for item in df['Finding Labels']]"
   ]
  },
  {
   "cell_type": "code",
   "execution_count": null,
   "metadata": {
    "colab": {
     "base_uri": "https://localhost:8080/",
     "height": 456
    },
    "id": "FYwEB5vv2PlE",
    "outputId": "cd324403-101c-4a31-f7b8-6ac1b901914f"
   },
   "outputs": [],
   "source": [
    "df_bin = df[(df['Finding_ID'] == finding_id[cat_1]) | (df['Finding_ID'] == finding_id[cat_2])]\n",
    "df_bin"
   ]
  },
  {
   "cell_type": "code",
   "execution_count": null,
   "metadata": {
    "colab": {
     "base_uri": "https://localhost:8080/",
     "height": 609
    },
    "id": "7qZLNCTf2ffw",
    "outputId": "4b44c9f3-191a-45b4-9eb4-45a23dffb209"
   },
   "outputs": [],
   "source": [
    "df_bin.groupby('Patient_Gender_ID')['Finding_ID'].value_counts().unstack(0).plot.barh(figsize=(10,10))"
   ]
  },
  {
   "cell_type": "code",
   "execution_count": null,
   "metadata": {
    "colab": {
     "base_uri": "https://localhost:8080/",
     "height": 456
    },
    "id": "L5NSjU3-2j86",
    "outputId": "1c2a1d05-e6d3-4cd2-d558-5a647f361541"
   },
   "outputs": [],
   "source": [
    "df_bin.query('Patient_Gender_ID == 0')"
   ]
  },
  {
   "cell_type": "code",
   "execution_count": null,
   "metadata": {
    "id": "msx-vjAH2uUU"
   },
   "outputs": [],
   "source": [
    "query = 'Patient_Gender_ID == 1 & Finding ID == {}'.format(finding_id[cat_1])\n",
    "df_bias = df_bin.drop(df_bin.query('Patient_Gender_ID == 1 & Finding_ID == {}'.format(finding_id[cat_1])).sample(frac=.99).index)\n",
    "df_bias = df_bias.drop(df_bias.query('Patient_Gender_ID == 0 & Finding_ID == {}'.format(finding_id[cat_2])).sample(frac=.9).index)\n",
    "df_bias = df_bias.drop(df_bias.query('Patient_Gender_ID == 0 & Finding_ID == {}'.format(finding_id[cat_1])).sample(frac=.9).index)\n",
    "df_bias = df_bias.drop(df_bias.query('Patient_Gender_ID == 1 & Finding_ID == {}'.format(finding_id[cat_2])).sample(frac=.9).index)"
   ]
  },
  {
   "cell_type": "code",
   "execution_count": null,
   "metadata": {
    "colab": {
     "base_uri": "https://localhost:8080/",
     "height": 694
    },
    "id": "_A7nM7zW2y9U",
    "outputId": "56399948-17ed-44a7-aed9-8da736b9269a"
   },
   "outputs": [],
   "source": [
    "df_bias.groupby('Patient_Gender_ID')['Finding_ID'].value_counts().unstack(0).plot.barh(figsize=(10,10))\n",
    "df_bias.groupby('Patient_Gender_ID')['Finding_ID'].value_counts()"
   ]
  },
  {
   "cell_type": "code",
   "execution_count": null,
   "metadata": {
    "colab": {
     "base_uri": "https://localhost:8080/",
     "height": 419
    },
    "id": "AKnYUPrd3Eid",
    "outputId": "31570124-5caa-4b2a-e63c-24672a4fedc3"
   },
   "outputs": [],
   "source": [
    "df_bias_copy = df_bias.copy()\n",
    "df_bias = df_bias[['Patient_Gender_ID', 'Finding_ID']]\n",
    "df_bias"
   ]
  },
  {
   "cell_type": "code",
   "execution_count": null,
   "metadata": {
    "colab": {
     "base_uri": "https://localhost:8080/"
    },
    "id": "TEGvL84p3-06",
    "outputId": "6cce48de-2da6-4ee6-caf7-a6fcb1e9a1a0"
   },
   "outputs": [],
   "source": [
    "train_bld = BinaryLabelDataset(\n",
    "    df=df_bias,\n",
    "    label_names=['Finding_ID'],\n",
    "    protected_attribute_names=['Patient_Gender_ID'],  # Protected attributes are those qualities, traits or characteristics that, by law, cannot be discriminated against.\n",
    "    favorable_label=finding_id[cat_1],\n",
    "    unfavorable_label=finding_id[cat_2],\n",
    ")\n",
    "train_bld"
   ]
  },
  {
   "cell_type": "code",
   "execution_count": null,
   "metadata": {
    "id": "aEcDQ7F_6qfa"
   },
   "outputs": [],
   "source": [
    "privileged_groups = [{'Patient_Gender_ID': 0}]\n",
    "unprivileged_groups = [{'Patient_Gender_ID': 1}]"
   ]
  },
  {
   "cell_type": "code",
   "execution_count": null,
   "metadata": {
    "id": "1JDRz1Ty4sK-"
   },
   "outputs": [],
   "source": [
    "metric_train_bld = BinaryLabelDatasetMetric(\n",
    "    train_bld,\n",
    "    unprivileged_groups=unprivileged_groups,\n",
    "    privileged_groups=privileged_groups,\n",
    ")"
   ]
  },
  {
   "cell_type": "code",
   "execution_count": null,
   "metadata": {
    "colab": {
     "base_uri": "https://localhost:8080/"
    },
    "id": "J4ocSAYxD8Kd",
    "outputId": "9c41125d-7292-47c0-deb3-78151f88577b"
   },
   "outputs": [],
   "source": [
    "explainer = MetricTextExplainer(metric_train_bld)\n",
    "\n",
    "print(dir(MetricTextExplainer))\n",
    "\n",
    "print(explainer.statistical_parity_difference())\n",
    "print(explainer.disparate_impact())"
   ]
  },
  {
   "cell_type": "code",
   "execution_count": null,
   "metadata": {
    "colab": {
     "base_uri": "https://localhost:8080/",
     "height": 173
    },
    "id": "IFR8v8lMEVtW",
    "outputId": "5661b4a6-bf0d-472e-a265-605d6bca6a30"
   },
   "outputs": [],
   "source": [
    "rw = Reweighing(\n",
    "    unprivileged_groups=unprivileged_groups,\n",
    "    privileged_groups=privileged_groups,\n",
    ")\n",
    "\n",
    "# https://github.com/Trusted-AI/AIF360/blob/master/aif360/sklearn/preprocessing/reweighing.py#L91\n",
    "\n",
    "train_bld_f = rw.fit_transform(train_bld)\n",
    "\n",
    "train_bld_f\n",
    "\n",
    "df_bias['sample weight'] = train_bld_f.instance_weights\n",
    "df_bias_copy['sample weight'] = train_bld_f.instance_weights\n",
    "df_bias.drop_duplicates()"
   ]
  },
  {
   "cell_type": "code",
   "execution_count": null,
   "metadata": {
    "id": "TOAAmYK3eKvj"
   },
   "outputs": [],
   "source": [
    "DATA_DIR = 'data/'\n",
    "df_bias_copy.reindex()\n",
    "df_bias_copy.to_csv(os.path.join(DATA_DIR, 'data_sample_weights.csv'))"
   ]
  },
  {
   "cell_type": "markdown",
   "metadata": {
    "id": "l6Ucjw57ewvf"
   },
   "source": [
    "## Relation between various classes and age"
   ]
  },
  {
   "cell_type": "code",
   "execution_count": null,
   "metadata": {
    "colab": {
     "base_uri": "https://localhost:8080/",
     "height": 779
    },
    "id": "rnwu5dMIL0w3",
    "outputId": "f648f1c0-44d3-45a4-9370-83a6b5e4ed62"
   },
   "outputs": [],
   "source": [
    "df.groupby('Finding Labels')['Patient Age'].plot(kind='kde', alpha=0.6, legend=True, figsize=(10,10))"
   ]
  },
  {
   "cell_type": "code",
   "execution_count": null,
   "metadata": {
    "colab": {
     "base_uri": "https://localhost:8080/",
     "height": 1000
    },
    "id": "2KyMK07ZSIia",
    "outputId": "74677502-0c4a-4ead-c002-438de72ae4b5"
   },
   "outputs": [],
   "source": [
    "no_cat = len(df['Finding Labels'].unique())\n",
    "\n",
    "fig = plt.figure(figsize=(4*15, int(np.ceil(no_cat/4))*15))\n",
    "\n",
    "for i, (name, group) in enumerate(df.groupby('Finding Labels')['Patient Age']):\n",
    "    ax = fig.add_subplot(int(np.ceil(no_cat/4)), 4, i+1)\n",
    "    mean = np.mean(group)\n",
    "    stddev = np.std(group)\n",
    "    group.plot(kind='kde', alpha=0.6, figsize=(20,20))\n",
    "    ax.fill_between(ax.lines[0].get_xdata(), 0, ax.lines[0].get_ydata(),\n",
    "                   where=((mean-stddev) <= ax.lines[0].get_xdata()) & (ax.lines[0].get_xdata() <= (mean+stddev)),\n",
    "                   color='gray', alpha=0.2)\n",
    "    ax.axvline(mean, linestyle='dashed', linewidth=2)\n",
    "    ax.annotate('{:.2f}'.format(mean), [mean, 0.04])\n",
    "    ax.set_title(name)\n",
    "    ax.set_xlim([0, 100])\n",
    "    ax.set_ylim([0, 0.05])\n",
    "\n",
    "plt.tight_layout()"
   ]
  },
  {
   "cell_type": "code",
   "execution_count": null,
   "metadata": {
    "id": "seDMt5wmbe2U"
   },
   "outputs": [],
   "source": []
  }
 ],
 "metadata": {
  "colab": {
   "collapsed_sections": [],
   "name": "2_EAD.ipynb",
   "provenance": []
  },
  "kernelspec": {
   "display_name": "Python 3",
   "language": "python",
   "name": "python3"
  },
  "language_info": {
   "codemirror_mode": {
    "name": "ipython",
    "version": 3
   },
   "file_extension": ".py",
   "mimetype": "text/x-python",
   "name": "python",
   "nbconvert_exporter": "python",
   "pygments_lexer": "ipython3",
   "version": "3.7.10"
  }
 },
 "nbformat": 4,
 "nbformat_minor": 1
}
